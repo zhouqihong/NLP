{
 "cells": [
  {
   "cell_type": "code",
   "execution_count": 1,
   "metadata": {},
   "outputs": [],
   "source": [
    "import matplotlib"
   ]
  },
  {
   "cell_type": "code",
   "execution_count": 2,
   "metadata": {},
   "outputs": [
    {
     "data": {
      "text/plain": [
       "['/Users/mqgao/anaconda3/lib/python3.7/site-packages/matplotlib']"
      ]
     },
     "execution_count": 2,
     "metadata": {},
     "output_type": "execute_result"
    }
   ],
   "source": [
    "matplotlib.__path__"
   ]
  },
  {
   "cell_type": "code",
   "execution_count": 3,
   "metadata": {},
   "outputs": [],
   "source": [
    "import matplotlib.pyplot as plt"
   ]
  },
  {
   "cell_type": "code",
   "execution_count": 1,
   "metadata": {
    "scrolled": true
   },
   "outputs": [
    {
     "name": "stdout",
     "output_type": "stream",
     "text": [
      "Lecture-01.ipynb\r\n",
      "Lesson-02-LanguageModel-and-Machine-Learning.ipynb\r\n",
      "Lesson-03.ipynb\r\n",
      "Mathematical - Foundation-Part-2.ipynb\r\n",
      "Mathmatical-Foundation-01.ipynb\r\n",
      "Untitled.ipynb\r\n",
      "\u001b[1m\u001b[36massignments\u001b[m\u001b[m\r\n",
      "\u001b[1m\u001b[36mprogramming-ability-testing\u001b[m\u001b[m\r\n",
      "\u001b[1m\u001b[36mpython-sci-computing\u001b[m\u001b[m\r\n"
     ]
    }
   ],
   "source": [
    "!ls"
   ]
  },
  {
   "cell_type": "code",
   "execution_count": 60,
   "metadata": {},
   "outputs": [],
   "source": [
    "f = open('Lecture-01.ipynb')"
   ]
  },
  {
   "cell_type": "code",
   "execution_count": 61,
   "metadata": {},
   "outputs": [
    {
     "data": {
      "text/plain": [
       "['{\\n',\n",
       " ' \"cells\": [\\n',\n",
       " '  {\\n',\n",
       " '   \"cell_type\": \"markdown\",\\n',\n",
       " '   \"metadata\": {},\\n',\n",
       " '   \"source\": [\\n',\n",
       " '    \"## Map Search\"\\n',\n",
       " '   ]\\n',\n",
       " '  },\\n',\n",
       " '  {\\n',\n",
       " '   \"cell_type\": \"code\",\\n',\n",
       " '   \"execution_count\": 4,\\n',\n",
       " '   \"metadata\": {},\\n',\n",
       " '   \"outputs\": [],\\n',\n",
       " '   \"source\": [\\n',\n",
       " '    \"BEIJING, CHANGCHUN, MULUMUQI, WUHAN, GUNAGHZOU, SHENZHEN, BANGKOK, SHANGHAI, NEWYORK = \\\\\"\\\\\"\\\\\"\\\\n\",\\n',\n",
       " '    \"BEIJING CHANGCHUN MULUMUQI WUHAN GUANGZHOU SHENZHEN BANGKOK SHANGHAI NEWYORK\\\\n\",\\n',\n",
       " '    \"\\\\\"\\\\\"\\\\\".split()\"\\n',\n",
       " '   ]\\n',\n",
       " '  },\\n',\n",
       " '  {\\n',\n",
       " '   \"cell_type\": \"code\",\\n',\n",
       " '   \"execution_count\": 9,\\n',\n",
       " '   \"metadata\": {},\\n',\n",
       " '   \"outputs\": [],\\n',\n",
       " '   \"source\": [\\n',\n",
       " '    \"dictionary = {}\"\\n',\n",
       " '   ]\\n',\n",
       " '  },\\n',\n",
       " '  {\\n',\n",
       " '   \"cell_type\": \"code\",\\n',\n",
       " '   \"execution_count\": 19,\\n',\n",
       " '   \"metadata\": {},\\n',\n",
       " '   \"outputs\": [],\\n',\n",
       " '   \"source\": [\\n',\n",
       " '    \"connection = {\\\\n\",\\n',\n",
       " '    \"    CHANGCHUN: [BEIJING],\\\\n\",\\n',\n",
       " '    \"    MULUMUQI: [BEIJING], \\\\n\",\\n',\n",
       " '    \"    BEIJING: [MULUMUQI, CHANGCHUN, WUHAN, SHENZHEN, NEWYORK],\\\\n\",\\n',\n",
       " '    \"    NEWYORK: [BEIJING, SHANGHAI],\\\\n\",\\n',\n",
       " '    \"    SHANGHAI: [NEWYORK, WUHAN],\\\\n\",\\n',\n",
       " '    \"    WUHAN: [SHANGHAI, BEIJING, GUNAGHZOU],\\\\n\",\\n',\n",
       " '    \"    GUNAGHZOU: [WUHAN, BANGKOK],\\\\n\",\\n',\n",
       " '    \"    SHENZHEN: [WUHAN, BANGKOK],\\\\n\",\\n',\n",
       " '    \"    BANGKOK: [SHENZHEN, GUNAGHZOU]\\\\n\",\\n',\n",
       " '    \"}\"\\n',\n",
       " '   ]\\n',\n",
       " '  },\\n',\n",
       " '  {\\n',\n",
       " '   \"cell_type\": \"code\",\\n',\n",
       " '   \"execution_count\": 22,\\n',\n",
       " '   \"metadata\": {},\\n',\n",
       " '   \"outputs\": [],\\n',\n",
       " '   \"source\": [\\n',\n",
       " '    \"import networkx as nx\"\\n',\n",
       " '   ]\\n',\n",
       " '  },\\n',\n",
       " '  {\\n',\n",
       " '   \"cell_type\": \"code\",\\n',\n",
       " '   \"execution_count\": 24,\\n',\n",
       " '   \"metadata\": {},\\n',\n",
       " '   \"outputs\": [],\\n',\n",
       " '   \"source\": [\\n',\n",
       " '    \"%matplotlib inline\"\\n',\n",
       " '   ]\\n',\n",
       " '  },\\n',\n",
       " '  {\\n',\n",
       " '   \"cell_type\": \"code\",\\n',\n",
       " '   \"execution_count\": 25,\\n',\n",
       " '   \"metadata\": {},\\n',\n",
       " '   \"outputs\": [],\\n',\n",
       " '   \"source\": [\\n',\n",
       " '    \"graph = connection\"\\n',\n",
       " '   ]\\n',\n",
       " '  },\\n',\n",
       " '  {\\n',\n",
       " '   \"cell_type\": \"code\",\\n',\n",
       " '   \"execution_count\": 27,\\n',\n",
       " '   \"metadata\": {},\\n',\n",
       " '   \"outputs\": [],\\n',\n",
       " '   \"source\": [\\n',\n",
       " '    \"g = nx.Graph(graph)\"\\n',\n",
       " '   ]\\n',\n",
       " '  },\\n',\n",
       " '  {\\n',\n",
       " '   \"cell_type\": \"code\",\\n',\n",
       " '   \"execution_count\": 30,\\n',\n",
       " '   \"metadata\": {},\\n',\n",
       " '   \"outputs\": [\\n',\n",
       " '    {\\n',\n",
       " '     \"data\": {\\n',\n",
       " '      \"image/png\": \"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\\\\n\",\\n',\n",
       " '      \"text/plain\": [\\n',\n",
       " '       \"<Figure size 432x288 with 1 Axes>\"\\n',\n",
       " '      ]\\n',\n",
       " '     },\\n',\n",
       " '     \"metadata\": {},\\n',\n",
       " '     \"output_type\": \"display_data\"\\n',\n",
       " '    }\\n',\n",
       " '   ],\\n',\n",
       " '   \"source\": [\\n',\n",
       " '    \"nx.draw(g)\"\\n',\n",
       " '   ]\\n',\n",
       " '  },\\n',\n",
       " '  {\\n',\n",
       " '   \"cell_type\": \"code\",\\n',\n",
       " '   \"execution_count\": 107,\\n',\n",
       " '   \"metadata\": {},\\n',\n",
       " '   \"outputs\": [],\\n',\n",
       " '   \"source\": [\\n',\n",
       " '    \"def nagivator(start, destination, connection_graph):\\\\n\",\\n',\n",
       " '    \"    pathes = [[start] ]\\\\n\",\\n',\n",
       " '    \"    seen = set()\\\\n\",\\n',\n",
       " '    \"    \\\\n\",\\n',\n",
       " '    \"    while pathes:\\\\n\",\\n',\n",
       " '    \"        path = pathes.pop(0)\\\\n\",\\n',\n",
       " '    \"        froniter = path[-1]\\\\n\",\\n',\n",
       " '    \"        \\\\n\",\\n',\n",
       " '    \"        if froniter in seen: continue\\\\n\",\\n',\n",
       " '    \"            \\\\n\",\\n',\n",
       " '    \"        successors = connection_graph[froniter]\\\\n\",\\n',\n",
       " '    \"        \\\\n\",\\n',\n",
       " '    \"        for s in successors: \\\\n\",\\n',\n",
       " '    \"            if s == destination: \\\\n\",\\n',\n",
       " '    \"                path.append(s)\\\\n\",\\n',\n",
       " '    \"                return path\\\\n\",\\n',\n",
       " '    \"            else:\\\\n\",\\n',\n",
       " '    \"                pathes.append(path + [s])  \\\\n\",\\n',\n",
       " '    \"                \\\\n\",\\n',\n",
       " '    \"        pathes = sorted(pathes, key=len) # 最小换成\\\\n\",\\n',\n",
       " '    \"                \\\\n\",\\n',\n",
       " '    \"        seen.add(froniter)\"\\n',\n",
       " '   ]\\n',\n",
       " '  },\\n',\n",
       " '  {\\n',\n",
       " '   \"cell_type\": \"code\",\\n',\n",
       " '   \"execution_count\": 128,\\n',\n",
       " '   \"metadata\": {},\\n',\n",
       " '   \"outputs\": [],\\n',\n",
       " '   \"source\": [\\n',\n",
       " '    \"def nagivator_bfs(start, destination, connection_graph):\\\\n\",\\n',\n",
       " '    \"    pathes = [start ]\\\\n\",\\n',\n",
       " '    \"    seen = set()\\\\n\",\\n',\n",
       " '    \"    \\\\n\",\\n',\n",
       " '    \"    while pathes:\\\\n\",\\n',\n",
       " '    \"        froniter = pathes.pop(0)\\\\n\",\\n',\n",
       " '    \"        \\\\n\",\\n',\n",
       " '    \"        if froniter in seen: continue\\\\n\",\\n',\n",
       " '    \"            \\\\n\",\\n',\n",
       " '    \"        successors = connection_graph[froniter]\\\\n\",\\n',\n",
       " '    \"        print(\\'standing on {} Looking forward {}\\'.format(froniter, successors))\\\\n\",\\n',\n",
       " '    \"        pathes = pathes + successors\\\\n\",\\n',\n",
       " '    \"                \\\\n\",\\n',\n",
       " '    \"        seen.add(froniter)\"\\n',\n",
       " '   ]\\n',\n",
       " '  },\\n',\n",
       " '  {\\n',\n",
       " '   \"cell_type\": \"code\",\\n',\n",
       " '   \"execution_count\": 132,\\n',\n",
       " '   \"metadata\": {},\\n',\n",
       " '   \"outputs\": [],\\n',\n",
       " '   \"source\": [\\n',\n",
       " '    \"connection_2 = {\\\\n\",\\n',\n",
       " '    \"    0: [1, 5], \\\\n\",\\n',\n",
       " '    \"    1: [0, 2], \\\\n\",\\n',\n",
       " '    \"    2: [1, 3], \\\\n\",\\n',\n",
       " '    \"    3: [2, 4], \\\\n\",\\n',\n",
       " '    \"    4: [3],\\\\n\",\\n',\n",
       " '    \"    5: [0, 6], \\\\n\",\\n',\n",
       " '    \"    6: [5, 7],\\\\n\",\\n',\n",
       " '    \"    7: [6]\\\\n\",\\n',\n",
       " '    \"}\"\\n',\n",
       " '   ]\\n',\n",
       " '  },\\n',\n",
       " '  {\\n',\n",
       " '   \"cell_type\": \"code\",\\n',\n",
       " '   \"execution_count\": 129,\\n',\n",
       " '   \"metadata\": {},\\n',\n",
       " '   \"outputs\": [\\n',\n",
       " '    {\\n',\n",
       " '     \"name\": \"stderr\",\\n',\n",
       " '     \"output_type\": \"stream\",\\n',\n",
       " '     \"text\": [\\n',\n",
       " '      \"/Users/mqgao/anaconda3/lib/python3.7/site-packages/networkx/drawing/nx_pylab.py:611: MatplotlibDeprecationWarning: isinstance(..., numbers.Number)\\\\n\",\\n',\n",
       " '      \"  if cb.is_numlike(alpha):\\\\n\"\\n',\n",
       " '     ]\\n',\n",
       " '    },\\n',\n",
       " '    {\\n',\n",
       " '     \"data\": {\\n',\n",
       " '      \"image/png\": \"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\\\\n\",\\n',\n",
       " '      \"text/plain\": [\\n',\n",
       " '       \"<Figure size 432x288 with 1 Axes>\"\\n',\n",
       " '      ]\\n',\n",
       " '     },\\n',\n",
       " '     \"metadata\": {},\\n',\n",
       " '     \"output_type\": \"display_data\"\\n',\n",
       " '    }\\n',\n",
       " '   ],\\n',\n",
       " '   \"source\": [\\n',\n",
       " '    \"nx.draw(nx.Graph(connection_2))\"\\n',\n",
       " '   ]\\n',\n",
       " '  },\\n',\n",
       " '  {\\n',\n",
       " '   \"cell_type\": \"code\",\\n',\n",
       " '   \"execution_count\": 133,\\n',\n",
       " '   \"metadata\": {},\\n',\n",
       " '   \"outputs\": [\\n',\n",
       " '    {\\n',\n",
       " '     \"name\": \"stdout\",\\n',\n",
       " '     \"output_type\": \"stream\",\\n',\n",
       " '     \"text\": [\\n',\n",
       " '      \"standing on 0 Looking forward [1, 5]\\\\n\",\\n',\n",
       " '      \"standing on 1 Looking forward [0, 2]\\\\n\",\\n',\n",
       " '      \"standing on 5 Looking forward [0, 6]\\\\n\",\\n',\n",
       " '      \"standing on 2 Looking forward [1, 3]\\\\n\",\\n',\n",
       " '      \"standing on 6 Looking forward [5, 7]\\\\n\",\\n',\n",
       " '      \"standing on 3 Looking forward [2, 4]\\\\n\",\\n',\n",
       " '      \"standing on 7 Looking forward [6]\\\\n\",\\n',\n",
       " '      \"standing on 4 Looking forward [3]\\\\n\"\\n',\n",
       " '     ]\\n',\n",
       " '    }\\n',\n",
       " '   ],\\n',\n",
       " '   \"source\": [\\n',\n",
       " '    \"nagivator_bfs(0, 7, connection_2)\"\\n',\n",
       " '   ]\\n',\n",
       " '  },\\n',\n",
       " '  {\\n',\n",
       " '   \"cell_type\": \"code\",\\n',\n",
       " '   \"execution_count\": 137,\\n',\n",
       " '   \"metadata\": {},\\n',\n",
       " '   \"outputs\": [],\\n',\n",
       " '   \"source\": [\\n',\n",
       " '    \"def nagivator_dfs(start, destination, connection_graph):\\\\n\",\\n',\n",
       " '    \"    pathes = [start ]\\\\n\",\\n',\n",
       " '    \"    seen = set()\\\\n\",\\n',\n",
       " '    \"    \\\\n\",\\n',\n",
       " '    \"    while pathes:\\\\n\",\\n',\n",
       " '    \"        froniter = pathes.pop(0)\\\\n\",\\n',\n",
       " '    \"        \\\\n\",\\n',\n",
       " '    \"        if froniter in seen: continue\\\\n\",\\n',\n",
       " '    \"            \\\\n\",\\n',\n",
       " '    \"        successors = connection_graph[froniter]\\\\n\",\\n',\n",
       " '    \"        print(\\'standing on {} Looking forward {}\\'.format(froniter, successors))\\\\n\",\\n',\n",
       " '    \"        pathes = successors + pathes\\\\n\",\\n',\n",
       " '    \"                \\\\n\",\\n',\n",
       " '    \"        seen.add(froniter)\"\\n',\n",
       " '   ]\\n',\n",
       " '  },\\n',\n",
       " '  {\\n',\n",
       " '   \"cell_type\": \"code\",\\n',\n",
       " '   \"execution_count\": 138,\\n',\n",
       " '   \"metadata\": {},\\n',\n",
       " '   \"outputs\": [\\n',\n",
       " '    {\\n',\n",
       " '     \"name\": \"stdout\",\\n',\n",
       " '     \"output_type\": \"stream\",\\n',\n",
       " '     \"text\": [\\n',\n",
       " '      \"standing on 0 Looking forward [1, 5]\\\\n\",\\n',\n",
       " '      \"standing on 1 Looking forward [0, 2]\\\\n\",\\n',\n",
       " '      \"standing on 2 Looking forward [1, 3]\\\\n\",\\n',\n",
       " '      \"standing on 3 Looking forward [2, 4]\\\\n\",\\n',\n",
       " '      \"standing on 4 Looking forward [3]\\\\n\",\\n',\n",
       " '      \"standing on 5 Looking forward [0, 6]\\\\n\",\\n',\n",
       " '      \"standing on 6 Looking forward [5, 7]\\\\n\",\\n',\n",
       " '      \"standing on 7 Looking forward [6]\\\\n\"\\n',\n",
       " '     ]\\n',\n",
       " '    }\\n',\n",
       " '   ],\\n',\n",
       " '   \"source\": [\\n',\n",
       " '    \"nagivator_dfs(0, 7, connection_2)\"\\n',\n",
       " '   ]\\n',\n",
       " '  },\\n',\n",
       " '  {\\n',\n",
       " '   \"cell_type\": \"code\",\\n',\n",
       " '   \"execution_count\": 105,\\n',\n",
       " '   \"metadata\": {},\\n',\n",
       " '   \"outputs\": [],\\n',\n",
       " '   \"source\": [\\n',\n",
       " '    \"def draw_route(routes):\\\\n\",\\n',\n",
       " '    \"    print(\\'🛫->\\'.join(routes))\"\\n',\n",
       " '   ]\\n',\n",
       " '  },\\n',\n",
       " '  {\\n',\n",
       " '   \"cell_type\": \"code\",\\n',\n",
       " '   \"execution_count\": 110,\\n',\n",
       " '   \"metadata\": {},\\n',\n",
       " '   \"outputs\": [\\n',\n",
       " '    {\\n',\n",
       " '     \"ename\": \"TypeError\",\\n',\n",
       " '     \"evalue\": \"can only join an iterable\",\\n',\n",
       " '     \"output_type\": \"error\",\\n',\n",
       " '     \"traceback\": [\\n',\n",
       " '      \"\\\\u001b[0;31m---------------------------------------------------------------------------\\\\u001b[0m\",\\n',\n",
       " '      \"\\\\u001b[0;31mTypeError\\\\u001b[0m                                 Traceback (most recent call last)\",\\n',\n",
       " '      \"\\\\u001b[0;32m<ipython-input-110-1319dffac038>\\\\u001b[0m in \\\\u001b[0;36m<module>\\\\u001b[0;34m\\\\u001b[0m\\\\n\\\\u001b[0;32m----> 1\\\\u001b[0;31m \\\\u001b[0mdraw_route\\\\u001b[0m\\\\u001b[0;34m(\\\\u001b[0m\\\\u001b[0mnagivator\\\\u001b[0m\\\\u001b[0;34m(\\\\u001b[0m\\\\u001b[0mCHANGCHUN\\\\u001b[0m\\\\u001b[0;34m,\\\\u001b[0m \\\\u001b[0mBANGKOK\\\\u001b[0m\\\\u001b[0;34m,\\\\u001b[0m \\\\u001b[0mconnection\\\\u001b[0m\\\\u001b[0;34m)\\\\u001b[0m\\\\u001b[0;34m)\\\\u001b[0m\\\\u001b[0;34m\\\\u001b[0m\\\\u001b[0;34m\\\\u001b[0m\\\\u001b[0m\\\\n\\\\u001b[0m\",\\n',\n",
       " '      \"\\\\u001b[0;32m<ipython-input-105-5e9ec87562af>\\\\u001b[0m in \\\\u001b[0;36mdraw_route\\\\u001b[0;34m(routes)\\\\u001b[0m\\\\n\\\\u001b[1;32m      1\\\\u001b[0m \\\\u001b[0;32mdef\\\\u001b[0m \\\\u001b[0mdraw_route\\\\u001b[0m\\\\u001b[0;34m(\\\\u001b[0m\\\\u001b[0mroutes\\\\u001b[0m\\\\u001b[0;34m)\\\\u001b[0m\\\\u001b[0;34m:\\\\u001b[0m\\\\u001b[0;34m\\\\u001b[0m\\\\u001b[0;34m\\\\u001b[0m\\\\u001b[0m\\\\n\\\\u001b[0;32m----> 2\\\\u001b[0;31m     \\\\u001b[0mprint\\\\u001b[0m\\\\u001b[0;34m(\\\\u001b[0m\\\\u001b[0;34m\\'🛫->\\'\\\\u001b[0m\\\\u001b[0;34m.\\\\u001b[0m\\\\u001b[0mjoin\\\\u001b[0m\\\\u001b[0;34m(\\\\u001b[0m\\\\u001b[0mroutes\\\\u001b[0m\\\\u001b[0;34m)\\\\u001b[0m\\\\u001b[0;34m)\\\\u001b[0m\\\\u001b[0;34m\\\\u001b[0m\\\\u001b[0;34m\\\\u001b[0m\\\\u001b[0m\\\\n\\\\u001b[0m\",\\n',\n",
       " '      \"\\\\u001b[0;31mTypeError\\\\u001b[0m: can only join an iterable\"\\n',\n",
       " '     ]\\n',\n",
       " '    }\\n',\n",
       " '   ],\\n',\n",
       " '   \"source\": [\\n',\n",
       " '    \"draw_route(nagivator(CHANGCHUN, BANGKOK, connection))\"\\n',\n",
       " '   ]\\n',\n",
       " '  },\\n',\n",
       " '  {\\n',\n",
       " '   \"cell_type\": \"markdown\",\\n',\n",
       " '   \"metadata\": {},\\n',\n",
       " '   \"source\": [\\n',\n",
       " '    \"## Sentence Generation\"\\n',\n",
       " '   ]\\n',\n",
       " '  },\\n',\n",
       " '  {\\n',\n",
       " '   \"cell_type\": \"code\",\\n',\n",
       " '   \"execution_count\": 240,\\n',\n",
       " '   \"metadata\": {},\\n',\n",
       " '   \"outputs\": [],\\n',\n",
       " '   \"source\": [\\n',\n",
       " '    \"decimal_grammar = \\\\\"\\\\\"\\\\\"\\\\n\",\\n',\n",
       " '    \"expression = operator op operator\\\\n\",\\n',\n",
       " '    \"operator = num op num\\\\n\",\\n',\n",
       " '    \"num = 0 | 1 | 2 | 3 | 4 | 5 | 6 | 7 | 8 | 9 | num num\\\\n\",\\n',\n",
       " '    \"op = + | - | * | /\\\\n\",\\n',\n",
       " '    \"\\\\\"\\\\\"\\\\\"\"\\n',\n",
       " '   ]\\n',\n",
       " '  },\\n',\n",
       " '  {\\n',\n",
       " '   \"cell_type\": \"code\",\\n',\n",
       " '   \"execution_count\": null,\\n',\n",
       " '   \"metadata\": {},\\n',\n",
       " '   \"outputs\": [],\\n',\n",
       " '   \"source\": [\\n',\n",
       " '    \"grammar = \\\\\"\\\\\"\\\\\"\\\\n\",\\n',\n",
       " '    \"stmt = if block else block\\\\n\",\\n',\n",
       " '    \"block = cmp; assigment\\\\n\",\\n',\n",
       " '    \"assgiment = XXX\\\\n\",\\n',\n",
       " '    \"XXX\\\\n\",\\n',\n",
       " '    \"\\\\\"\\\\\"\\\\\"\"\\n',\n",
       " '   ]\\n',\n",
       " '  },\\n',\n",
       " '  {\\n',\n",
       " '   \"cell_type\": \"code\",\\n',\n",
       " '   \"execution_count\": 149,\\n',\n",
       " '   \"metadata\": {},\\n',\n",
       " '   \"outputs\": [],\\n',\n",
       " '   \"source\": [\\n',\n",
       " '    \"grammar = \\\\\"\\\\\"\\\\\"\\\\n\",\\n',\n",
       " '    \"sentence => noun_phrase verb_phrase \\\\n\",\\n',\n",
       " '    \"noun_phrase => Article Adj* noun\\\\n\",\\n',\n",
       " '    \"Adj* => null | Adj Adj*\\\\n\",\\n',\n",
       " '    \"verb_phrase => verb noun_phrase\\\\n\",\\n',\n",
       " '    \"Article =>  一个 | 这个\\\\n\",\\n',\n",
       " '    \"noun =>   女人 |  篮球 | 桌子 | 小猫\\\\n\",\\n',\n",
       " '    \"verb => 看着   |  坐在 |  听着 | 看见\\\\n\",\\n',\n",
       " '    \"Adj =>   蓝色的 |  好看的 | 小小的\\\\n\",\\n',\n",
       " '    \"\\\\\"\\\\\"\\\\\"\"\\n',\n",
       " '   ]\\n',\n",
       " '  },\\n',\n",
       " '  {\\n',\n",
       " '   \"cell_type\": \"code\",\\n',\n",
       " '   \"execution_count\": 140,\\n',\n",
       " '   \"metadata\": {},\\n',\n",
       " '   \"outputs\": [],\\n',\n",
       " '   \"source\": [\\n',\n",
       " '    \"import random\"\\n',\n",
       " '   ]\\n',\n",
       " '  },\\n',\n",
       " '  {\\n',\n",
       " '   \"cell_type\": \"code\",\\n',\n",
       " '   \"execution_count\": 146,\\n',\n",
       " '   \"metadata\": {},\\n',\n",
       " '   \"outputs\": [\\n',\n",
       " '    {\\n',\n",
       " '     \"ename\": \"SyntaxError\",\\n',\n",
       " '     \"evalue\": \"invalid syntax (<ipython-input-146-635c793828cf>, line 2)\",\\n',\n",
       " '     \"output_type\": \"error\",\\n',\n",
       " '     \"traceback\": [\\n',\n",
       " '      \"\\\\u001b[0;36m  File \\\\u001b[0;32m\\\\\"<ipython-input-146-635c793828cf>\\\\\"\\\\u001b[0;36m, line \\\\u001b[0;32m2\\\\u001b[0m\\\\n\\\\u001b[0;31m    funciton: return\\\\u001b[0m\\\\n\\\\u001b[0m                   ^\\\\u001b[0m\\\\n\\\\u001b[0;31mSyntaxError\\\\u001b[0m\\\\u001b[0;31m:\\\\u001b[0m invalid syntax\\\\n\"\\n',\n",
       " '     ]\\n',\n",
       " '    }\\n',\n",
       " '   ],\\n',\n",
       " '   \"source\": [\\n',\n",
       " '    \"generate(\\\\\"verb_phrase\\\\\") = generate(\\\\\"verb\\\\\") + generate(\\\\\"noun_phrase\\\\\")\\\\n\",\\n',\n",
       " '    \"generate(\\'noun\\') = random.choice(\\\\\"女人 |  篮球 | 桌子 | 小猫\\\\\")\"\\n',\n",
       " '   ]\\n',\n",
       " '  },\\n',\n",
       " '  {\\n',\n",
       " '   \"cell_type\": \"code\",\\n',\n",
       " '   \"execution_count\": 151,\\n',\n",
       " '   \"metadata\": {},\\n',\n",
       " '   \"outputs\": [],\\n',\n",
       " '   \"source\": [\\n',\n",
       " '    \"def parse_grammar(grammar_str, sep=\\'=>\\'):\\\\n\",\\n',\n",
       " '    \"    grammar = {}\\\\n\",\\n',\n",
       " '    \"    for line in grammar_str.split(\\'\\\\\\\\n\\'): \\\\n\",\\n',\n",
       " '    \"        line = line.strip()\\\\n\",\\n',\n",
       " '    \"        if not line: continue\\\\n\",\\n',\n",
       " '    \"        \\\\n\",\\n',\n",
       " '    \"        target, rules = line.split(sep)\\\\n\",\\n',\n",
       " '    \"        \\\\n\",\\n',\n",
       " '    \"        grammar[target.strip()] = [r.split() for r in rules.split(\\'|\\')]\\\\n\",\\n',\n",
       " '    \"    \\\\n\",\\n',\n",
       " '    \"    return grammar\"\\n',\n",
       " '   ]\\n',\n",
       " '  },\\n',\n",
       " '  {\\n',\n",
       " '   \"cell_type\": \"code\",\\n',\n",
       " '   \"execution_count\": 153,\\n',\n",
       " '   \"metadata\": {},\\n',\n",
       " '   \"outputs\": [],\\n',\n",
       " '   \"source\": [\\n',\n",
       " '    \"g = parse_grammar(grammar)\"\\n',\n",
       " '   ]\\n',\n",
       " '  },\\n',\n",
       " '  {\\n',\n",
       " '   \"cell_type\": \"code\",\\n',\n",
       " '   \"execution_count\": 154,\\n',\n",
       " '   \"metadata\": {},\\n',\n",
       " '   \"outputs\": [\\n',\n",
       " '    {\\n',\n",
       " '     \"data\": {\\n',\n",
       " '      \"text/plain\": [\\n',\n",
       " '       \"{\\'sentence\\': [[\\'noun_phrase\\', \\'verb_phrase\\']],\\\\n\",\\n',\n",
       " '       \" \\'noun_phrase\\': [[\\'Article\\', \\'Adj*\\', \\'noun\\']],\\\\n\",\\n',\n",
       " '       \" \\'Adj*\\': [[\\'null\\'], [\\'Adj\\', \\'Adj*\\']],\\\\n\",\\n',\n",
       " '       \" \\'verb_phrase\\': [[\\'verb\\', \\'noun_phrase\\']],\\\\n\",\\n',\n",
       " '       \" \\'Article\\': [[\\'一个\\'], [\\'这个\\']],\\\\n\",\\n',\n",
       " '       \" \\'noun\\': [[\\'女人\\'], [\\'篮球\\'], [\\'桌子\\'], [\\'小猫\\']],\\\\n\",\\n',\n",
       " '       \" \\'verb\\': [[\\'看着\\'], [\\'坐在\\'], [\\'听着\\'], [\\'看见\\']],\\\\n\",\\n',\n",
       " '       \" \\'Adj\\': [[\\'蓝色的\\'], [\\'好看的\\'], [\\'小小的\\']]}\"\\n',\n",
       " '      ]\\n',\n",
       " '     },\\n',\n",
       " '     \"execution_count\": 154,\\n',\n",
       " '     \"metadata\": {},\\n',\n",
       " '     \"output_type\": \"execute_result\"\\n',\n",
       " '    }\\n',\n",
       " '   ],\\n',\n",
       " '   \"source\": [\\n',\n",
       " '    \"g\"\\n',\n",
       " '   ]\\n',\n",
       " '  },\\n',\n",
       " '  {\\n',\n",
       " '   \"cell_type\": \"code\",\\n',\n",
       " '   \"execution_count\": 192,\\n',\n",
       " '   \"metadata\": {},\\n',\n",
       " '   \"outputs\": [],\\n',\n",
       " '   \"source\": [\\n',\n",
       " '    \"def gene(grammar_parsed, target=\\'sentence\\'):\\\\n\",\\n',\n",
       " '    \"    if target not in grammar_parsed: return target\\\\n\",\\n',\n",
       " '    \"    \\\\n\",\\n',\n",
       " '    \"    rule = random.choice(grammar_parsed[target])\\\\n\",\\n',\n",
       " '    \"    return \\'\\'.join(gene(grammar_parsed, target=r) for r in rule if r!=\\'null\\')\"\\n',\n",
       " '   ]\\n',\n",
       " '  },\\n',\n",
       " '  {\\n',\n",
       " '   \"cell_type\": \"code\",\\n',\n",
       " '   \"execution_count\": 193,\\n',\n",
       " '   \"metadata\": {},\\n',\n",
       " '   \"outputs\": [\\n',\n",
       " '    {\\n',\n",
       " '     \"data\": {\\n',\n",
       " '      \"text/plain\": [\\n',\n",
       " '       \"[[\\'noun_phrase\\', \\'verb_phrase\\']]\"\\n',\n",
       " '      ]\\n',\n",
       " '     },\\n',\n",
       " '     \"execution_count\": 193,\\n',\n",
       " '     \"metadata\": {},\\n',\n",
       " '     \"output_type\": \"execute_result\"\\n',\n",
       " '    }\\n',\n",
       " '   ],\\n',\n",
       " '   \"source\": [\\n',\n",
       " '    \"g[\\'sentence\\']\"\\n',\n",
       " '   ]\\n',\n",
       " '  },\\n',\n",
       " '  {\\n',\n",
       " '   \"cell_type\": \"code\",\\n',\n",
       " '   \"execution_count\": 206,\\n',\n",
       " '   \"metadata\": {},\\n',\n",
       " '   \"outputs\": [\\n',\n",
       " '    {\\n',\n",
       " '     \"data\": {\\n',\n",
       " '      \"text/plain\": [\\n',\n",
       " '       \"\\'这个小小的女人看见这个小猫\\'\"\\n',\n",
       " '      ]\\n',\n",
       " '     },\\n',\n",
       " '     \"execution_count\": 206,\\n',\n",
       " '     \"metadata\": {},\\n',\n",
       " '     \"output_type\": \"execute_result\"\\n',\n",
       " '    }\\n',\n",
       " '   ],\\n',\n",
       " '   \"source\": [\\n',\n",
       " '    \"gene(g)\"\\n',\n",
       " '   ]\\n',\n",
       " '  },\\n',\n",
       " '  {\\n',\n",
       " '   \"cell_type\": \"code\",\\n',\n",
       " '   \"execution_count\": 257,\\n',\n",
       " '   \"metadata\": {},\\n',\n",
       " '   \"outputs\": [\\n',\n",
       " '    {\\n',\n",
       " '     \"name\": \"stdout\",\\n',\n",
       " '     \"output_type\": \"stream\",\\n',\n",
       " '     \"text\": [\\n',\n",
       " '      \"30+2-99*8\\\\n\",\\n',\n",
       " '      \"8+9-9+9\\\\n\",\\n',\n",
       " '      \"4*7*3*1\\\\n\",\\n',\n",
       " '      \"2*0-2+6\\\\n\",\\n',\n",
       " '      \"7/9*0-6\\\\n\",\\n',\n",
       " '      \"6*5/7+2\\\\n\",\\n',\n",
       " '      \"3-1/4+3\\\\n\",\\n',\n",
       " '      \"7/0*8/5\\\\n\",\\n',\n",
       " '      \"3/0*7/63\\\\n\",\\n',\n",
       " '      \"21-3-2-5\\\\n\",\\n',\n",
       " '      \"6+1+7+6\\\\n\",\\n',\n",
       " '      \"3*8-07*7\\\\n\",\\n',\n",
       " '      \"9-396/8+1\\\\n\",\\n',\n",
       " '      \"9*50+2/4\\\\n\",\\n',\n",
       " '      \"5-7+1+2\\\\n\",\\n',\n",
       " '      \"8-7/4*1\\\\n\",\\n',\n",
       " '      \"4-4/0*8\\\\n\",\\n',\n",
       " '      \"3*2*84/3\\\\n\",\\n',\n",
       " '      \"4-7*7*3\\\\n\",\\n',\n",
       " '      \"1-9+3*1\\\\n\"\\n',\n",
       " '     ]\\n',\n",
       " '    }\\n',\n",
       " '   ],\\n',\n",
       " '   \"source\": [\\n',\n",
       " '    \"for i in range(20):\\\\n\",\\n',\n",
       " '    \"    print(gene(parse_grammar(decimal_grammar, sep=\\'=\\'), target=\\'expression\\'))\"\\n',\n",
       " '   ]\\n',\n",
       " '  }\\n',\n",
       " ' ],\\n',\n",
       " ' \"metadata\": {\\n',\n",
       " '  \"kernelspec\": {\\n',\n",
       " '   \"display_name\": \"Python 3\",\\n',\n",
       " '   \"language\": \"python\",\\n',\n",
       " '   \"name\": \"python3\"\\n',\n",
       " '  },\\n',\n",
       " '  \"language_info\": {\\n',\n",
       " '   \"codemirror_mode\": {\\n',\n",
       " '    \"name\": \"ipython\",\\n',\n",
       " '    \"version\": 3\\n',\n",
       " '   },\\n',\n",
       " '   \"file_extension\": \".py\",\\n',\n",
       " '   \"mimetype\": \"text/x-python\",\\n',\n",
       " '   \"name\": \"python\",\\n',\n",
       " '   \"nbconvert_exporter\": \"python\",\\n',\n",
       " '   \"pygments_lexer\": \"ipython3\",\\n',\n",
       " '   \"version\": \"3.7.1\"\\n',\n",
       " '  }\\n',\n",
       " ' },\\n',\n",
       " ' \"nbformat\": 4,\\n',\n",
       " ' \"nbformat_minor\": 2\\n',\n",
       " '}\\n']"
      ]
     },
     "execution_count": 61,
     "metadata": {},
     "output_type": "execute_result"
    }
   ],
   "source": [
    "f.readlines()"
   ]
  },
  {
   "cell_type": "code",
   "execution_count": 55,
   "metadata": {},
   "outputs": [
    {
     "name": "stdout",
     "output_type": "stream",
     "text": [
      " \"cells\": [\n",
      "\n",
      "  {\n",
      "\n",
      "   \"cell_type\": \"markdown\",\n",
      "\n",
      "   \"metadata\": {},\n",
      "\n",
      "   \"source\": [\n",
      "\n",
      "    \"## Map Search\"\n",
      "\n",
      "   ]\n",
      "\n",
      "  },\n",
      "\n",
      "  {\n",
      "\n",
      "   \"cell_type\": \"code\",\n",
      "\n",
      "   \"execution_count\": 4,\n",
      "\n",
      "   \"metadata\": {},\n",
      "\n",
      "   \"outputs\": [],\n",
      "\n",
      "   \"source\": [\n",
      "\n",
      "    \"BEIJING, CHANGCHUN, MULUMUQI, WUHAN, GUNAGHZOU, SHENZHEN, BANGKOK, SHANGHAI, NEWYORK = \\\"\\\"\\\"\\n\",\n",
      "\n",
      "    \"BEIJING CHANGCHUN MULUMUQI WUHAN GUANGZHOU SHENZHEN BANGKOK SHANGHAI NEWYORK\\n\",\n",
      "\n",
      "    \"\\\"\\\"\\\".split()\"\n",
      "\n",
      "   ]\n",
      "\n",
      "  },\n",
      "\n",
      "  {\n",
      "\n",
      "   \"cell_type\": \"code\",\n",
      "\n",
      "   \"execution_count\": 9,\n",
      "\n",
      "   \"metadata\": {},\n",
      "\n",
      "   \"outputs\": [],\n",
      "\n",
      "   \"source\": [\n",
      "\n",
      "    \"dictionary = {}\"\n",
      "\n",
      "   ]\n",
      "\n",
      "  },\n",
      "\n",
      "  {\n",
      "\n",
      "   \"cell_type\": \"code\",\n",
      "\n",
      "   \"execution_count\": 19,\n",
      "\n",
      "   \"metadata\": {},\n",
      "\n",
      "   \"outputs\": [],\n",
      "\n",
      "   \"source\": [\n",
      "\n",
      "    \"connection = {\\n\",\n",
      "\n",
      "    \"    CHANGCHUN: [BEIJING],\\n\",\n",
      "\n",
      "    \"    MULUMUQI: [BEIJING], \\n\",\n",
      "\n",
      "    \"    BEIJING: [MULUMUQI, CHANGCHUN, WUHAN, SHENZHEN, NEWYORK],\\n\",\n",
      "\n",
      "    \"    NEWYORK: [BEIJING, SHANGHAI],\\n\",\n",
      "\n",
      "    \"    SHANGHAI: [NEWYORK, WUHAN],\\n\",\n",
      "\n",
      "    \"    WUHAN: [SHANGHAI, BEIJING, GUNAGHZOU],\\n\",\n",
      "\n",
      "    \"    GUNAGHZOU: [WUHAN, BANGKOK],\\n\",\n",
      "\n",
      "    \"    SHENZHEN: [WUHAN, BANGKOK],\\n\",\n",
      "\n",
      "    \"    BANGKOK: [SHENZHEN, GUNAGHZOU]\\n\",\n",
      "\n",
      "    \"}\"\n",
      "\n",
      "   ]\n",
      "\n",
      "  },\n",
      "\n",
      "  {\n",
      "\n",
      "   \"cell_type\": \"code\",\n",
      "\n",
      "   \"execution_count\": 22,\n",
      "\n",
      "   \"metadata\": {},\n",
      "\n",
      "   \"outputs\": [],\n",
      "\n",
      "   \"source\": [\n",
      "\n",
      "    \"import networkx as nx\"\n",
      "\n",
      "   ]\n",
      "\n",
      "  },\n",
      "\n",
      "  {\n",
      "\n",
      "   \"cell_type\": \"code\",\n",
      "\n",
      "   \"execution_count\": 24,\n",
      "\n",
      "   \"metadata\": {},\n",
      "\n",
      "   \"outputs\": [],\n",
      "\n",
      "   \"source\": [\n",
      "\n",
      "    \"%matplotlib inline\"\n",
      "\n",
      "   ]\n",
      "\n",
      "  },\n",
      "\n",
      "  {\n",
      "\n",
      "   \"cell_type\": \"code\",\n",
      "\n",
      "   \"execution_count\": 25,\n",
      "\n",
      "   \"metadata\": {},\n",
      "\n",
      "   \"outputs\": [],\n",
      "\n",
      "   \"source\": [\n",
      "\n",
      "    \"graph = connection\"\n",
      "\n",
      "   ]\n",
      "\n",
      "  },\n",
      "\n",
      "  {\n",
      "\n",
      "   \"cell_type\": \"code\",\n",
      "\n",
      "   \"execution_count\": 27,\n",
      "\n",
      "   \"metadata\": {},\n",
      "\n",
      "   \"outputs\": [],\n",
      "\n",
      "   \"source\": [\n",
      "\n",
      "    \"g = nx.Graph(graph)\"\n",
      "\n",
      "   ]\n",
      "\n",
      "  },\n",
      "\n",
      "  {\n",
      "\n",
      "   \"cell_type\": \"code\",\n",
      "\n",
      "   \"execution_count\": 30,\n",
      "\n",
      "   \"metadata\": {},\n",
      "\n",
      "   \"outputs\": [\n",
      "\n",
      "    {\n",
      "\n",
      "     \"data\": {\n",
      "\n",
      "      \"image/png\": \"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\\n\",\n",
      "\n",
      "      \"text/plain\": [\n",
      "\n",
      "       \"<Figure size 432x288 with 1 Axes>\"\n",
      "\n",
      "      ]\n",
      "\n",
      "     },\n",
      "\n",
      "     \"metadata\": {},\n",
      "\n",
      "     \"output_type\": \"display_data\"\n",
      "\n",
      "    }\n",
      "\n",
      "   ],\n",
      "\n",
      "   \"source\": [\n",
      "\n",
      "    \"nx.draw(g)\"\n",
      "\n",
      "   ]\n",
      "\n",
      "  },\n",
      "\n",
      "  {\n",
      "\n",
      "   \"cell_type\": \"code\",\n",
      "\n",
      "   \"execution_count\": 107,\n",
      "\n",
      "   \"metadata\": {},\n",
      "\n",
      "   \"outputs\": [],\n",
      "\n",
      "   \"source\": [\n",
      "\n",
      "    \"def nagivator(start, destination, connection_graph):\\n\",\n",
      "\n",
      "    \"    pathes = [[start] ]\\n\",\n",
      "\n",
      "    \"    seen = set()\\n\",\n",
      "\n",
      "    \"    \\n\",\n",
      "\n",
      "    \"    while pathes:\\n\",\n",
      "\n",
      "    \"        path = pathes.pop(0)\\n\",\n",
      "\n",
      "    \"        froniter = path[-1]\\n\",\n",
      "\n",
      "    \"        \\n\",\n",
      "\n",
      "    \"        if froniter in seen: continue\\n\",\n",
      "\n",
      "    \"            \\n\",\n",
      "\n",
      "    \"        successors = connection_graph[froniter]\\n\",\n",
      "\n",
      "    \"        \\n\",\n",
      "\n",
      "    \"        for s in successors: \\n\",\n",
      "\n",
      "    \"            if s == destination: \\n\",\n",
      "\n",
      "    \"                path.append(s)\\n\",\n",
      "\n",
      "    \"                return path\\n\",\n",
      "\n",
      "    \"            else:\\n\",\n",
      "\n",
      "    \"                pathes.append(path + [s])  \\n\",\n",
      "\n",
      "    \"                \\n\",\n",
      "\n",
      "    \"        pathes = sorted(pathes, key=len) # 最小换成\\n\",\n",
      "\n",
      "    \"                \\n\",\n",
      "\n",
      "    \"        seen.add(froniter)\"\n",
      "\n",
      "   ]\n",
      "\n",
      "  },\n",
      "\n",
      "  {\n",
      "\n",
      "   \"cell_type\": \"code\",\n",
      "\n",
      "   \"execution_count\": 128,\n",
      "\n",
      "   \"metadata\": {},\n",
      "\n",
      "   \"outputs\": [],\n",
      "\n",
      "   \"source\": [\n",
      "\n",
      "    \"def nagivator_bfs(start, destination, connection_graph):\\n\",\n",
      "\n",
      "    \"    pathes = [start ]\\n\",\n",
      "\n",
      "    \"    seen = set()\\n\",\n",
      "\n",
      "    \"    \\n\",\n",
      "\n",
      "    \"    while pathes:\\n\",\n",
      "\n",
      "    \"        froniter = pathes.pop(0)\\n\",\n",
      "\n",
      "    \"        \\n\",\n",
      "\n",
      "    \"        if froniter in seen: continue\\n\",\n",
      "\n",
      "    \"            \\n\",\n",
      "\n",
      "    \"        successors = connection_graph[froniter]\\n\",\n",
      "\n",
      "    \"        print('standing on {} Looking forward {}'.format(froniter, successors))\\n\",\n",
      "\n",
      "    \"        pathes = pathes + successors\\n\",\n",
      "\n",
      "    \"                \\n\",\n",
      "\n",
      "    \"        seen.add(froniter)\"\n",
      "\n",
      "   ]\n",
      "\n",
      "  },\n",
      "\n",
      "  {\n",
      "\n",
      "   \"cell_type\": \"code\",\n",
      "\n",
      "   \"execution_count\": 132,\n",
      "\n",
      "   \"metadata\": {},\n",
      "\n",
      "   \"outputs\": [],\n",
      "\n",
      "   \"source\": [\n",
      "\n",
      "    \"connection_2 = {\\n\",\n",
      "\n",
      "    \"    0: [1, 5], \\n\",\n",
      "\n",
      "    \"    1: [0, 2], \\n\",\n",
      "\n",
      "    \"    2: [1, 3], \\n\",\n",
      "\n",
      "    \"    3: [2, 4], \\n\",\n",
      "\n",
      "    \"    4: [3],\\n\",\n",
      "\n",
      "    \"    5: [0, 6], \\n\",\n",
      "\n",
      "    \"    6: [5, 7],\\n\",\n",
      "\n",
      "    \"    7: [6]\\n\",\n",
      "\n",
      "    \"}\"\n",
      "\n",
      "   ]\n",
      "\n",
      "  },\n",
      "\n",
      "  {\n",
      "\n",
      "   \"cell_type\": \"code\",\n",
      "\n",
      "   \"execution_count\": 129,\n",
      "\n",
      "   \"metadata\": {},\n",
      "\n",
      "   \"outputs\": [\n",
      "\n",
      "    {\n",
      "\n",
      "     \"name\": \"stderr\",\n",
      "\n",
      "     \"output_type\": \"stream\",\n",
      "\n",
      "     \"text\": [\n",
      "\n",
      "      \"/Users/mqgao/anaconda3/lib/python3.7/site-packages/networkx/drawing/nx_pylab.py:611: MatplotlibDeprecationWarning: isinstance(..., numbers.Number)\\n\",\n",
      "\n",
      "      \"  if cb.is_numlike(alpha):\\n\"\n",
      "\n",
      "     ]\n",
      "\n",
      "    },\n",
      "\n",
      "    {\n",
      "\n",
      "     \"data\": {\n",
      "\n",
      "      \"image/png\": \"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\\n\",\n",
      "\n",
      "      \"text/plain\": [\n",
      "\n",
      "       \"<Figure size 432x288 with 1 Axes>\"\n",
      "\n",
      "      ]\n",
      "\n",
      "     },\n",
      "\n",
      "     \"metadata\": {},\n",
      "\n",
      "     \"output_type\": \"display_data\"\n",
      "\n",
      "    }\n",
      "\n",
      "   ],\n",
      "\n",
      "   \"source\": [\n",
      "\n",
      "    \"nx.draw(nx.Graph(connection_2))\"\n",
      "\n",
      "   ]\n",
      "\n",
      "  },\n",
      "\n",
      "  {\n",
      "\n",
      "   \"cell_type\": \"code\",\n",
      "\n",
      "   \"execution_count\": 133,\n",
      "\n",
      "   \"metadata\": {},\n",
      "\n",
      "   \"outputs\": [\n",
      "\n",
      "    {\n",
      "\n",
      "     \"name\": \"stdout\",\n",
      "\n",
      "     \"output_type\": \"stream\",\n",
      "\n",
      "     \"text\": [\n",
      "\n",
      "      \"standing on 0 Looking forward [1, 5]\\n\",\n",
      "\n",
      "      \"standing on 1 Looking forward [0, 2]\\n\",\n",
      "\n",
      "      \"standing on 5 Looking forward [0, 6]\\n\",\n",
      "\n",
      "      \"standing on 2 Looking forward [1, 3]\\n\",\n",
      "\n",
      "      \"standing on 6 Looking forward [5, 7]\\n\",\n",
      "\n",
      "      \"standing on 3 Looking forward [2, 4]\\n\",\n",
      "\n",
      "      \"standing on 7 Looking forward [6]\\n\",\n",
      "\n",
      "      \"standing on 4 Looking forward [3]\\n\"\n",
      "\n",
      "     ]\n",
      "\n",
      "    }\n",
      "\n",
      "   ],\n",
      "\n",
      "   \"source\": [\n",
      "\n",
      "    \"nagivator_bfs(0, 7, connection_2)\"\n",
      "\n",
      "   ]\n",
      "\n",
      "  },\n",
      "\n",
      "  {\n",
      "\n",
      "   \"cell_type\": \"code\",\n",
      "\n",
      "   \"execution_count\": 137,\n",
      "\n",
      "   \"metadata\": {},\n",
      "\n",
      "   \"outputs\": [],\n",
      "\n",
      "   \"source\": [\n",
      "\n",
      "    \"def nagivator_dfs(start, destination, connection_graph):\\n\",\n",
      "\n",
      "    \"    pathes = [start ]\\n\",\n",
      "\n",
      "    \"    seen = set()\\n\",\n",
      "\n",
      "    \"    \\n\",\n",
      "\n",
      "    \"    while pathes:\\n\",\n",
      "\n",
      "    \"        froniter = pathes.pop(0)\\n\",\n",
      "\n",
      "    \"        \\n\",\n",
      "\n",
      "    \"        if froniter in seen: continue\\n\",\n",
      "\n",
      "    \"            \\n\",\n",
      "\n",
      "    \"        successors = connection_graph[froniter]\\n\",\n",
      "\n",
      "    \"        print('standing on {} Looking forward {}'.format(froniter, successors))\\n\",\n",
      "\n",
      "    \"        pathes = successors + pathes\\n\",\n",
      "\n",
      "    \"                \\n\",\n",
      "\n",
      "    \"        seen.add(froniter)\"\n",
      "\n",
      "   ]\n",
      "\n",
      "  },\n",
      "\n",
      "  {\n",
      "\n",
      "   \"cell_type\": \"code\",\n",
      "\n",
      "   \"execution_count\": 138,\n",
      "\n",
      "   \"metadata\": {},\n",
      "\n",
      "   \"outputs\": [\n",
      "\n",
      "    {\n",
      "\n",
      "     \"name\": \"stdout\",\n",
      "\n",
      "     \"output_type\": \"stream\",\n",
      "\n",
      "     \"text\": [\n",
      "\n",
      "      \"standing on 0 Looking forward [1, 5]\\n\",\n",
      "\n",
      "      \"standing on 1 Looking forward [0, 2]\\n\",\n",
      "\n",
      "      \"standing on 2 Looking forward [1, 3]\\n\",\n",
      "\n",
      "      \"standing on 3 Looking forward [2, 4]\\n\",\n",
      "\n",
      "      \"standing on 4 Looking forward [3]\\n\",\n",
      "\n",
      "      \"standing on 5 Looking forward [0, 6]\\n\",\n",
      "\n",
      "      \"standing on 6 Looking forward [5, 7]\\n\",\n",
      "\n",
      "      \"standing on 7 Looking forward [6]\\n\"\n",
      "\n",
      "     ]\n",
      "\n",
      "    }\n",
      "\n",
      "   ],\n",
      "\n",
      "   \"source\": [\n",
      "\n",
      "    \"nagivator_dfs(0, 7, connection_2)\"\n",
      "\n",
      "   ]\n",
      "\n",
      "  },\n",
      "\n",
      "  {\n",
      "\n",
      "   \"cell_type\": \"code\",\n",
      "\n",
      "   \"execution_count\": 105,\n",
      "\n",
      "   \"metadata\": {},\n",
      "\n",
      "   \"outputs\": [],\n",
      "\n",
      "   \"source\": [\n",
      "\n",
      "    \"def draw_route(routes):\\n\",\n",
      "\n",
      "    \"    print('🛫->'.join(routes))\"\n",
      "\n",
      "   ]\n",
      "\n",
      "  },\n",
      "\n",
      "  {\n",
      "\n",
      "   \"cell_type\": \"code\",\n",
      "\n",
      "   \"execution_count\": 110,\n",
      "\n",
      "   \"metadata\": {},\n",
      "\n",
      "   \"outputs\": [\n",
      "\n",
      "    {\n",
      "\n",
      "     \"ename\": \"TypeError\",\n",
      "\n",
      "     \"evalue\": \"can only join an iterable\",\n",
      "\n",
      "     \"output_type\": \"error\",\n",
      "\n",
      "     \"traceback\": [\n",
      "\n",
      "      \"\\u001b[0;31m---------------------------------------------------------------------------\\u001b[0m\",\n",
      "\n",
      "      \"\\u001b[0;31mTypeError\\u001b[0m                                 Traceback (most recent call last)\",\n",
      "\n",
      "      \"\\u001b[0;32m<ipython-input-110-1319dffac038>\\u001b[0m in \\u001b[0;36m<module>\\u001b[0;34m\\u001b[0m\\n\\u001b[0;32m----> 1\\u001b[0;31m \\u001b[0mdraw_route\\u001b[0m\\u001b[0;34m(\\u001b[0m\\u001b[0mnagivator\\u001b[0m\\u001b[0;34m(\\u001b[0m\\u001b[0mCHANGCHUN\\u001b[0m\\u001b[0;34m,\\u001b[0m \\u001b[0mBANGKOK\\u001b[0m\\u001b[0;34m,\\u001b[0m \\u001b[0mconnection\\u001b[0m\\u001b[0;34m)\\u001b[0m\\u001b[0;34m)\\u001b[0m\\u001b[0;34m\\u001b[0m\\u001b[0;34m\\u001b[0m\\u001b[0m\\n\\u001b[0m\",\n",
      "\n",
      "      \"\\u001b[0;32m<ipython-input-105-5e9ec87562af>\\u001b[0m in \\u001b[0;36mdraw_route\\u001b[0;34m(routes)\\u001b[0m\\n\\u001b[1;32m      1\\u001b[0m \\u001b[0;32mdef\\u001b[0m \\u001b[0mdraw_route\\u001b[0m\\u001b[0;34m(\\u001b[0m\\u001b[0mroutes\\u001b[0m\\u001b[0;34m)\\u001b[0m\\u001b[0;34m:\\u001b[0m\\u001b[0;34m\\u001b[0m\\u001b[0;34m\\u001b[0m\\u001b[0m\\n\\u001b[0;32m----> 2\\u001b[0;31m     \\u001b[0mprint\\u001b[0m\\u001b[0;34m(\\u001b[0m\\u001b[0;34m'🛫->'\\u001b[0m\\u001b[0;34m.\\u001b[0m\\u001b[0mjoin\\u001b[0m\\u001b[0;34m(\\u001b[0m\\u001b[0mroutes\\u001b[0m\\u001b[0;34m)\\u001b[0m\\u001b[0;34m)\\u001b[0m\\u001b[0;34m\\u001b[0m\\u001b[0;34m\\u001b[0m\\u001b[0m\\n\\u001b[0m\",\n",
      "\n",
      "      \"\\u001b[0;31mTypeError\\u001b[0m: can only join an iterable\"\n",
      "\n",
      "     ]\n",
      "\n",
      "    }\n",
      "\n",
      "   ],\n",
      "\n",
      "   \"source\": [\n",
      "\n",
      "    \"draw_route(nagivator(CHANGCHUN, BANGKOK, connection))\"\n",
      "\n",
      "   ]\n",
      "\n",
      "  },\n",
      "\n",
      "  {\n",
      "\n",
      "   \"cell_type\": \"markdown\",\n",
      "\n",
      "   \"metadata\": {},\n",
      "\n",
      "   \"source\": [\n",
      "\n",
      "    \"## Sentence Generation\"\n",
      "\n",
      "   ]\n",
      "\n",
      "  },\n",
      "\n",
      "  {\n",
      "\n",
      "   \"cell_type\": \"code\",\n",
      "\n",
      "   \"execution_count\": 240,\n",
      "\n",
      "   \"metadata\": {},\n",
      "\n",
      "   \"outputs\": [],\n",
      "\n",
      "   \"source\": [\n",
      "\n",
      "    \"decimal_grammar = \\\"\\\"\\\"\\n\",\n",
      "\n",
      "    \"expression = operator op operator\\n\",\n",
      "\n",
      "    \"operator = num op num\\n\",\n",
      "\n",
      "    \"num = 0 | 1 | 2 | 3 | 4 | 5 | 6 | 7 | 8 | 9 | num num\\n\",\n",
      "\n",
      "    \"op = + | - | * | /\\n\",\n",
      "\n",
      "    \"\\\"\\\"\\\"\"\n",
      "\n",
      "   ]\n",
      "\n",
      "  },\n",
      "\n",
      "  {\n",
      "\n",
      "   \"cell_type\": \"code\",\n",
      "\n",
      "   \"execution_count\": null,\n",
      "\n",
      "   \"metadata\": {},\n",
      "\n",
      "   \"outputs\": [],\n",
      "\n",
      "   \"source\": [\n",
      "\n",
      "    \"grammar = \\\"\\\"\\\"\\n\",\n",
      "\n",
      "    \"stmt = if block else block\\n\",\n",
      "\n",
      "    \"block = cmp; assigment\\n\",\n",
      "\n",
      "    \"assgiment = XXX\\n\",\n",
      "\n",
      "    \"XXX\\n\",\n",
      "\n",
      "    \"\\\"\\\"\\\"\"\n",
      "\n",
      "   ]\n",
      "\n",
      "  },\n",
      "\n",
      "  {\n",
      "\n",
      "   \"cell_type\": \"code\",\n",
      "\n",
      "   \"execution_count\": 149,\n",
      "\n",
      "   \"metadata\": {},\n",
      "\n",
      "   \"outputs\": [],\n",
      "\n",
      "   \"source\": [\n",
      "\n",
      "    \"grammar = \\\"\\\"\\\"\\n\",\n",
      "\n",
      "    \"sentence => noun_phrase verb_phrase \\n\",\n",
      "\n",
      "    \"noun_phrase => Article Adj* noun\\n\",\n",
      "\n",
      "    \"Adj* => null | Adj Adj*\\n\",\n",
      "\n",
      "    \"verb_phrase => verb noun_phrase\\n\",\n",
      "\n",
      "    \"Article =>  一个 | 这个\\n\",\n",
      "\n",
      "    \"noun =>   女人 |  篮球 | 桌子 | 小猫\\n\",\n",
      "\n",
      "    \"verb => 看着   |  坐在 |  听着 | 看见\\n\",\n",
      "\n",
      "    \"Adj =>   蓝色的 |  好看的 | 小小的\\n\",\n",
      "\n",
      "    \"\\\"\\\"\\\"\"\n",
      "\n",
      "   ]\n",
      "\n",
      "  },\n",
      "\n",
      "  {\n",
      "\n",
      "   \"cell_type\": \"code\",\n",
      "\n",
      "   \"execution_count\": 140,\n",
      "\n",
      "   \"metadata\": {},\n",
      "\n",
      "   \"outputs\": [],\n",
      "\n",
      "   \"source\": [\n",
      "\n",
      "    \"import random\"\n",
      "\n",
      "   ]\n",
      "\n",
      "  },\n",
      "\n",
      "  {\n",
      "\n",
      "   \"cell_type\": \"code\",\n",
      "\n",
      "   \"execution_count\": 146,\n",
      "\n",
      "   \"metadata\": {},\n",
      "\n",
      "   \"outputs\": [\n",
      "\n",
      "    {\n",
      "\n",
      "     \"ename\": \"SyntaxError\",\n",
      "\n",
      "     \"evalue\": \"invalid syntax (<ipython-input-146-635c793828cf>, line 2)\",\n",
      "\n",
      "     \"output_type\": \"error\",\n",
      "\n",
      "     \"traceback\": [\n",
      "\n",
      "      \"\\u001b[0;36m  File \\u001b[0;32m\\\"<ipython-input-146-635c793828cf>\\\"\\u001b[0;36m, line \\u001b[0;32m2\\u001b[0m\\n\\u001b[0;31m    funciton: return\\u001b[0m\\n\\u001b[0m                   ^\\u001b[0m\\n\\u001b[0;31mSyntaxError\\u001b[0m\\u001b[0;31m:\\u001b[0m invalid syntax\\n\"\n",
      "\n",
      "     ]\n",
      "\n",
      "    }\n",
      "\n",
      "   ],\n",
      "\n",
      "   \"source\": [\n",
      "\n",
      "    \"generate(\\\"verb_phrase\\\") = generate(\\\"verb\\\") + generate(\\\"noun_phrase\\\")\\n\",\n",
      "\n",
      "    \"generate('noun') = random.choice(\\\"女人 |  篮球 | 桌子 | 小猫\\\")\"\n",
      "\n",
      "   ]\n",
      "\n",
      "  },\n",
      "\n",
      "  {\n",
      "\n",
      "   \"cell_type\": \"code\",\n",
      "\n",
      "   \"execution_count\": 151,\n",
      "\n",
      "   \"metadata\": {},\n",
      "\n",
      "   \"outputs\": [],\n",
      "\n",
      "   \"source\": [\n",
      "\n",
      "    \"def parse_grammar(grammar_str, sep='=>'):\\n\",\n",
      "\n",
      "    \"    grammar = {}\\n\",\n",
      "\n",
      "    \"    for line in grammar_str.split('\\\\n'): \\n\",\n",
      "\n",
      "    \"        line = line.strip()\\n\",\n",
      "\n",
      "    \"        if not line: continue\\n\",\n",
      "\n",
      "    \"        \\n\",\n",
      "\n",
      "    \"        target, rules = line.split(sep)\\n\",\n",
      "\n",
      "    \"        \\n\",\n",
      "\n",
      "    \"        grammar[target.strip()] = [r.split() for r in rules.split('|')]\\n\",\n",
      "\n",
      "    \"    \\n\",\n",
      "\n",
      "    \"    return grammar\"\n",
      "\n",
      "   ]\n",
      "\n",
      "  },\n",
      "\n",
      "  {\n",
      "\n",
      "   \"cell_type\": \"code\",\n",
      "\n",
      "   \"execution_count\": 153,\n",
      "\n",
      "   \"metadata\": {},\n",
      "\n",
      "   \"outputs\": [],\n",
      "\n",
      "   \"source\": [\n",
      "\n",
      "    \"g = parse_grammar(grammar)\"\n",
      "\n",
      "   ]\n",
      "\n",
      "  },\n",
      "\n",
      "  {\n",
      "\n",
      "   \"cell_type\": \"code\",\n",
      "\n",
      "   \"execution_count\": 154,\n",
      "\n",
      "   \"metadata\": {},\n",
      "\n",
      "   \"outputs\": [\n",
      "\n",
      "    {\n",
      "\n",
      "     \"data\": {\n",
      "\n",
      "      \"text/plain\": [\n",
      "\n",
      "       \"{'sentence': [['noun_phrase', 'verb_phrase']],\\n\",\n",
      "\n",
      "       \" 'noun_phrase': [['Article', 'Adj*', 'noun']],\\n\",\n",
      "\n",
      "       \" 'Adj*': [['null'], ['Adj', 'Adj*']],\\n\",\n",
      "\n",
      "       \" 'verb_phrase': [['verb', 'noun_phrase']],\\n\",\n",
      "\n",
      "       \" 'Article': [['一个'], ['这个']],\\n\",\n",
      "\n",
      "       \" 'noun': [['女人'], ['篮球'], ['桌子'], ['小猫']],\\n\",\n",
      "\n",
      "       \" 'verb': [['看着'], ['坐在'], ['听着'], ['看见']],\\n\",\n",
      "\n",
      "       \" 'Adj': [['蓝色的'], ['好看的'], ['小小的']]}\"\n",
      "\n",
      "      ]\n",
      "\n",
      "     },\n",
      "\n",
      "     \"execution_count\": 154,\n",
      "\n",
      "     \"metadata\": {},\n",
      "\n",
      "     \"output_type\": \"execute_result\"\n",
      "\n",
      "    }\n",
      "\n",
      "   ],\n",
      "\n",
      "   \"source\": [\n",
      "\n",
      "    \"g\"\n",
      "\n",
      "   ]\n",
      "\n",
      "  },\n",
      "\n",
      "  {\n",
      "\n",
      "   \"cell_type\": \"code\",\n",
      "\n",
      "   \"execution_count\": 192,\n",
      "\n",
      "   \"metadata\": {},\n",
      "\n",
      "   \"outputs\": [],\n",
      "\n",
      "   \"source\": [\n",
      "\n",
      "    \"def gene(grammar_parsed, target='sentence'):\\n\",\n",
      "\n",
      "    \"    if target not in grammar_parsed: return target\\n\",\n",
      "\n",
      "    \"    \\n\",\n",
      "\n",
      "    \"    rule = random.choice(grammar_parsed[target])\\n\",\n",
      "\n",
      "    \"    return ''.join(gene(grammar_parsed, target=r) for r in rule if r!='null')\"\n",
      "\n",
      "   ]\n",
      "\n",
      "  },\n",
      "\n",
      "  {\n",
      "\n",
      "   \"cell_type\": \"code\",\n",
      "\n",
      "   \"execution_count\": 193,\n",
      "\n",
      "   \"metadata\": {},\n",
      "\n",
      "   \"outputs\": [\n",
      "\n",
      "    {\n",
      "\n",
      "     \"data\": {\n",
      "\n",
      "      \"text/plain\": [\n",
      "\n",
      "       \"[['noun_phrase', 'verb_phrase']]\"\n",
      "\n",
      "      ]\n",
      "\n",
      "     },\n",
      "\n",
      "     \"execution_count\": 193,\n",
      "\n",
      "     \"metadata\": {},\n",
      "\n",
      "     \"output_type\": \"execute_result\"\n",
      "\n",
      "    }\n",
      "\n",
      "   ],\n",
      "\n",
      "   \"source\": [\n",
      "\n",
      "    \"g['sentence']\"\n",
      "\n",
      "   ]\n",
      "\n",
      "  },\n",
      "\n",
      "  {\n",
      "\n",
      "   \"cell_type\": \"code\",\n",
      "\n",
      "   \"execution_count\": 206,\n",
      "\n",
      "   \"metadata\": {},\n",
      "\n",
      "   \"outputs\": [\n",
      "\n",
      "    {\n",
      "\n",
      "     \"data\": {\n",
      "\n",
      "      \"text/plain\": [\n",
      "\n",
      "       \"'这个小小的女人看见这个小猫'\"\n",
      "\n",
      "      ]\n",
      "\n",
      "     },\n",
      "\n",
      "     \"execution_count\": 206,\n",
      "\n",
      "     \"metadata\": {},\n",
      "\n",
      "     \"output_type\": \"execute_result\"\n",
      "\n",
      "    }\n",
      "\n",
      "   ],\n",
      "\n",
      "   \"source\": [\n",
      "\n",
      "    \"gene(g)\"\n",
      "\n",
      "   ]\n",
      "\n",
      "  },\n",
      "\n",
      "  {\n",
      "\n",
      "   \"cell_type\": \"code\",\n",
      "\n",
      "   \"execution_count\": 257,\n",
      "\n",
      "   \"metadata\": {},\n",
      "\n",
      "   \"outputs\": [\n",
      "\n",
      "    {\n",
      "\n",
      "     \"name\": \"stdout\",\n",
      "\n",
      "     \"output_type\": \"stream\",\n",
      "\n",
      "     \"text\": [\n",
      "\n",
      "      \"30+2-99*8\\n\",\n",
      "\n",
      "      \"8+9-9+9\\n\",\n",
      "\n",
      "      \"4*7*3*1\\n\",\n",
      "\n",
      "      \"2*0-2+6\\n\",\n",
      "\n",
      "      \"7/9*0-6\\n\",\n",
      "\n",
      "      \"6*5/7+2\\n\",\n",
      "\n",
      "      \"3-1/4+3\\n\",\n",
      "\n",
      "      \"7/0*8/5\\n\",\n",
      "\n",
      "      \"3/0*7/63\\n\",\n",
      "\n",
      "      \"21-3-2-5\\n\",\n",
      "\n",
      "      \"6+1+7+6\\n\",\n",
      "\n",
      "      \"3*8-07*7\\n\",\n",
      "\n",
      "      \"9-396/8+1\\n\",\n",
      "\n",
      "      \"9*50+2/4\\n\",\n",
      "\n",
      "      \"5-7+1+2\\n\",\n",
      "\n",
      "      \"8-7/4*1\\n\",\n",
      "\n",
      "      \"4-4/0*8\\n\",\n",
      "\n",
      "      \"3*2*84/3\\n\",\n",
      "\n",
      "      \"4-7*7*3\\n\",\n",
      "\n",
      "      \"1-9+3*1\\n\"\n",
      "\n",
      "     ]\n",
      "\n",
      "    }\n",
      "\n",
      "   ],\n",
      "\n",
      "   \"source\": [\n",
      "\n",
      "    \"for i in range(20):\\n\",\n",
      "\n",
      "    \"    print(gene(parse_grammar(decimal_grammar, sep='='), target='expression'))\"\n",
      "\n",
      "   ]\n",
      "\n",
      "  }\n",
      "\n",
      " ],\n",
      "\n",
      " \"metadata\": {\n",
      "\n",
      "  \"kernelspec\": {\n",
      "\n",
      "   \"display_name\": \"Python 3\",\n",
      "\n",
      "   \"language\": \"python\",\n",
      "\n",
      "   \"name\": \"python3\"\n",
      "\n",
      "  },\n",
      "\n",
      "  \"language_info\": {\n",
      "\n",
      "   \"codemirror_mode\": {\n",
      "\n",
      "    \"name\": \"ipython\",\n",
      "\n",
      "    \"version\": 3\n",
      "\n",
      "   },\n",
      "\n",
      "   \"file_extension\": \".py\",\n",
      "\n",
      "   \"mimetype\": \"text/x-python\",\n",
      "\n",
      "   \"name\": \"python\",\n",
      "\n",
      "   \"nbconvert_exporter\": \"python\",\n",
      "\n",
      "   \"pygments_lexer\": \"ipython3\",\n",
      "\n",
      "   \"version\": \"3.7.1\"\n",
      "\n",
      "  }\n",
      "\n",
      " },\n",
      "\n",
      " \"nbformat\": 4,\n",
      "\n",
      " \"nbformat_minor\": 2\n",
      "\n",
      "}\n",
      "\n"
     ]
    }
   ],
   "source": [
    "for line in f.readlines():\n",
    "    print(line)"
   ]
  },
  {
   "cell_type": "code",
   "execution_count": 44,
   "metadata": {},
   "outputs": [
    {
     "data": {
      "text/plain": [
       "'{\\n \"cells\": [\\n  {\\n   \"cell_type\": \"markdown\",\\n   \"metadata\": {},\\n   \"source\": [\\n    \"## Map Search\"\\n   ]\\n  },\\n  {\\n   \"cell_type\": \"code\",\\n   \"execution_count\": 4,\\n   \"metadata\": {},\\n   \"outputs\": [],\\n   \"source\": [\\n    \"BEIJING, CHANGCHUN, MULUMUQI, WUHAN, GUNAGHZOU, SHENZHEN, BANGKOK, SHANGHAI, NEWYORK = \\\\\"\\\\\"\\\\\"\\\\n\",\\n    \"BEIJING CHANGCHUN MULUMUQI WUHAN GUANGZHOU SHENZHEN BANGKOK SHANGHAI NEWYORK\\\\n\",\\n    \"\\\\\"\\\\\"\\\\\".split()\"\\n   ]\\n  },\\n  {\\n   \"cell_type\": \"code\",\\n   \"execution_count\": 9,\\n   \"metadata\": {},\\n   \"outputs\": [],\\n   \"source\": [\\n    \"dictionary = {}\"\\n   ]\\n  },\\n  {\\n   \"cell_type\": \"code\",\\n   \"execution_count\": 19,\\n   \"metadata\": {},\\n   \"outputs\": [],\\n   \"source\": [\\n    \"connection = {\\\\n\",\\n    \"    CHANGCHUN: [BEIJING],\\\\n\",\\n    \"    MULUMUQI: [BEIJING], \\\\n\",\\n    \"    BEIJING: [MULUMUQI, CHANGCHUN, WUHAN, SHENZHEN, NEWYORK],\\\\n\",\\n    \"    NEWYORK: [BEIJING, SHANGHAI],\\\\n\",\\n    \"    SHANGHAI: [NEWYORK, WUHAN],\\\\n\",\\n    \"    WUHAN: [SHANGHAI, BEIJING, GUNAGHZOU],\\\\n\",\\n    \"    GUNAGHZOU: [WUHAN, BANGKOK],\\\\n\",\\n    \"    SHENZHEN: [WUHAN, BANGKOK],\\\\n\",\\n    \"    BANGKOK: [SHENZHEN, GUNAGHZOU]\\\\n\",\\n    \"}\"\\n   ]\\n  },\\n  {\\n   \"cell_type\": \"code\",\\n   \"execution_count\": 22,\\n   \"metadata\": {},\\n   \"outputs\": [],\\n   \"source\": [\\n    \"import networkx as nx\"\\n   ]\\n  },\\n  {\\n   \"cell_type\": \"code\",\\n   \"execution_count\": 24,\\n   \"metadata\": {},\\n   \"outputs\": [],\\n   \"source\": [\\n    \"%matplotlib inline\"\\n   ]\\n  },\\n  {\\n   \"cell_type\": \"code\",\\n   \"execution_count\": 25,\\n   \"metadata\": {},\\n   \"outputs\": [],\\n   \"source\": [\\n    \"graph = connection\"\\n   ]\\n  },\\n  {\\n   \"cell_type\": \"code\",\\n   \"execution_count\": 27,\\n   \"metadata\": {},\\n   \"outputs\": [],\\n   \"source\": [\\n    \"g = nx.Graph(graph)\"\\n   ]\\n  },\\n  {\\n   \"cell_type\": \"code\",\\n   \"execution_count\": 30,\\n   \"metadata\": {},\\n   \"outputs\": [\\n    {\\n     \"data\": {\\n      \"image/png\": \"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\\\\n\",\\n      \"text/plain\": [\\n       \"<Figure size 432x288 with 1 Axes>\"\\n      ]\\n     },\\n     \"metadata\": {},\\n     \"output_type\": \"display_data\"\\n    }\\n   ],\\n   \"source\": [\\n    \"nx.draw(g)\"\\n   ]\\n  },\\n  {\\n   \"cell_type\": \"code\",\\n   \"execution_count\": 107,\\n   \"metadata\": {},\\n   \"outputs\": [],\\n   \"source\": [\\n    \"def nagivator(start, destination, connection_graph):\\\\n\",\\n    \"    pathes = [[start] ]\\\\n\",\\n    \"    seen = set()\\\\n\",\\n    \"    \\\\n\",\\n    \"    while pathes:\\\\n\",\\n    \"        path = pathes.pop(0)\\\\n\",\\n    \"        froniter = path[-1]\\\\n\",\\n    \"        \\\\n\",\\n    \"        if froniter in seen: continue\\\\n\",\\n    \"            \\\\n\",\\n    \"        successors = connection_graph[froniter]\\\\n\",\\n    \"        \\\\n\",\\n    \"        for s in successors: \\\\n\",\\n    \"            if s == destination: \\\\n\",\\n    \"                path.append(s)\\\\n\",\\n    \"                return path\\\\n\",\\n    \"            else:\\\\n\",\\n    \"                pathes.append(path + [s])  \\\\n\",\\n    \"                \\\\n\",\\n    \"        pathes = sorted(pathes, key=len) # 最小换成\\\\n\",\\n    \"                \\\\n\",\\n    \"        seen.add(froniter)\"\\n   ]\\n  },\\n  {\\n   \"cell_type\": \"code\",\\n   \"execution_count\": 128,\\n   \"metadata\": {},\\n   \"outputs\": [],\\n   \"source\": [\\n    \"def nagivator_bfs(start, destination, connection_graph):\\\\n\",\\n    \"    pathes = [start ]\\\\n\",\\n    \"    seen = set()\\\\n\",\\n    \"    \\\\n\",\\n    \"    while pathes:\\\\n\",\\n    \"        froniter = pathes.pop(0)\\\\n\",\\n    \"        \\\\n\",\\n    \"        if froniter in seen: continue\\\\n\",\\n    \"            \\\\n\",\\n    \"        successors = connection_graph[froniter]\\\\n\",\\n    \"        print(\\'standing on {} Looking forward {}\\'.format(froniter, successors))\\\\n\",\\n    \"        pathes = pathes + successors\\\\n\",\\n    \"                \\\\n\",\\n    \"        seen.add(froniter)\"\\n   ]\\n  },\\n  {\\n   \"cell_type\": \"code\",\\n   \"execution_count\": 132,\\n   \"metadata\": {},\\n   \"outputs\": [],\\n   \"source\": [\\n    \"connection_2 = {\\\\n\",\\n    \"    0: [1, 5], \\\\n\",\\n    \"    1: [0, 2], \\\\n\",\\n    \"    2: [1, 3], \\\\n\",\\n    \"    3: [2, 4], \\\\n\",\\n    \"    4: [3],\\\\n\",\\n    \"    5: [0, 6], \\\\n\",\\n    \"    6: [5, 7],\\\\n\",\\n    \"    7: [6]\\\\n\",\\n    \"}\"\\n   ]\\n  },\\n  {\\n   \"cell_type\": \"code\",\\n   \"execution_count\": 129,\\n   \"metadata\": {},\\n   \"outputs\": [\\n    {\\n     \"name\": \"stderr\",\\n     \"output_type\": \"stream\",\\n     \"text\": [\\n      \"/Users/mqgao/anaconda3/lib/python3.7/site-packages/networkx/drawing/nx_pylab.py:611: MatplotlibDeprecationWarning: isinstance(..., numbers.Number)\\\\n\",\\n      \"  if cb.is_numlike(alpha):\\\\n\"\\n     ]\\n    },\\n    {\\n     \"data\": {\\n      \"image/png\": \"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\\\\n\",\\n      \"text/plain\": [\\n       \"<Figure size 432x288 with 1 Axes>\"\\n      ]\\n     },\\n     \"metadata\": {},\\n     \"output_type\": \"display_data\"\\n    }\\n   ],\\n   \"source\": [\\n    \"nx.draw(nx.Graph(connection_2))\"\\n   ]\\n  },\\n  {\\n   \"cell_type\": \"code\",\\n   \"execution_count\": 133,\\n   \"metadata\": {},\\n   \"outputs\": [\\n    {\\n     \"name\": \"stdout\",\\n     \"output_type\": \"stream\",\\n     \"text\": [\\n      \"standing on 0 Looking forward [1, 5]\\\\n\",\\n      \"standing on 1 Looking forward [0, 2]\\\\n\",\\n      \"standing on 5 Looking forward [0, 6]\\\\n\",\\n      \"standing on 2 Looking forward [1, 3]\\\\n\",\\n      \"standing on 6 Looking forward [5, 7]\\\\n\",\\n      \"standing on 3 Looking forward [2, 4]\\\\n\",\\n      \"standing on 7 Looking forward [6]\\\\n\",\\n      \"standing on 4 Looking forward [3]\\\\n\"\\n     ]\\n    }\\n   ],\\n   \"source\": [\\n    \"nagivator_bfs(0, 7, connection_2)\"\\n   ]\\n  },\\n  {\\n   \"cell_type\": \"code\",\\n   \"execution_count\": 137,\\n   \"metadata\": {},\\n   \"outputs\": [],\\n   \"source\": [\\n    \"def nagivator_dfs(start, destination, connection_graph):\\\\n\",\\n    \"    pathes = [start ]\\\\n\",\\n    \"    seen = set()\\\\n\",\\n    \"    \\\\n\",\\n    \"    while pathes:\\\\n\",\\n    \"        froniter = pathes.pop(0)\\\\n\",\\n    \"        \\\\n\",\\n    \"        if froniter in seen: continue\\\\n\",\\n    \"            \\\\n\",\\n    \"        successors = connection_graph[froniter]\\\\n\",\\n    \"        print(\\'standing on {} Looking forward {}\\'.format(froniter, successors))\\\\n\",\\n    \"        pathes = successors + pathes\\\\n\",\\n    \"                \\\\n\",\\n    \"        seen.add(froniter)\"\\n   ]\\n  },\\n  {\\n   \"cell_type\": \"code\",\\n   \"execution_count\": 138,\\n   \"metadata\": {},\\n   \"outputs\": [\\n    {\\n     \"name\": \"stdout\",\\n     \"output_type\": \"stream\",\\n     \"text\": [\\n      \"standing on 0 Looking forward [1, 5]\\\\n\",\\n      \"standing on 1 Looking forward [0, 2]\\\\n\",\\n      \"standing on 2 Looking forward [1, 3]\\\\n\",\\n      \"standing on 3 Looking forward [2, 4]\\\\n\",\\n      \"standing on 4 Looking forward [3]\\\\n\",\\n      \"standing on 5 Looking forward [0, 6]\\\\n\",\\n      \"standing on 6 Looking forward [5, 7]\\\\n\",\\n      \"standing on 7 Looking forward [6]\\\\n\"\\n     ]\\n    }\\n   ],\\n   \"source\": [\\n    \"nagivator_dfs(0, 7, connection_2)\"\\n   ]\\n  },\\n  {\\n   \"cell_type\": \"code\",\\n   \"execution_count\": 105,\\n   \"metadata\": {},\\n   \"outputs\": [],\\n   \"source\": [\\n    \"def draw_route(routes):\\\\n\",\\n    \"    print(\\'🛫->\\'.join(routes))\"\\n   ]\\n  },\\n  {\\n   \"cell_type\": \"code\",\\n   \"execution_count\": 110,\\n   \"metadata\": {},\\n   \"outputs\": [\\n    {\\n     \"ename\": \"TypeError\",\\n     \"evalue\": \"can only join an iterable\",\\n     \"output_type\": \"error\",\\n     \"traceback\": [\\n      \"\\\\u001b[0;31m---------------------------------------------------------------------------\\\\u001b[0m\",\\n      \"\\\\u001b[0;31mTypeError\\\\u001b[0m                                 Traceback (most recent call last)\",\\n      \"\\\\u001b[0;32m<ipython-input-110-1319dffac038>\\\\u001b[0m in \\\\u001b[0;36m<module>\\\\u001b[0;34m\\\\u001b[0m\\\\n\\\\u001b[0;32m----> 1\\\\u001b[0;31m \\\\u001b[0mdraw_route\\\\u001b[0m\\\\u001b[0;34m(\\\\u001b[0m\\\\u001b[0mnagivator\\\\u001b[0m\\\\u001b[0;34m(\\\\u001b[0m\\\\u001b[0mCHANGCHUN\\\\u001b[0m\\\\u001b[0;34m,\\\\u001b[0m \\\\u001b[0mBANGKOK\\\\u001b[0m\\\\u001b[0;34m,\\\\u001b[0m \\\\u001b[0mconnection\\\\u001b[0m\\\\u001b[0;34m)\\\\u001b[0m\\\\u001b[0;34m)\\\\u001b[0m\\\\u001b[0;34m\\\\u001b[0m\\\\u001b[0;34m\\\\u001b[0m\\\\u001b[0m\\\\n\\\\u001b[0m\",\\n      \"\\\\u001b[0;32m<ipython-input-105-5e9ec87562af>\\\\u001b[0m in \\\\u001b[0;36mdraw_route\\\\u001b[0;34m(routes)\\\\u001b[0m\\\\n\\\\u001b[1;32m      1\\\\u001b[0m \\\\u001b[0;32mdef\\\\u001b[0m \\\\u001b[0mdraw_route\\\\u001b[0m\\\\u001b[0;34m(\\\\u001b[0m\\\\u001b[0mroutes\\\\u001b[0m\\\\u001b[0;34m)\\\\u001b[0m\\\\u001b[0;34m:\\\\u001b[0m\\\\u001b[0;34m\\\\u001b[0m\\\\u001b[0;34m\\\\u001b[0m\\\\u001b[0m\\\\n\\\\u001b[0;32m----> 2\\\\u001b[0;31m     \\\\u001b[0mprint\\\\u001b[0m\\\\u001b[0;34m(\\\\u001b[0m\\\\u001b[0;34m\\'🛫->\\'\\\\u001b[0m\\\\u001b[0;34m.\\\\u001b[0m\\\\u001b[0mjoin\\\\u001b[0m\\\\u001b[0;34m(\\\\u001b[0m\\\\u001b[0mroutes\\\\u001b[0m\\\\u001b[0;34m)\\\\u001b[0m\\\\u001b[0;34m)\\\\u001b[0m\\\\u001b[0;34m\\\\u001b[0m\\\\u001b[0;34m\\\\u001b[0m\\\\u001b[0m\\\\n\\\\u001b[0m\",\\n      \"\\\\u001b[0;31mTypeError\\\\u001b[0m: can only join an iterable\"\\n     ]\\n    }\\n   ],\\n   \"source\": [\\n    \"draw_route(nagivator(CHANGCHUN, BANGKOK, connection))\"\\n   ]\\n  },\\n  {\\n   \"cell_type\": \"markdown\",\\n   \"metadata\": {},\\n   \"source\": [\\n    \"## Sentence Generation\"\\n   ]\\n  },\\n  {\\n   \"cell_type\": \"code\",\\n   \"execution_count\": 240,\\n   \"metadata\": {},\\n   \"outputs\": [],\\n   \"source\": [\\n    \"decimal_grammar = \\\\\"\\\\\"\\\\\"\\\\n\",\\n    \"expression = operator op operator\\\\n\",\\n    \"operator = num op num\\\\n\",\\n    \"num = 0 | 1 | 2 | 3 | 4 | 5 | 6 | 7 | 8 | 9 | num num\\\\n\",\\n    \"op = + | - | * | /\\\\n\",\\n    \"\\\\\"\\\\\"\\\\\"\"\\n   ]\\n  },\\n  {\\n   \"cell_type\": \"code\",\\n   \"execution_count\": null,\\n   \"metadata\": {},\\n   \"outputs\": [],\\n   \"source\": [\\n    \"grammar = \\\\\"\\\\\"\\\\\"\\\\n\",\\n    \"stmt = if block else block\\\\n\",\\n    \"block = cmp; assigment\\\\n\",\\n    \"assgiment = XXX\\\\n\",\\n    \"XXX\\\\n\",\\n    \"\\\\\"\\\\\"\\\\\"\"\\n   ]\\n  },\\n  {\\n   \"cell_type\": \"code\",\\n   \"execution_count\": 149,\\n   \"metadata\": {},\\n   \"outputs\": [],\\n   \"source\": [\\n    \"grammar = \\\\\"\\\\\"\\\\\"\\\\n\",\\n    \"sentence => noun_phrase verb_phrase \\\\n\",\\n    \"noun_phrase => Article Adj* noun\\\\n\",\\n    \"Adj* => null | Adj Adj*\\\\n\",\\n    \"verb_phrase => verb noun_phrase\\\\n\",\\n    \"Article =>  一个 | 这个\\\\n\",\\n    \"noun =>   女人 |  篮球 | 桌子 | 小猫\\\\n\",\\n    \"verb => 看着   |  坐在 |  听着 | 看见\\\\n\",\\n    \"Adj =>   蓝色的 |  好看的 | 小小的\\\\n\",\\n    \"\\\\\"\\\\\"\\\\\"\"\\n   ]\\n  },\\n  {\\n   \"cell_type\": \"code\",\\n   \"execution_count\": 140,\\n   \"metadata\": {},\\n   \"outputs\": [],\\n   \"source\": [\\n    \"import random\"\\n   ]\\n  },\\n  {\\n   \"cell_type\": \"code\",\\n   \"execution_count\": 146,\\n   \"metadata\": {},\\n   \"outputs\": [\\n    {\\n     \"ename\": \"SyntaxError\",\\n     \"evalue\": \"invalid syntax (<ipython-input-146-635c793828cf>, line 2)\",\\n     \"output_type\": \"error\",\\n     \"traceback\": [\\n      \"\\\\u001b[0;36m  File \\\\u001b[0;32m\\\\\"<ipython-input-146-635c793828cf>\\\\\"\\\\u001b[0;36m, line \\\\u001b[0;32m2\\\\u001b[0m\\\\n\\\\u001b[0;31m    funciton: return\\\\u001b[0m\\\\n\\\\u001b[0m                   ^\\\\u001b[0m\\\\n\\\\u001b[0;31mSyntaxError\\\\u001b[0m\\\\u001b[0;31m:\\\\u001b[0m invalid syntax\\\\n\"\\n     ]\\n    }\\n   ],\\n   \"source\": [\\n    \"generate(\\\\\"verb_phrase\\\\\") = generate(\\\\\"verb\\\\\") + generate(\\\\\"noun_phrase\\\\\")\\\\n\",\\n    \"generate(\\'noun\\') = random.choice(\\\\\"女人 |  篮球 | 桌子 | 小猫\\\\\")\"\\n   ]\\n  },\\n  {\\n   \"cell_type\": \"code\",\\n   \"execution_count\": 151,\\n   \"metadata\": {},\\n   \"outputs\": [],\\n   \"source\": [\\n    \"def parse_grammar(grammar_str, sep=\\'=>\\'):\\\\n\",\\n    \"    grammar = {}\\\\n\",\\n    \"    for line in grammar_str.split(\\'\\\\\\\\n\\'): \\\\n\",\\n    \"        line = line.strip()\\\\n\",\\n    \"        if not line: continue\\\\n\",\\n    \"        \\\\n\",\\n    \"        target, rules = line.split(sep)\\\\n\",\\n    \"        \\\\n\",\\n    \"        grammar[target.strip()] = [r.split() for r in rules.split(\\'|\\')]\\\\n\",\\n    \"    \\\\n\",\\n    \"    return grammar\"\\n   ]\\n  },\\n  {\\n   \"cell_type\": \"code\",\\n   \"execution_count\": 153,\\n   \"metadata\": {},\\n   \"outputs\": [],\\n   \"source\": [\\n    \"g = parse_grammar(grammar)\"\\n   ]\\n  },\\n  {\\n   \"cell_type\": \"code\",\\n   \"execution_count\": 154,\\n   \"metadata\": {},\\n   \"outputs\": [\\n    {\\n     \"data\": {\\n      \"text/plain\": [\\n       \"{\\'sentence\\': [[\\'noun_phrase\\', \\'verb_phrase\\']],\\\\n\",\\n       \" \\'noun_phrase\\': [[\\'Article\\', \\'Adj*\\', \\'noun\\']],\\\\n\",\\n       \" \\'Adj*\\': [[\\'null\\'], [\\'Adj\\', \\'Adj*\\']],\\\\n\",\\n       \" \\'verb_phrase\\': [[\\'verb\\', \\'noun_phrase\\']],\\\\n\",\\n       \" \\'Article\\': [[\\'一个\\'], [\\'这个\\']],\\\\n\",\\n       \" \\'noun\\': [[\\'女人\\'], [\\'篮球\\'], [\\'桌子\\'], [\\'小猫\\']],\\\\n\",\\n       \" \\'verb\\': [[\\'看着\\'], [\\'坐在\\'], [\\'听着\\'], [\\'看见\\']],\\\\n\",\\n       \" \\'Adj\\': [[\\'蓝色的\\'], [\\'好看的\\'], [\\'小小的\\']]}\"\\n      ]\\n     },\\n     \"execution_count\": 154,\\n     \"metadata\": {},\\n     \"output_type\": \"execute_result\"\\n    }\\n   ],\\n   \"source\": [\\n    \"g\"\\n   ]\\n  },\\n  {\\n   \"cell_type\": \"code\",\\n   \"execution_count\": 192,\\n   \"metadata\": {},\\n   \"outputs\": [],\\n   \"source\": [\\n    \"def gene(grammar_parsed, target=\\'sentence\\'):\\\\n\",\\n    \"    if target not in grammar_parsed: return target\\\\n\",\\n    \"    \\\\n\",\\n    \"    rule = random.choice(grammar_parsed[target])\\\\n\",\\n    \"    return \\'\\'.join(gene(grammar_parsed, target=r) for r in rule if r!=\\'null\\')\"\\n   ]\\n  },\\n  {\\n   \"cell_type\": \"code\",\\n   \"execution_count\": 193,\\n   \"metadata\": {},\\n   \"outputs\": [\\n    {\\n     \"data\": {\\n      \"text/plain\": [\\n       \"[[\\'noun_phrase\\', \\'verb_phrase\\']]\"\\n      ]\\n     },\\n     \"execution_count\": 193,\\n     \"metadata\": {},\\n     \"output_type\": \"execute_result\"\\n    }\\n   ],\\n   \"source\": [\\n    \"g[\\'sentence\\']\"\\n   ]\\n  },\\n  {\\n   \"cell_type\": \"code\",\\n   \"execution_count\": 206,\\n   \"metadata\": {},\\n   \"outputs\": [\\n    {\\n     \"data\": {\\n      \"text/plain\": [\\n       \"\\'这个小小的女人看见这个小猫\\'\"\\n      ]\\n     },\\n     \"execution_count\": 206,\\n     \"metadata\": {},\\n     \"output_type\": \"execute_result\"\\n    }\\n   ],\\n   \"source\": [\\n    \"gene(g)\"\\n   ]\\n  },\\n  {\\n   \"cell_type\": \"code\",\\n   \"execution_count\": 257,\\n   \"metadata\": {},\\n   \"outputs\": [\\n    {\\n     \"name\": \"stdout\",\\n     \"output_type\": \"stream\",\\n     \"text\": [\\n      \"30+2-99*8\\\\n\",\\n      \"8+9-9+9\\\\n\",\\n      \"4*7*3*1\\\\n\",\\n      \"2*0-2+6\\\\n\",\\n      \"7/9*0-6\\\\n\",\\n      \"6*5/7+2\\\\n\",\\n      \"3-1/4+3\\\\n\",\\n      \"7/0*8/5\\\\n\",\\n      \"3/0*7/63\\\\n\",\\n      \"21-3-2-5\\\\n\",\\n      \"6+1+7+6\\\\n\",\\n      \"3*8-07*7\\\\n\",\\n      \"9-396/8+1\\\\n\",\\n      \"9*50+2/4\\\\n\",\\n      \"5-7+1+2\\\\n\",\\n      \"8-7/4*1\\\\n\",\\n      \"4-4/0*8\\\\n\",\\n      \"3*2*84/3\\\\n\",\\n      \"4-7*7*3\\\\n\",\\n      \"1-9+3*1\\\\n\"\\n     ]\\n    }\\n   ],\\n   \"source\": [\\n    \"for i in range(20):\\\\n\",\\n    \"    print(gene(parse_grammar(decimal_grammar, sep=\\'=\\'), target=\\'expression\\'))\"\\n   ]\\n  }\\n ],\\n \"metadata\": {\\n  \"kernelspec\": {\\n   \"display_name\": \"Python 3\",\\n   \"language\": \"python\",\\n   \"name\": \"python3\"\\n  },\\n  \"language_info\": {\\n   \"codemirror_mode\": {\\n    \"name\": \"ipython\",\\n    \"version\": 3\\n   },\\n   \"file_extension\": \".py\",\\n   \"mimetype\": \"text/x-python\",\\n   \"name\": \"python\",\\n   \"nbconvert_exporter\": \"python\",\\n   \"pygments_lexer\": \"ipython3\",\\n   \"version\": \"3.7.1\"\\n  }\\n },\\n \"nbformat\": 4,\\n \"nbformat_minor\": 2\\n}\\n'"
      ]
     },
     "execution_count": 44,
     "metadata": {},
     "output_type": "execute_result"
    }
   ],
   "source": [
    "f.read()"
   ]
  },
  {
   "cell_type": "code",
   "execution_count": 5,
   "metadata": {},
   "outputs": [],
   "source": [
    "## generator "
   ]
  },
  {
   "cell_type": "code",
   "execution_count": 15,
   "metadata": {},
   "outputs": [],
   "source": [
    "import time"
   ]
  },
  {
   "cell_type": "code",
   "execution_count": 34,
   "metadata": {},
   "outputs": [],
   "source": [
    "def func(i):\n",
    "    time.sleep(0.2)\n",
    "    return i"
   ]
  },
  {
   "cell_type": "code",
   "execution_count": 21,
   "metadata": {},
   "outputs": [],
   "source": [
    "def gene_func():\n",
    "    yield 1\n",
    "    yield 2\n",
    "    yield 5"
   ]
  },
  {
   "cell_type": "code",
   "execution_count": 25,
   "metadata": {},
   "outputs": [
    {
     "data": {
      "text/plain": [
       "1"
      ]
     },
     "execution_count": 25,
     "metadata": {},
     "output_type": "execute_result"
    }
   ],
   "source": [
    "next(g)"
   ]
  },
  {
   "cell_type": "code",
   "execution_count": 26,
   "metadata": {},
   "outputs": [
    {
     "data": {
      "text/plain": [
       "2"
      ]
     },
     "execution_count": 26,
     "metadata": {},
     "output_type": "execute_result"
    }
   ],
   "source": [
    "next(g)"
   ]
  },
  {
   "cell_type": "code",
   "execution_count": 27,
   "metadata": {},
   "outputs": [
    {
     "data": {
      "text/plain": [
       "5"
      ]
     },
     "execution_count": 27,
     "metadata": {},
     "output_type": "execute_result"
    }
   ],
   "source": [
    "next(g)"
   ]
  },
  {
   "cell_type": "code",
   "execution_count": 33,
   "metadata": {},
   "outputs": [],
   "source": [
    "def loop(n):\n",
    "    results = [] \n",
    "    for i in range(n):\n",
    "        r = func(i)\n",
    "        results.append(r)\n",
    "    return results"
   ]
  },
  {
   "cell_type": "code",
   "execution_count": 20,
   "metadata": {},
   "outputs": [
    {
     "data": {
      "text/plain": [
       "[0, 1, 2, 3, 4, 5, 6, 7, 8, 9]"
      ]
     },
     "execution_count": 20,
     "metadata": {},
     "output_type": "execute_result"
    }
   ],
   "source": [
    "loop(10)"
   ]
  },
  {
   "cell_type": "code",
   "execution_count": 37,
   "metadata": {},
   "outputs": [],
   "source": [
    "def loop_with_gene(n):\n",
    "    for i in range(n):\n",
    "        r = func(i)\n",
    "        yield r"
   ]
  },
  {
   "cell_type": "code",
   "execution_count": 38,
   "metadata": {},
   "outputs": [],
   "source": [
    "G = loop_with_gene(3)"
   ]
  },
  {
   "cell_type": "code",
   "execution_count": 39,
   "metadata": {},
   "outputs": [
    {
     "data": {
      "text/plain": [
       "0"
      ]
     },
     "execution_count": 39,
     "metadata": {},
     "output_type": "execute_result"
    }
   ],
   "source": [
    "next(G)"
   ]
  },
  {
   "cell_type": "code",
   "execution_count": 40,
   "metadata": {},
   "outputs": [
    {
     "data": {
      "text/plain": [
       "1"
      ]
     },
     "execution_count": 40,
     "metadata": {},
     "output_type": "execute_result"
    }
   ],
   "source": [
    "next(G)"
   ]
  },
  {
   "cell_type": "code",
   "execution_count": 41,
   "metadata": {},
   "outputs": [
    {
     "data": {
      "text/plain": [
       "2"
      ]
     },
     "execution_count": 41,
     "metadata": {},
     "output_type": "execute_result"
    }
   ],
   "source": [
    "next(G)"
   ]
  },
  {
   "cell_type": "code",
   "execution_count": 42,
   "metadata": {},
   "outputs": [
    {
     "ename": "StopIteration",
     "evalue": "",
     "output_type": "error",
     "traceback": [
      "\u001b[0;31m---------------------------------------------------------------------------\u001b[0m",
      "\u001b[0;31mStopIteration\u001b[0m                             Traceback (most recent call last)",
      "\u001b[0;32m<ipython-input-42-b4d1fcb0baf1>\u001b[0m in \u001b[0;36m<module>\u001b[0;34m\u001b[0m\n\u001b[0;32m----> 1\u001b[0;31m \u001b[0mnext\u001b[0m\u001b[0;34m(\u001b[0m\u001b[0mG\u001b[0m\u001b[0;34m)\u001b[0m\u001b[0;34m\u001b[0m\u001b[0;34m\u001b[0m\u001b[0m\n\u001b[0m",
      "\u001b[0;31mStopIteration\u001b[0m: "
     ]
    }
   ],
   "source": [
    "next(G)"
   ]
  },
  {
   "cell_type": "code",
   "execution_count": 35,
   "metadata": {},
   "outputs": [
    {
     "name": "stdout",
     "output_type": "stream",
     "text": [
      "0\n",
      "1\n",
      "2\n",
      "3\n",
      "4\n",
      "5\n",
      "6\n",
      "7\n",
      "8\n",
      "9\n"
     ]
    }
   ],
   "source": [
    "for i in loop(10):\n",
    "    print(i)"
   ]
  },
  {
   "cell_type": "code",
   "execution_count": 36,
   "metadata": {},
   "outputs": [
    {
     "name": "stdout",
     "output_type": "stream",
     "text": [
      "0\n",
      "1\n",
      "2\n",
      "3\n",
      "4\n",
      "5\n",
      "6\n",
      "7\n",
      "8\n",
      "9\n"
     ]
    }
   ],
   "source": [
    "for i in loop_with_gene(10):\n",
    "    print(i)"
   ]
  },
  {
   "cell_type": "code",
   "execution_count": 104,
   "metadata": {},
   "outputs": [],
   "source": [
    "import random"
   ]
  },
  {
   "cell_type": "code",
   "execution_count": 130,
   "metadata": {},
   "outputs": [
    {
     "data": {
      "text/plain": [
       "-0.324799681877483"
      ]
     },
     "execution_count": 130,
     "metadata": {},
     "output_type": "execute_result"
    }
   ],
   "source": [
    "random.random() * 2 - 1"
   ]
  },
  {
   "cell_type": "code",
   "execution_count": 62,
   "metadata": {},
   "outputs": [
    {
     "name": "stdout",
     "output_type": "stream",
     "text": [
      "/Users/mqgao/Workspace/Lecture/jupyters_and_slides/2019-spring\r\n"
     ]
    }
   ],
   "source": [
    "!pwd"
   ]
  },
  {
   "cell_type": "markdown",
   "metadata": {},
   "source": [
    "#### titanic data download path: https://www.kaggle.com/c/titanic/data"
   ]
  },
  {
   "cell_type": "code",
   "execution_count": 64,
   "metadata": {},
   "outputs": [],
   "source": [
    "titanic_fname = '/Users/mqgao/Workspace/Lecture/datasource/titanic/train.csv'"
   ]
  },
  {
   "cell_type": "code",
   "execution_count": 65,
   "metadata": {},
   "outputs": [],
   "source": [
    "import pandas as pd"
   ]
  },
  {
   "cell_type": "code",
   "execution_count": 66,
   "metadata": {},
   "outputs": [],
   "source": [
    "content = pd.read_csv(titanic_fname)"
   ]
  },
  {
   "cell_type": "code",
   "execution_count": 67,
   "metadata": {},
   "outputs": [
    {
     "data": {
      "text/html": [
       "<div>\n",
       "<style scoped>\n",
       "    .dataframe tbody tr th:only-of-type {\n",
       "        vertical-align: middle;\n",
       "    }\n",
       "\n",
       "    .dataframe tbody tr th {\n",
       "        vertical-align: top;\n",
       "    }\n",
       "\n",
       "    .dataframe thead th {\n",
       "        text-align: right;\n",
       "    }\n",
       "</style>\n",
       "<table border=\"1\" class=\"dataframe\">\n",
       "  <thead>\n",
       "    <tr style=\"text-align: right;\">\n",
       "      <th></th>\n",
       "      <th>PassengerId</th>\n",
       "      <th>Survived</th>\n",
       "      <th>Pclass</th>\n",
       "      <th>Name</th>\n",
       "      <th>Sex</th>\n",
       "      <th>Age</th>\n",
       "      <th>SibSp</th>\n",
       "      <th>Parch</th>\n",
       "      <th>Ticket</th>\n",
       "      <th>Fare</th>\n",
       "      <th>Cabin</th>\n",
       "      <th>Embarked</th>\n",
       "    </tr>\n",
       "  </thead>\n",
       "  <tbody>\n",
       "    <tr>\n",
       "      <th>0</th>\n",
       "      <td>1</td>\n",
       "      <td>0</td>\n",
       "      <td>3</td>\n",
       "      <td>Braund, Mr. Owen Harris</td>\n",
       "      <td>male</td>\n",
       "      <td>22.0</td>\n",
       "      <td>1</td>\n",
       "      <td>0</td>\n",
       "      <td>A/5 21171</td>\n",
       "      <td>7.2500</td>\n",
       "      <td>NaN</td>\n",
       "      <td>S</td>\n",
       "    </tr>\n",
       "    <tr>\n",
       "      <th>1</th>\n",
       "      <td>2</td>\n",
       "      <td>1</td>\n",
       "      <td>1</td>\n",
       "      <td>Cumings, Mrs. John Bradley (Florence Briggs Th...</td>\n",
       "      <td>female</td>\n",
       "      <td>38.0</td>\n",
       "      <td>1</td>\n",
       "      <td>0</td>\n",
       "      <td>PC 17599</td>\n",
       "      <td>71.2833</td>\n",
       "      <td>C85</td>\n",
       "      <td>C</td>\n",
       "    </tr>\n",
       "    <tr>\n",
       "      <th>2</th>\n",
       "      <td>3</td>\n",
       "      <td>1</td>\n",
       "      <td>3</td>\n",
       "      <td>Heikkinen, Miss. Laina</td>\n",
       "      <td>female</td>\n",
       "      <td>26.0</td>\n",
       "      <td>0</td>\n",
       "      <td>0</td>\n",
       "      <td>STON/O2. 3101282</td>\n",
       "      <td>7.9250</td>\n",
       "      <td>NaN</td>\n",
       "      <td>S</td>\n",
       "    </tr>\n",
       "    <tr>\n",
       "      <th>3</th>\n",
       "      <td>4</td>\n",
       "      <td>1</td>\n",
       "      <td>1</td>\n",
       "      <td>Futrelle, Mrs. Jacques Heath (Lily May Peel)</td>\n",
       "      <td>female</td>\n",
       "      <td>35.0</td>\n",
       "      <td>1</td>\n",
       "      <td>0</td>\n",
       "      <td>113803</td>\n",
       "      <td>53.1000</td>\n",
       "      <td>C123</td>\n",
       "      <td>S</td>\n",
       "    </tr>\n",
       "    <tr>\n",
       "      <th>4</th>\n",
       "      <td>5</td>\n",
       "      <td>0</td>\n",
       "      <td>3</td>\n",
       "      <td>Allen, Mr. William Henry</td>\n",
       "      <td>male</td>\n",
       "      <td>35.0</td>\n",
       "      <td>0</td>\n",
       "      <td>0</td>\n",
       "      <td>373450</td>\n",
       "      <td>8.0500</td>\n",
       "      <td>NaN</td>\n",
       "      <td>S</td>\n",
       "    </tr>\n",
       "  </tbody>\n",
       "</table>\n",
       "</div>"
      ],
      "text/plain": [
       "   PassengerId  Survived  Pclass  \\\n",
       "0            1         0       3   \n",
       "1            2         1       1   \n",
       "2            3         1       3   \n",
       "3            4         1       1   \n",
       "4            5         0       3   \n",
       "\n",
       "                                                Name     Sex   Age  SibSp  \\\n",
       "0                            Braund, Mr. Owen Harris    male  22.0      1   \n",
       "1  Cumings, Mrs. John Bradley (Florence Briggs Th...  female  38.0      1   \n",
       "2                             Heikkinen, Miss. Laina  female  26.0      0   \n",
       "3       Futrelle, Mrs. Jacques Heath (Lily May Peel)  female  35.0      1   \n",
       "4                           Allen, Mr. William Henry    male  35.0      0   \n",
       "\n",
       "   Parch            Ticket     Fare Cabin Embarked  \n",
       "0      0         A/5 21171   7.2500   NaN        S  \n",
       "1      0          PC 17599  71.2833   C85        C  \n",
       "2      0  STON/O2. 3101282   7.9250   NaN        S  \n",
       "3      0            113803  53.1000  C123        S  \n",
       "4      0            373450   8.0500   NaN        S  "
      ]
     },
     "execution_count": 67,
     "metadata": {},
     "output_type": "execute_result"
    }
   ],
   "source": [
    "content.head()"
   ]
  },
  {
   "cell_type": "code",
   "execution_count": 69,
   "metadata": {},
   "outputs": [],
   "source": [
    "content = content.dropna()"
   ]
  },
  {
   "cell_type": "code",
   "execution_count": 72,
   "metadata": {},
   "outputs": [],
   "source": [
    "fares = content['Fare'].tolist()"
   ]
  },
  {
   "cell_type": "code",
   "execution_count": 73,
   "metadata": {},
   "outputs": [],
   "source": [
    "ages = content['Age'].tolist()"
   ]
  },
  {
   "cell_type": "code",
   "execution_count": 74,
   "metadata": {},
   "outputs": [],
   "source": [
    "import matplotlib.pyplot as plt"
   ]
  },
  {
   "cell_type": "code",
   "execution_count": 75,
   "metadata": {},
   "outputs": [],
   "source": [
    "%matplotlib inline"
   ]
  },
  {
   "cell_type": "code",
   "execution_count": 78,
   "metadata": {},
   "outputs": [
    {
     "data": {
      "text/plain": [
       "<matplotlib.collections.PathCollection at 0x121645c88>"
      ]
     },
     "execution_count": 78,
     "metadata": {},
     "output_type": "execute_result"
    },
    {
     "data": {
      "image/png": "[encoded data removed]",
      "text/plain": [
       "<Figure size 432x288 with 1 Axes>"
      ]
     },
     "metadata": {
      "needs_background": "light"
     },
     "output_type": "display_data"
    }
   ],
   "source": [
    "plt.scatter(ages, fares)"
   ]
  },
  {
   "cell_type": "code",
   "execution_count": 97,
   "metadata": {},
   "outputs": [],
   "source": [
    "age_with_fares = content[\n",
    "    (content['Age'] > 22) & (content['Fare'] < 400) & (content['Fare'] > 130)\n",
    "]"
   ]
  },
  {
   "cell_type": "code",
   "execution_count": 99,
   "metadata": {},
   "outputs": [],
   "source": [
    "sub_fare = age_with_fares['Fare'].tolist()\n",
    "sub_age = age_with_fares['Age'].tolist()"
   ]
  },
  {
   "cell_type": "code",
   "execution_count": 100,
   "metadata": {},
   "outputs": [
    {
     "data": {
      "text/plain": [
       "<matplotlib.collections.PathCollection at 0x121260748>"
      ]
     },
     "execution_count": 100,
     "metadata": {},
     "output_type": "execute_result"
    },
    {
     "data": {
      "image/png": "[encoded data removed]",
      "text/plain": [
       "<Figure size 432x288 with 1 Axes>"
      ]
     },
     "metadata": {
      "needs_background": "light"
     },
     "output_type": "display_data"
    }
   ],
   "source": [
    "plt.scatter(sub_age, sub_fare)"
   ]
  },
  {
   "cell_type": "markdown",
   "metadata": {},
   "source": [
    "## TODO: get the sub-bin's fare "
   ]
  },
  {
   "cell_type": "markdown",
   "metadata": {},
   "source": [
    "# Best First Search"
   ]
  },
  {
   "cell_type": "markdown",
   "metadata": {},
   "source": [
    "我们根据中国的城市，做一个简易版的导航地图"
   ]
  },
  {
   "cell_type": "code",
   "execution_count": 4,
   "metadata": {},
   "outputs": [],
   "source": [
    "coordination_source = \"\"\"\n",
    "{name:'lanzhou', geoCoord:[103.73, 36.03]},\n",
    "{name:'jiayuguan', geoCoord:[98.17, 39.47]},\n",
    "{name:'xining', geoCoord:[101.74, 36.56]},\n",
    "{name:'chengdu', geoCoord:[104.06, 30.67]},\n",
    "{name:'shijiazhuang', geoCoord:[114.48, 38.03]},\n",
    "{name:'lasa', geoCoord:[102.73, 25.04]},\n",
    "{name:'guiyang', geoCoord:[106.71, 26.57]},\n",
    "{name:'wuhan', geoCoord:[114.31, 30.52]},\n",
    "{name:'zhengzhou', geoCoord:[113.65, 34.76]},\n",
    "{name:'jinan', geoCoord:[117, 36.65]},\n",
    "{name:'nanjing', geoCoord:[118.78, 32.04]},\n",
    "{name:'hefei', geoCoord:[117.27, 31.86]},\n",
    "{name:'hangzhou', geoCoord:[120.19, 30.26]},\n",
    "{name:'nanchang', geoCoord:[115.89, 28.68]},\n",
    "{name:'fuzhou', geoCoord:[119.3, 26.08]},\n",
    "{name:'guangzhou', geoCoord:[113.23, 23.16]},\n",
    "{name:'changsha', geoCoord:[113, 28.21]},\n",
    "//{name:'海口', geoCoord:[110.35, 20.02]},\n",
    "{name:'shengyang', geoCoord:[123.38, 41.8]},\n",
    "{name:'changchun', geoCoord:[125.35, 43.88]},\n",
    "{name:'haorbing', geoCoord:[126.63, 45.75]},\n",
    "{name:'taiyuan', geoCoord:[112.53, 37.87]},\n",
    "{name:'xian', geoCoord:[108.95, 34.27]},\n",
    "//{name:'台湾', geoCoord:[121.30, 25.03]},\n",
    "{name:'beijing', geoCoord:[116.46, 39.92]},\n",
    "{name:'shanghai', geoCoord:[121.48, 31.22]},\n",
    "{name:'chongqing', geoCoord:[106.54, 29.59]},\n",
    "{name:'tianjing', geoCoord:[117.2, 39.13]},\n",
    "{name:'huhehaote', geoCoord:[111.65, 40.82]},\n",
    "{name:'nanning', geoCoord:[108.33, 22.84]},\n",
    "//{name:'西藏', geoCoord:[91.11, 29.97]},\n",
    "{name:'yinchuan', geoCoord:[106.27, 38.47]},\n",
    "{name:'wulumuqi', geoCoord:[87.68, 43.77]},\n",
    "{name:'xiangang', geoCoord:[114.17, 22.28]},\n",
    "{name:'aomen', geoCoord:[113.54, 22.19]}\n",
    "\"\"\""
   ]
  },
  {
   "cell_type": "code",
   "execution_count": 5,
   "metadata": {},
   "outputs": [],
   "source": [
    "coordination_source = \"\"\"\n",
    "{name:'兰州', geoCoord:[103.73, 36.03]},\n",
    "{name:'嘉峪关', geoCoord:[98.17, 39.47]},\n",
    "{name:'西宁', geoCoord:[101.74, 36.56]},\n",
    "{name:'成都', geoCoord:[104.06, 30.67]},\n",
    "{name:'石家庄', geoCoord:[114.48, 38.03]},\n",
    "{name:'拉萨', geoCoord:[102.73, 25.04]},\n",
    "{name:'贵阳', geoCoord:[106.71, 26.57]},\n",
    "{name:'武汉', geoCoord:[114.31, 30.52]},\n",
    "{name:'郑州', geoCoord:[113.65, 34.76]},\n",
    "{name:'济南', geoCoord:[117, 36.65]},\n",
    "{name:'南京', geoCoord:[118.78, 32.04]},\n",
    "{name:'合肥', geoCoord:[117.27, 31.86]},\n",
    "{name:'杭州', geoCoord:[120.19, 30.26]},\n",
    "{name:'南昌', geoCoord:[115.89, 28.68]},\n",
    "{name:'福州', geoCoord:[119.3, 26.08]},\n",
    "{name:'广州', geoCoord:[113.23, 23.16]},\n",
    "{name:'长沙', geoCoord:[113, 28.21]},\n",
    "//{name:'海口', geoCoord:[110.35, 20.02]},\n",
    "{name:'沈阳', geoCoord:[123.38, 41.8]},\n",
    "{name:'长春', geoCoord:[125.35, 43.88]},\n",
    "{name:'哈尔滨', geoCoord:[126.63, 45.75]},\n",
    "{name:'太原', geoCoord:[112.53, 37.87]},\n",
    "{name:'西安', geoCoord:[108.95, 34.27]},\n",
    "//{name:'台湾', geoCoord:[121.30, 25.03]},\n",
    "{name:'北京', geoCoord:[116.46, 39.92]},\n",
    "{name:'上海', geoCoord:[121.48, 31.22]},\n",
    "{name:'重庆', geoCoord:[106.54, 29.59]},\n",
    "{name:'天津', geoCoord:[117.2, 39.13]},\n",
    "{name:'呼和浩特', geoCoord:[111.65, 40.82]},\n",
    "{name:'南宁', geoCoord:[108.33, 22.84]},\n",
    "//{name:'西藏', geoCoord:[91.11, 29.97]},\n",
    "{name:'银川', geoCoord:[106.27, 38.47]},\n",
    "{name:'乌鲁木齐', geoCoord:[87.68, 43.77]},\n",
    "{name:'香港', geoCoord:[114.17, 22.28]},\n",
    "{name:'澳门', geoCoord:[113.54, 22.19]}\n",
    "\"\"\""
   ]
  },
  {
   "cell_type": "markdown",
   "metadata": {},
   "source": [
    "## Important 重要提示: \n",
    "## Important 重要提示: \n",
    "## Important 重要提示: \n",
    "\n",
    "为了让我们的 nextwokr 能够显示中文，请按照该指示进行配置： \n",
    "\n",
    "https://trello.com/c/BrKcAnxf"
   ]
  },
  {
   "cell_type": "code",
   "execution_count": 6,
   "metadata": {},
   "outputs": [],
   "source": [
    "import re"
   ]
  },
  {
   "cell_type": "code",
   "execution_count": 7,
   "metadata": {},
   "outputs": [],
   "source": [
    "city_location = {}\n",
    "# {\n",
    "# city_name:  ()\n",
    "#}"
   ]
  },
  {
   "cell_type": "code",
   "execution_count": 8,
   "metadata": {},
   "outputs": [
    {
     "name": "stdout",
     "output_type": "stream",
     "text": [
      "兰州 (103.73, 36.03)\n",
      "嘉峪关 (98.17, 39.47)\n",
      "西宁 (101.74, 36.56)\n",
      "成都 (104.06, 30.67)\n",
      "石家庄 (114.48, 38.03)\n",
      "拉萨 (102.73, 25.04)\n",
      "贵阳 (106.71, 26.57)\n",
      "武汉 (114.31, 30.52)\n",
      "郑州 (113.65, 34.76)\n",
      "济南 (117.0, 36.65)\n",
      "南京 (118.78, 32.04)\n",
      "合肥 (117.27, 31.86)\n",
      "杭州 (120.19, 30.26)\n",
      "南昌 (115.89, 28.68)\n",
      "福州 (119.3, 26.08)\n",
      "广州 (113.23, 23.16)\n",
      "长沙 (113.0, 28.21)\n",
      "沈阳 (123.38, 41.8)\n",
      "长春 (125.35, 43.88)\n",
      "哈尔滨 (126.63, 45.75)\n",
      "太原 (112.53, 37.87)\n",
      "西安 (108.95, 34.27)\n",
      "北京 (116.46, 39.92)\n",
      "上海 (121.48, 31.22)\n",
      "重庆 (106.54, 29.59)\n",
      "天津 (117.2, 39.13)\n",
      "呼和浩特 (111.65, 40.82)\n",
      "南宁 (108.33, 22.84)\n",
      "银川 (106.27, 38.47)\n",
      "乌鲁木齐 (87.68, 43.77)\n",
      "香港 (114.17, 22.28)\n",
      "澳门 (113.54, 22.19)\n"
     ]
    }
   ],
   "source": [
    "for line in coordination_source.split('\\n'):\n",
    "    if line.startswith('//'): continue\n",
    "    if line.strip() == '': continue\n",
    "    \n",
    "    city = re.findall(\"name:'(\\w+)'\", line)[0]\n",
    "    # python re referenes: https://docs.python.org/3/library/re.html\n",
    "    x_y = re.findall(\"Coord:\\[(\\d+.\\d+),\\s(\\d+.\\d+)\\]\", line)[0]\n",
    "    x_y = tuple(map(float, x_y))\n",
    "    city_location[city] = x_y\n",
    "    print(city, x_y)"
   ]
  },
  {
   "cell_type": "code",
   "execution_count": 9,
   "metadata": {},
   "outputs": [],
   "source": [
    "import math"
   ]
  },
  {
   "cell_type": "code",
   "execution_count": 10,
   "metadata": {},
   "outputs": [],
   "source": [
    "def geo_distance(origin, destination):\n",
    "    \"\"\"\n",
    "    Calculate the Haversine distance.\n",
    "\n",
    "    Parameters\n",
    "    ----------\n",
    "    origin : tuple of float\n",
    "        (lat, long)\n",
    "    destination : tuple of float\n",
    "        (lat, long)\n",
    "\n",
    "    Returns\n",
    "    -------\n",
    "    distance_in_km : float\n",
    "\n",
    "    Examples\n",
    "    --------\n",
    "    >>> origin = (48.1372, 11.5756)  # Munich\n",
    "    >>> destination = (52.5186, 13.4083)  # Berlin\n",
    "    >>> round(distance(origin, destination), 1)\n",
    "    504.2\n",
    "    \"\"\"\n",
    "    lat1, lon1 = origin\n",
    "    lat2, lon2 = destination\n",
    "    radius = 6371  # km\n",
    "\n",
    "    dlat = math.radians(lat2 - lat1)\n",
    "    dlon = math.radians(lon2 - lon1)\n",
    "    a = (math.sin(dlat / 2) * math.sin(dlat / 2) +\n",
    "         math.cos(math.radians(lat1)) * math.cos(math.radians(lat2)) *\n",
    "         math.sin(dlon / 2) * math.sin(dlon / 2))\n",
    "    c = 2 * math.atan2(math.sqrt(a), math.sqrt(1 - a))\n",
    "    d = radius * c\n",
    "\n",
    "    return d"
   ]
  },
  {
   "cell_type": "code",
   "execution_count": 11,
   "metadata": {},
   "outputs": [],
   "source": [
    "def get_city_distance(city1, city2):\n",
    "    return geo_distance(city_location[city1], city_location[city2])"
   ]
  },
  {
   "cell_type": "code",
   "execution_count": 12,
   "metadata": {},
   "outputs": [
    {
     "data": {
      "text/plain": [
       "153.5185697155768"
      ]
     },
     "execution_count": 12,
     "metadata": {},
     "output_type": "execute_result"
    }
   ],
   "source": [
    "get_city_distance('杭州', '上海')"
   ]
  },
  {
   "cell_type": "code",
   "execution_count": 13,
   "metadata": {},
   "outputs": [],
   "source": [
    "import networkx as nx"
   ]
  },
  {
   "cell_type": "code",
   "execution_count": 14,
   "metadata": {},
   "outputs": [],
   "source": [
    "cities = list(city_location.keys())"
   ]
  },
  {
   "cell_type": "code",
   "execution_count": 15,
   "metadata": {},
   "outputs": [
    {
     "data": {
      "text/plain": [
       "['兰州',\n",
       " '嘉峪关',\n",
       " '西宁',\n",
       " '成都',\n",
       " '石家庄',\n",
       " '拉萨',\n",
       " '贵阳',\n",
       " '武汉',\n",
       " '郑州',\n",
       " '济南',\n",
       " '南京',\n",
       " '合肥',\n",
       " '杭州',\n",
       " '南昌',\n",
       " '福州',\n",
       " '广州',\n",
       " '长沙',\n",
       " '沈阳',\n",
       " '长春',\n",
       " '哈尔滨',\n",
       " '太原',\n",
       " '西安',\n",
       " '北京',\n",
       " '上海',\n",
       " '重庆',\n",
       " '天津',\n",
       " '呼和浩特',\n",
       " '南宁',\n",
       " '银川',\n",
       " '乌鲁木齐',\n",
       " '香港',\n",
       " '澳门']"
      ]
     },
     "execution_count": 15,
     "metadata": {},
     "output_type": "execute_result"
    }
   ],
   "source": [
    "cities"
   ]
  },
  {
   "cell_type": "code",
   "execution_count": 16,
   "metadata": {},
   "outputs": [],
   "source": [
    "city_graph = nx.Graph()"
   ]
  },
  {
   "cell_type": "code",
   "execution_count": 17,
   "metadata": {},
   "outputs": [],
   "source": [
    "city_graph.add_nodes_from(cities)"
   ]
  },
  {
   "cell_type": "markdown",
   "metadata": {},
   "source": [
    "## TODO: Adding Chinese Plotting\n",
    "<*how to add chinese *>"
   ]
  },
  {
   "cell_type": "code",
   "execution_count": 18,
   "metadata": {},
   "outputs": [
    {
     "data": {
      "image/png": "[encoded data removed]",
      "text/plain": [
       "<Figure size 432x288 with 1 Axes>"
      ]
     },
     "metadata": {},
     "output_type": "display_data"
    }
   ],
   "source": [
    "nx.draw(city_graph, city_location, with_labels=True, node_size=10)"
   ]
  },
  {
   "cell_type": "code",
   "execution_count": 351,
   "metadata": {},
   "outputs": [
    {
     "data": {
      "text/plain": [
       "153.5185697155768"
      ]
     },
     "execution_count": 351,
     "metadata": {},
     "output_type": "execute_result"
    }
   ],
   "source": [
    "get_city_distance('hangzhou', 'shanghai')"
   ]
  },
  {
   "cell_type": "code",
   "execution_count": 352,
   "metadata": {},
   "outputs": [
    {
     "data": {
      "text/plain": [
       "582.9782141643079"
      ]
     },
     "execution_count": 352,
     "metadata": {},
     "output_type": "execute_result"
    }
   ],
   "source": [
    "get_city_distance('xian', 'lanzhou')"
   ]
  },
  {
   "cell_type": "code",
   "execution_count": 252,
   "metadata": {},
   "outputs": [],
   "source": [
    "threshold = 700"
   ]
  },
  {
   "cell_type": "code",
   "execution_count": 353,
   "metadata": {},
   "outputs": [],
   "source": [
    "from collections import defaultdict"
   ]
  },
  {
   "cell_type": "code",
   "execution_count": 354,
   "metadata": {},
   "outputs": [],
   "source": [
    "cities_connection = defaultdict(list)"
   ]
  },
  {
   "cell_type": "code",
   "execution_count": 355,
   "metadata": {},
   "outputs": [],
   "source": [
    "for c1 in cities:\n",
    "    for c2 in cities:\n",
    "        if c1 == c2: continue\n",
    "        \n",
    "        if get_city_distance(c1, c2) < threshold: \n",
    "            cities_connection[c1].append(c2)"
   ]
  },
  {
   "cell_type": "code",
   "execution_count": 356,
   "metadata": {
    "scrolled": true
   },
   "outputs": [
    {
     "data": {
      "text/plain": [
       "['jiayuguan',\n",
       " 'xining',\n",
       " 'chengdu',\n",
       " 'lasa',\n",
       " 'guiyang',\n",
       " 'xian',\n",
       " 'chongqing',\n",
       " 'nanning',\n",
       " 'yinchuan']"
      ]
     },
     "execution_count": 356,
     "metadata": {},
     "output_type": "execute_result"
    }
   ],
   "source": [
    "cities_connection['lanzhou']"
   ]
  },
  {
   "cell_type": "code",
   "execution_count": 357,
   "metadata": {},
   "outputs": [],
   "source": [
    "cities_connection_graph = nx.Graph(cities_connection)"
   ]
  },
  {
   "cell_type": "code",
   "execution_count": 358,
   "metadata": {},
   "outputs": [
    {
     "data": {
      "text/plain": [
       "776.4154006857316"
      ]
     },
     "execution_count": 358,
     "metadata": {},
     "output_type": "execute_result"
    }
   ],
   "source": [
    "get_city_distance('shengyang', 'beijing')"
   ]
  },
  {
   "cell_type": "code",
   "execution_count": 359,
   "metadata": {},
   "outputs": [
    {
     "name": "stderr",
     "output_type": "stream",
     "text": [
      "/Users/mqgao/anaconda3/lib/python3.7/site-packages/networkx/drawing/nx_pylab.py:611: MatplotlibDeprecationWarning: isinstance(..., numbers.Number)\n",
      "  if cb.is_numlike(alpha):\n"
     ]
    },
    {
     "data": {
      "image/png": "[encoded data removed]",
      "text/plain": [
       "<Figure size 432x288 with 1 Axes>"
      ]
     },
     "metadata": {},
     "output_type": "display_data"
    }
   ],
   "source": [
    "nx.draw(cities_connection_graph, city_location, with_labels=True, node_size=10)"
   ]
  },
  {
   "cell_type": "code",
   "execution_count": 360,
   "metadata": {},
   "outputs": [],
   "source": [
    "def is_goal(desitination):\n",
    "    def _wrap(current_path):\n",
    "        return current_path[-1] == desitination\n",
    "    return _wrap"
   ]
  },
  {
   "cell_type": "code",
   "execution_count": 361,
   "metadata": {},
   "outputs": [
    {
     "ename": "TypeError",
     "evalue": "is_goal() takes 1 positional argument but 2 were given",
     "output_type": "error",
     "traceback": [
      "\u001b[0;31m---------------------------------------------------------------------------\u001b[0m",
      "\u001b[0;31mTypeError\u001b[0m                                 Traceback (most recent call last)",
      "\u001b[0;32m<ipython-input-361-e512690b4abc>\u001b[0m in \u001b[0;36m<module>\u001b[0;34m\u001b[0m\n\u001b[0;32m----> 1\u001b[0;31m \u001b[0mis_goal\u001b[0m\u001b[0;34m(\u001b[0m\u001b[0;34m[\u001b[0m\u001b[0;34m'xian'\u001b[0m\u001b[0;34m,\u001b[0m \u001b[0;34m'lanzhou'\u001b[0m\u001b[0;34m]\u001b[0m\u001b[0;34m,\u001b[0m \u001b[0;34m'lanzhou'\u001b[0m\u001b[0;34m)\u001b[0m\u001b[0;34m\u001b[0m\u001b[0;34m\u001b[0m\u001b[0m\n\u001b[0m",
      "\u001b[0;31mTypeError\u001b[0m: is_goal() takes 1 positional argument but 2 were given"
     ]
    }
   ],
   "source": [
    "is_goal(['xian', 'lanzhou'], 'lanzhou')"
   ]
  },
  {
   "cell_type": "code",
   "execution_count": 362,
   "metadata": {},
   "outputs": [],
   "source": [
    "def search(graph, start, is_goal, search_strategy):\n",
    "    pathes = [[start] ]\n",
    "    seen = set()\n",
    "    \n",
    "    while pathes:\n",
    "        path = pathes.pop(0)\n",
    "        froniter = path[-1]\n",
    "        \n",
    "        if froniter in seen: continue\n",
    "            \n",
    "        successors = graph[froniter]\n",
    "        \n",
    "        for city in successors: \n",
    "            if city in path: continue\n",
    "            \n",
    "            new_path = path+[city]\n",
    "            \n",
    "            pathes.append(new_path)\n",
    "        \n",
    "            if is_goal(new_path): return new_path\n",
    "#        print('len(pathes)={}'.format(pathes))\n",
    "        seen.add(froniter)\n",
    "        pathes = search_strategy(pathes)"
   ]
  },
  {
   "cell_type": "code",
   "execution_count": 315,
   "metadata": {},
   "outputs": [
    {
     "ename": "TypeError",
     "evalue": "search() missing 1 required positional argument: 'search_strategy'",
     "output_type": "error",
     "traceback": [
      "\u001b[0;31m---------------------------------------------------------------------------\u001b[0m",
      "\u001b[0;31mTypeError\u001b[0m                                 Traceback (most recent call last)",
      "\u001b[0;32m<ipython-input-315-ece42f6cfc7d>\u001b[0m in \u001b[0;36m<module>\u001b[0;34m\u001b[0m\n\u001b[0;32m----> 1\u001b[0;31m \u001b[0msearch\u001b[0m\u001b[0;34m(\u001b[0m\u001b[0mcities_connection\u001b[0m\u001b[0;34m,\u001b[0m \u001b[0mstart\u001b[0m\u001b[0;34m=\u001b[0m\u001b[0;34m'xian'\u001b[0m\u001b[0;34m,\u001b[0m \u001b[0mis_goal\u001b[0m\u001b[0;34m=\u001b[0m\u001b[0mis_goal\u001b[0m\u001b[0;34m(\u001b[0m\u001b[0;34m'shanghai'\u001b[0m\u001b[0;34m)\u001b[0m\u001b[0;34m)\u001b[0m\u001b[0;34m\u001b[0m\u001b[0;34m\u001b[0m\u001b[0m\n\u001b[0m",
      "\u001b[0;31mTypeError\u001b[0m: search() missing 1 required positional argument: 'search_strategy'"
     ]
    }
   ],
   "source": [
    "search(cities_connection, start='xian', is_goal=is_goal('shanghai'))"
   ]
  },
  {
   "cell_type": "code",
   "execution_count": 265,
   "metadata": {
    "collapsed": true
   },
   "outputs": [
    {
     "ename": "TypeError",
     "evalue": "search() missing 1 required positional argument: 'search_strategy'",
     "output_type": "error",
     "traceback": [
      "\u001b[0;31m---------------------------------------------------------------------------\u001b[0m",
      "\u001b[0;31mTypeError\u001b[0m                                 Traceback (most recent call last)",
      "\u001b[0;32m<ipython-input-265-8eaf37f23d34>\u001b[0m in \u001b[0;36m<module>\u001b[0;34m\u001b[0m\n\u001b[0;32m----> 1\u001b[0;31m \u001b[0msearch\u001b[0m\u001b[0;34m(\u001b[0m\u001b[0mcities_connection\u001b[0m\u001b[0;34m,\u001b[0m \u001b[0;34m'xian'\u001b[0m\u001b[0;34m,\u001b[0m \u001b[0;34m'shanghai'\u001b[0m\u001b[0;34m)\u001b[0m\u001b[0;34m\u001b[0m\u001b[0;34m\u001b[0m\u001b[0m\n\u001b[0m",
      "\u001b[0;31mTypeError\u001b[0m: search() missing 1 required positional argument: 'search_strategy'"
     ]
    }
   ],
   "source": [
    "search(cities_connection, 'xian', 'shanghai')"
   ]
  },
  {
   "cell_type": "code",
   "execution_count": 278,
   "metadata": {},
   "outputs": [],
   "source": [
    "def sort_path(cmp_func, beam=-1):\n",
    "    def _sorted(pathes):\n",
    "        return sorted(pathes, key=cmp_func)[:beam]\n",
    "    return _sorted"
   ]
  },
  {
   "cell_type": "code",
   "execution_count": 282,
   "metadata": {},
   "outputs": [
    {
     "data": {
      "text/plain": [
       "['beijing', 'changsha', 'nanjing', 'lasa']"
      ]
     },
     "execution_count": 282,
     "metadata": {},
     "output_type": "execute_result"
    }
   ],
   "source": [
    "search(cities_connection, start='beijing', is_goal=is_goal('lasa'), search_strategy=lambda n: n)"
   ]
  },
  {
   "cell_type": "code",
   "execution_count": 326,
   "metadata": {},
   "outputs": [],
   "source": [
    "def get_path_distance(path):\n",
    "    distance = 0\n",
    "    \n",
    "    for i, c in enumerate(path[:-1]):\n",
    "        distance += get_city_distance(c, path[i+1])\n",
    "    \n",
    "    return distance        "
   ]
  },
  {
   "cell_type": "code",
   "execution_count": 327,
   "metadata": {},
   "outputs": [],
   "source": [
    "def get_total_station(path):\n",
    "    return len(path)"
   ]
  },
  {
   "cell_type": "code",
   "execution_count": 332,
   "metadata": {},
   "outputs": [],
   "source": [
    "def get_comprehensive_path(path):\n",
    "    return get_path_distance(path) + get_total_station(path)"
   ]
  },
  {
   "cell_type": "code",
   "execution_count": 305,
   "metadata": {},
   "outputs": [],
   "source": [
    "def get_as_much_path(path): \n",
    "    return -1 * len(path)"
   ]
  },
  {
   "cell_type": "code",
   "execution_count": 279,
   "metadata": {},
   "outputs": [
    {
     "data": {
      "text/plain": [
       "665.2271362574077"
      ]
     },
     "execution_count": 279,
     "metadata": {},
     "output_type": "execute_result"
    }
   ],
   "source": [
    "get_path_distance(['beijing', 'changsha'])"
   ]
  },
  {
   "cell_type": "code",
   "execution_count": 287,
   "metadata": {},
   "outputs": [
    {
     "data": {
      "text/plain": [
       "['beijing',\n",
       " 'taiyuan',\n",
       " 'zhengzhou',\n",
       " 'wuhan',\n",
       " 'nanchang',\n",
       " 'hefei',\n",
       " 'jinan',\n",
       " 'shijiazhuang',\n",
       " 'huhehaote',\n",
       " 'xian',\n",
       " 'chongqing',\n",
       " 'lasa']"
      ]
     },
     "execution_count": 287,
     "metadata": {},
     "output_type": "execute_result"
    }
   ],
   "source": [
    "search(cities_connection, start='beijing', is_goal=is_goal('lasa'), search_strategy=sort_path(get_path_distance, beam=10))"
   ]
  },
  {
   "cell_type": "code",
   "execution_count": 368,
   "metadata": {},
   "outputs": [
    {
     "data": {
      "text/plain": [
       "['beijing', 'changsha', 'nanning', 'lasa']"
      ]
     },
     "execution_count": 368,
     "metadata": {},
     "output_type": "execute_result"
    }
   ],
   "source": [
    "search(cities_connection, start='beijing', is_goal=is_goal('lasa'), search_strategy=lambda n:n)"
   ]
  },
  {
   "cell_type": "code",
   "execution_count": 369,
   "metadata": {},
   "outputs": [
    {
     "data": {
      "text/plain": [
       "['beijing', 'shijiazhuang', 'xian']"
      ]
     },
     "execution_count": 369,
     "metadata": {},
     "output_type": "execute_result"
    }
   ],
   "source": [
    "search(cities_connection, start='beijing', is_goal=is_goal('xian'), search_strategy=sort_path(get_total_station))"
   ]
  },
  {
   "cell_type": "code",
   "execution_count": 366,
   "metadata": {},
   "outputs": [
    {
     "data": {
      "text/plain": [
       "['hangzhou', 'wuhan', 'guangzhou', 'nanning', 'lasa']"
      ]
     },
     "execution_count": 366,
     "metadata": {},
     "output_type": "execute_result"
    }
   ],
   "source": [
    "search(cities_connection, start='hangzhou', is_goal=is_goal('lasa'), search_strategy=sort_path(get_total_station))"
   ]
  },
  {
   "cell_type": "code",
   "execution_count": 365,
   "metadata": {},
   "outputs": [
    {
     "data": {
      "text/plain": [
       "['beijing', 'huhehaote', 'yinchuan', 'lasa']"
      ]
     },
     "execution_count": 365,
     "metadata": {},
     "output_type": "execute_result"
    }
   ],
   "source": [
    "search(cities_connection, start='beijing', is_goal=is_goal('lasa'), search_strategy=sort_path(get_comprehensive_path))"
   ]
  },
  {
   "cell_type": "code",
   "execution_count": 370,
   "metadata": {
    "scrolled": true
   },
   "outputs": [
    {
     "data": {
      "text/plain": [
       "['beijing',\n",
       " 'shijiazhuang',\n",
       " 'wuhan',\n",
       " 'zhengzhou',\n",
       " 'jinan',\n",
       " 'nanjing',\n",
       " 'hefei',\n",
       " 'hangzhou',\n",
       " 'nanchang',\n",
       " 'fuzhou',\n",
       " 'guangzhou',\n",
       " 'changsha',\n",
       " 'taiyuan',\n",
       " 'xian',\n",
       " 'lanzhou',\n",
       " 'lasa']"
      ]
     },
     "execution_count": 370,
     "metadata": {},
     "output_type": "execute_result"
    }
   ],
   "source": [
    "search(cities_connection, start='beijing', is_goal=is_goal('lasa'), search_strategy=sort_path(get_as_much_path))"
   ]
  }
 ],
 "metadata": {
  "kernelspec": {
   "display_name": "Python 3",
   "language": "python",
   "name": "python3"
  },
  "language_info": {
   "codemirror_mode": {
    "name": "ipython",
    "version": 3
   },
   "file_extension": ".py",
   "mimetype": "text/x-python",
   "name": "python",
   "nbconvert_exporter": "python",
   "pygments_lexer": "ipython3",
   "version": "3.7.1"
  }
 },
 "nbformat": 4,
 "nbformat_minor": 2
}
