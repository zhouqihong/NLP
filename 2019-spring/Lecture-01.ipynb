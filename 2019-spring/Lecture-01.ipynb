{
 "cells": [
  {
   "cell_type": "markdown",
   "metadata": {},
   "source": [
    "## Map Search"
   ]
  },
  {
   "cell_type": "code",
   "execution_count": 4,
   "metadata": {},
   "outputs": [],
   "source": [
    "BEIJING, CHANGCHUN, MULUMUQI, WUHAN, GUNAGHZOU, SHENZHEN, BANGKOK, SHANGHAI, NEWYORK = \"\"\"\n",
    "BEIJING CHANGCHUN MULUMUQI WUHAN GUANGZHOU SHENZHEN BANGKOK SHANGHAI NEWYORK\n",
    "\"\"\".split()"
   ]
  },
  {
   "cell_type": "code",
   "execution_count": 9,
   "metadata": {},
   "outputs": [],
   "source": [
    "dictionary = {}"
   ]
  },
  {
   "cell_type": "code",
   "execution_count": 19,
   "metadata": {},
   "outputs": [],
   "source": [
    "connection = {\n",
    "    CHANGCHUN: [BEIJING],\n",
    "    MULUMUQI: [BEIJING], \n",
    "    BEIJING: [MULUMUQI, CHANGCHUN, WUHAN, SHENZHEN, NEWYORK],\n",
    "    NEWYORK: [BEIJING, SHANGHAI],\n",
    "    SHANGHAI: [NEWYORK, WUHAN],\n",
    "    WUHAN: [SHANGHAI, BEIJING, GUNAGHZOU],\n",
    "    GUNAGHZOU: [WUHAN, BANGKOK],\n",
    "    SHENZHEN: [WUHAN, BANGKOK],\n",
    "    BANGKOK: [SHENZHEN, GUNAGHZOU]\n",
    "}"
   ]
  },
  {
   "cell_type": "code",
   "execution_count": 22,
   "metadata": {},
   "outputs": [],
   "source": [
    "import networkx as nx"
   ]
  },
  {
   "cell_type": "code",
   "execution_count": 24,
   "metadata": {},
   "outputs": [],
   "source": [
    "%matplotlib inline"
   ]
  },
  {
   "cell_type": "code",
   "execution_count": 25,
   "metadata": {},
   "outputs": [],
   "source": [
    "graph = connection"
   ]
  },
  {
   "cell_type": "code",
   "execution_count": 27,
   "metadata": {},
   "outputs": [],
   "source": [
    "g = nx.Graph(graph)"
   ]
  },
  {
   "cell_type": "code",
   "execution_count": 30,
   "metadata": {},
   "outputs": [
    {
     "data": {
      "image/png": "[encoded data removed]",
      "text/plain": [
       "<Figure size 432x288 with 1 Axes>"
      ]
     },
     "metadata": {},
     "output_type": "display_data"
    }
   ],
   "source": [
    "nx.draw(g)"
   ]
  },
  {
   "cell_type": "code",
   "execution_count": 107,
   "metadata": {},
   "outputs": [],
   "source": [
    "def nagivator(start, destination, connection_graph):\n",
    "    pathes = [[start] ]\n",
    "    seen = set()\n",
    "    \n",
    "    while pathes:\n",
    "        path = pathes.pop(0)\n",
    "        froniter = path[-1]\n",
    "        \n",
    "        if froniter in seen: continue\n",
    "            \n",
    "        successors = connection_graph[froniter]\n",
    "        \n",
    "        for s in successors: \n",
    "            if s == destination: \n",
    "                path.append(s)\n",
    "                return path\n",
    "            else:\n",
    "                pathes.append(path + [s])  \n",
    "                \n",
    "        pathes = sorted(pathes, key=len) # 最小换成\n",
    "                \n",
    "        seen.add(froniter)"
   ]
  },
  {
   "cell_type": "code",
   "execution_count": 128,
   "metadata": {},
   "outputs": [],
   "source": [
    "def nagivator_bfs(start, destination, connection_graph):\n",
    "    pathes = [start ]\n",
    "    seen = set()\n",
    "    \n",
    "    while pathes:\n",
    "        froniter = pathes.pop(0)\n",
    "        \n",
    "        if froniter in seen: continue\n",
    "            \n",
    "        successors = connection_graph[froniter]\n",
    "        print('standing on {} Looking forward {}'.format(froniter, successors))\n",
    "        pathes = pathes + successors\n",
    "                \n",
    "        seen.add(froniter)"
   ]
  },
  {
   "cell_type": "code",
   "execution_count": 132,
   "metadata": {},
   "outputs": [],
   "source": [
    "connection_2 = {\n",
    "    0: [1, 5], \n",
    "    1: [0, 2], \n",
    "    2: [1, 3], \n",
    "    3: [2, 4], \n",
    "    4: [3],\n",
    "    5: [0, 6], \n",
    "    6: [5, 7],\n",
    "    7: [6]\n",
    "}"
   ]
  },
  {
   "cell_type": "code",
   "execution_count": 129,
   "metadata": {},
   "outputs": [
    {
     "name": "stderr",
     "output_type": "stream",
     "text": [
      "/Users/mqgao/anaconda3/lib/python3.7/site-packages/networkx/drawing/nx_pylab.py:611: MatplotlibDeprecationWarning: isinstance(..., numbers.Number)\n",
      "  if cb.is_numlike(alpha):\n"
     ]
    },
    {
     "data": {
      "image/png": "[encoded data removed]",
      "text/plain": [
       "<Figure size 432x288 with 1 Axes>"
      ]
     },
     "metadata": {},
     "output_type": "display_data"
    }
   ],
   "source": [
    "nx.draw(nx.Graph(connection_2))"
   ]
  },
  {
   "cell_type": "code",
   "execution_count": 133,
   "metadata": {},
   "outputs": [
    {
     "name": "stdout",
     "output_type": "stream",
     "text": [
      "standing on 0 Looking forward [1, 5]\n",
      "standing on 1 Looking forward [0, 2]\n",
      "standing on 5 Looking forward [0, 6]\n",
      "standing on 2 Looking forward [1, 3]\n",
      "standing on 6 Looking forward [5, 7]\n",
      "standing on 3 Looking forward [2, 4]\n",
      "standing on 7 Looking forward [6]\n",
      "standing on 4 Looking forward [3]\n"
     ]
    }
   ],
   "source": [
    "nagivator_bfs(0, 7, connection_2)"
   ]
  },
  {
   "cell_type": "code",
   "execution_count": 137,
   "metadata": {},
   "outputs": [],
   "source": [
    "def nagivator_dfs(start, destination, connection_graph):\n",
    "    pathes = [start ]\n",
    "    seen = set()\n",
    "    \n",
    "    while pathes:\n",
    "        froniter = pathes.pop(0)\n",
    "        \n",
    "        if froniter in seen: continue\n",
    "            \n",
    "        successors = connection_graph[froniter]\n",
    "        print('standing on {} Looking forward {}'.format(froniter, successors))\n",
    "        pathes = successors + pathes\n",
    "                \n",
    "        seen.add(froniter)"
   ]
  },
  {
   "cell_type": "code",
   "execution_count": 138,
   "metadata": {},
   "outputs": [
    {
     "name": "stdout",
     "output_type": "stream",
     "text": [
      "standing on 0 Looking forward [1, 5]\n",
      "standing on 1 Looking forward [0, 2]\n",
      "standing on 2 Looking forward [1, 3]\n",
      "standing on 3 Looking forward [2, 4]\n",
      "standing on 4 Looking forward [3]\n",
      "standing on 5 Looking forward [0, 6]\n",
      "standing on 6 Looking forward [5, 7]\n",
      "standing on 7 Looking forward [6]\n"
     ]
    }
   ],
   "source": [
    "nagivator_dfs(0, 7, connection_2)"
   ]
  },
  {
   "cell_type": "code",
   "execution_count": 105,
   "metadata": {},
   "outputs": [],
   "source": [
    "def draw_route(routes):\n",
    "    print('🛫->'.join(routes))"
   ]
  },
  {
   "cell_type": "code",
   "execution_count": 110,
   "metadata": {},
   "outputs": [
    {
     "ename": "TypeError",
     "evalue": "can only join an iterable",
     "output_type": "error",
     "traceback": [
      "\u001b[0;31m---------------------------------------------------------------------------\u001b[0m",
      "\u001b[0;31mTypeError\u001b[0m                                 Traceback (most recent call last)",
      "\u001b[0;32m<ipython-input-110-1319dffac038>\u001b[0m in \u001b[0;36m<module>\u001b[0;34m\u001b[0m\n\u001b[0;32m----> 1\u001b[0;31m \u001b[0mdraw_route\u001b[0m\u001b[0;34m(\u001b[0m\u001b[0mnagivator\u001b[0m\u001b[0;34m(\u001b[0m\u001b[0mCHANGCHUN\u001b[0m\u001b[0;34m,\u001b[0m \u001b[0mBANGKOK\u001b[0m\u001b[0;34m,\u001b[0m \u001b[0mconnection\u001b[0m\u001b[0;34m)\u001b[0m\u001b[0;34m)\u001b[0m\u001b[0;34m\u001b[0m\u001b[0;34m\u001b[0m\u001b[0m\n\u001b[0m",
      "\u001b[0;32m<ipython-input-105-5e9ec87562af>\u001b[0m in \u001b[0;36mdraw_route\u001b[0;34m(routes)\u001b[0m\n\u001b[1;32m      1\u001b[0m \u001b[0;32mdef\u001b[0m \u001b[0mdraw_route\u001b[0m\u001b[0;34m(\u001b[0m\u001b[0mroutes\u001b[0m\u001b[0;34m)\u001b[0m\u001b[0;34m:\u001b[0m\u001b[0;34m\u001b[0m\u001b[0;34m\u001b[0m\u001b[0m\n\u001b[0;32m----> 2\u001b[0;31m     \u001b[0mprint\u001b[0m\u001b[0;34m(\u001b[0m\u001b[0;34m'🛫->'\u001b[0m\u001b[0;34m.\u001b[0m\u001b[0mjoin\u001b[0m\u001b[0;34m(\u001b[0m\u001b[0mroutes\u001b[0m\u001b[0;34m)\u001b[0m\u001b[0;34m)\u001b[0m\u001b[0;34m\u001b[0m\u001b[0;34m\u001b[0m\u001b[0m\n\u001b[0m",
      "\u001b[0;31mTypeError\u001b[0m: can only join an iterable"
     ]
    }
   ],
   "source": [
    "draw_route(nagivator(CHANGCHUN, BANGKOK, connection))"
   ]
  },
  {
   "cell_type": "markdown",
   "metadata": {},
   "source": [
    "## Sentence Generation"
   ]
  },
  {
   "cell_type": "code",
   "execution_count": 240,
   "metadata": {},
   "outputs": [],
   "source": [
    "decimal_grammar = \"\"\"\n",
    "expression = operator op operator\n",
    "operator = num op num\n",
    "num = 0 | 1 | 2 | 3 | 4 | 5 | 6 | 7 | 8 | 9 | num num\n",
    "op = + | - | * | /\n",
    "\"\"\""
   ]
  },
  {
   "cell_type": "code",
   "execution_count": null,
   "metadata": {},
   "outputs": [],
   "source": [
    "grammar = \"\"\"\n",
    "stmt = if block else block\n",
    "block = cmp; assigment\n",
    "assgiment = XXX\n",
    "XXX\n",
    "\"\"\""
   ]
  },
  {
   "cell_type": "code",
   "execution_count": 149,
   "metadata": {},
   "outputs": [],
   "source": [
    "grammar = \"\"\"\n",
    "sentence => noun_phrase verb_phrase \n",
    "noun_phrase => Article Adj* noun\n",
    "Adj* => null | Adj Adj*\n",
    "verb_phrase => verb noun_phrase\n",
    "Article =>  一个 | 这个\n",
    "noun =>   女人 |  篮球 | 桌子 | 小猫\n",
    "verb => 看着   |  坐在 |  听着 | 看见\n",
    "Adj =>   蓝色的 |  好看的 | 小小的\n",
    "\"\"\""
   ]
  },
  {
   "cell_type": "code",
   "execution_count": 140,
   "metadata": {},
   "outputs": [],
   "source": [
    "import random"
   ]
  },
  {
   "cell_type": "code",
   "execution_count": 146,
   "metadata": {},
   "outputs": [
    {
     "ename": "SyntaxError",
     "evalue": "invalid syntax (<ipython-input-146-635c793828cf>, line 2)",
     "output_type": "error",
     "traceback": [
      "\u001b[0;36m  File \u001b[0;32m\"<ipython-input-146-635c793828cf>\"\u001b[0;36m, line \u001b[0;32m2\u001b[0m\n\u001b[0;31m    funciton: return\u001b[0m\n\u001b[0m                   ^\u001b[0m\n\u001b[0;31mSyntaxError\u001b[0m\u001b[0;31m:\u001b[0m invalid syntax\n"
     ]
    }
   ],
   "source": [
    "generate(\"verb_phrase\") = generate(\"verb\") + generate(\"noun_phrase\")\n",
    "generate('noun') = random.choice(\"女人 |  篮球 | 桌子 | 小猫\")"
   ]
  },
  {
   "cell_type": "code",
   "execution_count": 151,
   "metadata": {},
   "outputs": [],
   "source": [
    "def parse_grammar(grammar_str, sep='=>'):\n",
    "    grammar = {}\n",
    "    for line in grammar_str.split('\\n'): \n",
    "        line = line.strip()\n",
    "        if not line: continue\n",
    "        \n",
    "        target, rules = line.split(sep)\n",
    "        \n",
    "        grammar[target.strip()] = [r.split() for r in rules.split('|')]\n",
    "    \n",
    "    return grammar"
   ]
  },
  {
   "cell_type": "code",
   "execution_count": 153,
   "metadata": {},
   "outputs": [],
   "source": [
    "g = parse_grammar(grammar)"
   ]
  },
  {
   "cell_type": "code",
   "execution_count": 154,
   "metadata": {},
   "outputs": [
    {
     "data": {
      "text/plain": [
       "{'sentence': [['noun_phrase', 'verb_phrase']],\n",
       " 'noun_phrase': [['Article', 'Adj*', 'noun']],\n",
       " 'Adj*': [['null'], ['Adj', 'Adj*']],\n",
       " 'verb_phrase': [['verb', 'noun_phrase']],\n",
       " 'Article': [['一个'], ['这个']],\n",
       " 'noun': [['女人'], ['篮球'], ['桌子'], ['小猫']],\n",
       " 'verb': [['看着'], ['坐在'], ['听着'], ['看见']],\n",
       " 'Adj': [['蓝色的'], ['好看的'], ['小小的']]}"
      ]
     },
     "execution_count": 154,
     "metadata": {},
     "output_type": "execute_result"
    }
   ],
   "source": [
    "g"
   ]
  },
  {
   "cell_type": "code",
   "execution_count": 192,
   "metadata": {},
   "outputs": [],
   "source": [
    "def gene(grammar_parsed, target='sentence'):\n",
    "    if target not in grammar_parsed: return target\n",
    "    \n",
    "    rule = random.choice(grammar_parsed[target])\n",
    "    return ''.join(gene(grammar_parsed, target=r) for r in rule if r!='null')"
   ]
  },
  {
   "cell_type": "code",
   "execution_count": 193,
   "metadata": {},
   "outputs": [
    {
     "data": {
      "text/plain": [
       "[['noun_phrase', 'verb_phrase']]"
      ]
     },
     "execution_count": 193,
     "metadata": {},
     "output_type": "execute_result"
    }
   ],
   "source": [
    "g['sentence']"
   ]
  },
  {
   "cell_type": "code",
   "execution_count": 206,
   "metadata": {},
   "outputs": [
    {
     "data": {
      "text/plain": [
       "'这个小小的女人看见这个小猫'"
      ]
     },
     "execution_count": 206,
     "metadata": {},
     "output_type": "execute_result"
    }
   ],
   "source": [
    "gene(g)"
   ]
  },
  {
   "cell_type": "code",
   "execution_count": 257,
   "metadata": {},
   "outputs": [
    {
     "name": "stdout",
     "output_type": "stream",
     "text": [
      "30+2-99*8\n",
      "8+9-9+9\n",
      "4*7*3*1\n",
      "2*0-2+6\n",
      "7/9*0-6\n",
      "6*5/7+2\n",
      "3-1/4+3\n",
      "7/0*8/5\n",
      "3/0*7/63\n",
      "21-3-2-5\n",
      "6+1+7+6\n",
      "3*8-07*7\n",
      "9-396/8+1\n",
      "9*50+2/4\n",
      "5-7+1+2\n",
      "8-7/4*1\n",
      "4-4/0*8\n",
      "3*2*84/3\n",
      "4-7*7*3\n",
      "1-9+3*1\n"
     ]
    }
   ],
   "source": [
    "for i in range(20):\n",
    "    print(gene(parse_grammar(decimal_grammar, sep='='), target='expression'))"
   ]
  }
 ],
 "metadata": {
  "kernelspec": {
   "display_name": "Python 3",
   "language": "python",
   "name": "python3"
  },
  "language_info": {
   "codemirror_mode": {
    "name": "ipython",
    "version": 3
   },
   "file_extension": ".py",
   "mimetype": "text/x-python",
   "name": "python",
   "nbconvert_exporter": "python",
   "pygments_lexer": "ipython3",
   "version": "3.7.3"
  }
 },
 "nbformat": 4,
 "nbformat_minor": 2
}
