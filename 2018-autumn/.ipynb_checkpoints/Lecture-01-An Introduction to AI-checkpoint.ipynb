{
 "cells": [
  {
   "cell_type": "code",
   "execution_count": 1,
   "metadata": {},
   "outputs": [],
   "source": [
    "import random\n",
    "import networkx\n",
    "import matplotlib.pyplot as plt\n",
    "%matplotlib inline"
   ]
  },
  {
   "cell_type": "markdown",
   "metadata": {},
   "source": [
    "## 最后一题"
   ]
  },
  {
   "cell_type": "code",
   "execution_count": 2,
   "metadata": {},
   "outputs": [],
   "source": [
    "#定义语法内容\n",
    "grammar = \"\"\"\n",
    "sentence = adj noun verb adj noun2\n",
    "adj = adj_single 和 adj_single 的 | null\n",
    "adj_single = 漂亮  | 蓝色 | 好看\n",
    "adv = 安静地 | 静静地\n",
    "noun = 猫 | 女人 | 男人\n",
    "verb = adv 看着 | adv 坐着 \n",
    "noun2 = 桌子 | 皮球 \n",
    "\"\"\""
   ]
  },
  {
   "cell_type": "code",
   "execution_count": 3,
   "metadata": {},
   "outputs": [],
   "source": [
    "#定义语法创建函数：从语法内容中读取语法规则并映射到创建的字典，键值为声明，值为表达式\n",
    "def build_grammar(grammar_str, split='='):\n",
    "    grammar_pattern = {}\n",
    "    for line in grammar_str.split('\\n'):\n",
    "        if not line: continue\n",
    "        stmt, expr = line.split(split)\n",
    "        grammar_pattern[stmt.strip()] = [e.split() for e in expr.split('|')]\n",
    "    return grammar_pattern"
   ]
  },
  {
   "cell_type": "code",
   "execution_count": 4,
   "metadata": {},
   "outputs": [],
   "source": [
    "grammar_pattern = build_grammar(grammar)"
   ]
  },
  {
   "cell_type": "code",
   "execution_count": 5,
   "metadata": {},
   "outputs": [],
   "source": [
    "#定义生成符合某声明的函数：\n",
    "def generate(grammar_pattern, target):\n",
    "    if target not in grammar_pattern: return target\n",
    "    \n",
    "    expr = random.choice(grammar_pattern[target])\n",
    "    \n",
    "    tokens = [generate(grammar_pattern, e) for e in expr]#递归调用自己，直到表达式中不含有已声明内容\n",
    "    \n",
    "    return ''.join([t for t in tokens if t != 'null'])"
   ]
  },
  {
   "cell_type": "code",
   "execution_count": 6,
   "metadata": {},
   "outputs": [
    {
     "data": {
      "text/plain": [
       "'猫静静地看着漂亮和蓝色的皮球'"
      ]
     },
     "execution_count": 6,
     "metadata": {},
     "output_type": "execute_result"
    }
   ],
   "source": [
    "generate(grammar_pattern, 'sentence')"
   ]
  },
  {
   "cell_type": "markdown",
   "metadata": {},
   "source": [
    "## A simpler solution"
   ]
  },
  {
   "cell_type": "code",
   "execution_count": 7,
   "metadata": {},
   "outputs": [],
   "source": [
    "def adj(): return random.choice('漂亮 | 蓝色 | 好看'.split('|'))\n",
    "\n",
    "def noun(): return  random.choice('猫 | 女人 | 男人'.split('|'))\n",
    "\n",
    "def verb(): return random.choice('看着 | 坐着 '.split('|'))\n",
    "\n",
    "def noun2(): return random.choice('桌子 | 皮球'.split('|'))\n",
    "\n",
    "def sentence(): return ''.join([adj(), noun(), verb(), noun2()])"
   ]
  },
  {
   "cell_type": "code",
   "execution_count": 8,
   "metadata": {},
   "outputs": [
    {
     "data": {
      "text/plain": [
       "' 好看 女人 看着 桌子 '"
      ]
     },
     "execution_count": 8,
     "metadata": {},
     "output_type": "execute_result"
    }
   ],
   "source": [
    "sentence()"
   ]
  },
  {
   "cell_type": "markdown",
   "metadata": {},
   "source": [
    "## Search Based Intelligence"
   ]
  },
  {
   "cell_type": "markdown",
   "metadata": {},
   "source": [
    "## BFS 广度优先搜索 DFS 深度优先搜索"
   ]
  },
  {
   "cell_type": "markdown",
   "metadata": {},
   "source": [
    "### BFS Breadth First Search \n",
    "### DFS Depth First Search"
   ]
  },
  {
   "cell_type": "code",
   "execution_count": 9,
   "metadata": {},
   "outputs": [],
   "source": [
    "#定义无向图\n",
    "graph = {\n",
    "    'A' :'B B B C', \n",
    "    'B' : 'A C', \n",
    "    'C' : 'A B D E',\n",
    "    'D' : 'C',\n",
    "    'E' : 'C F',\n",
    "    'F' : 'E'\n",
    "}"
   ]
  },
  {
   "cell_type": "code",
   "execution_count": 10,
   "metadata": {},
   "outputs": [],
   "source": [
    "#去重\n",
    "for k in graph:\n",
    "    graph[k] = set(graph[k].split())"
   ]
  },
  {
   "cell_type": "code",
   "execution_count": 11,
   "metadata": {},
   "outputs": [
    {
     "data": {
      "text/plain": [
       "True"
      ]
     },
     "execution_count": 11,
     "metadata": {},
     "output_type": "execute_result"
    }
   ],
   "source": [
    "#非空数值均可以作为Bool类型True\n",
    "'元素' in set('1 2 3 4 5 6 7 8 9 10 100000 元素'.split())"
   ]
  },
  {
   "cell_type": "code",
   "execution_count": 12,
   "metadata": {},
   "outputs": [
    {
     "name": "stdout",
     "output_type": "stream",
     "text": [
      "1\n",
      "7\n",
      "9\n",
      "100000\n",
      "10\n",
      "2\n",
      "8\n",
      "4\n",
      "3\n",
      "5\n",
      "元素\n",
      "6\n"
     ]
    }
   ],
   "source": [
    "#集合通过split后不维持之前的顺序，但也不是随机的\n",
    "for element in set('1 2 3 4 5 6 7 8 9 10 100000 元素'.split()):\n",
    "    print(element)"
   ]
  },
  {
   "cell_type": "code",
   "execution_count": 13,
   "metadata": {},
   "outputs": [
    {
     "data": {
      "text/plain": [
       "{'A': {'B', 'C'},\n",
       " 'B': {'A', 'C'},\n",
       " 'C': {'A', 'B', 'D', 'E'},\n",
       " 'D': {'C'},\n",
       " 'E': {'C', 'F'},\n",
       " 'F': {'E'}}"
      ]
     },
     "execution_count": 13,
     "metadata": {},
     "output_type": "execute_result"
    }
   ],
   "source": [
    "graph"
   ]
  },
  {
   "cell_type": "code",
   "execution_count": 14,
   "metadata": {},
   "outputs": [
    {
     "data": {
      "image/png": "[encoded data removed]",
      "text/plain": [
       "<Figure size 432x288 with 1 Axes>"
      ]
     },
     "metadata": {},
     "output_type": "display_data"
    }
   ],
   "source": [
    "Graph = networkx.Graph(graph)\n",
    "networkx.draw(Graph, with_labels=True)"
   ]
  },
  {
   "cell_type": "markdown",
   "metadata": {},
   "source": [
    "## Breadth First Search"
   ]
  },
  {
   "cell_type": "code",
   "execution_count": 15,
   "metadata": {},
   "outputs": [
    {
     "name": "stdout",
     "output_type": "stream",
     "text": [
      "   I am looking at : A\n",
      "   I am looking at : B\n",
      "   I am looking at : C\n",
      "A has been seen\n",
      "C has been seen\n",
      "A has been seen\n",
      "B has been seen\n",
      "   I am looking at : E\n",
      "   I am looking at : D\n",
      "   I am looking at : F\n",
      "C has been seen\n",
      "C has been seen\n",
      "E has been seen\n"
     ]
    }
   ],
   "source": [
    "seen=set()\n",
    "need_visited = ['A']\n",
    "while need_visited:\n",
    "    node = need_visited.pop(0)\n",
    "    if node in seen: \n",
    "            print('{} has been seen'.format(node))\n",
    "            continue\n",
    "    print('   I am looking at : {}'.format(node))\n",
    "    need_visited += graph[node]  \n",
    "    seen.add(node)"
   ]
  },
  {
   "cell_type": "markdown",
   "metadata": {},
   "source": [
    "## Depth First Search"
   ]
  },
  {
   "cell_type": "code",
   "execution_count": 16,
   "metadata": {},
   "outputs": [],
   "source": [
    "#定义无向长图\n",
    "graph_long = {\n",
    "    '1': '2 7',\n",
    "    '2': '3', \n",
    "    '3': '4', \n",
    "    '4': '5', \n",
    "    '5': '6 10', \n",
    "    '7': '8',\n",
    "    '6': '5',\n",
    "    '8': '9',\n",
    "    '9': '10', \n",
    "    '10': '5 11', \n",
    "    '11': '12',\n",
    "    '12': '11',\n",
    "}"
   ]
  },
  {
   "cell_type": "code",
   "execution_count": 17,
   "metadata": {},
   "outputs": [],
   "source": [
    "for n in graph_long: graph_long[n] = graph_long[n].split()"
   ]
  },
  {
   "cell_type": "code",
   "execution_count": 18,
   "metadata": {},
   "outputs": [
    {
     "data": {
      "image/png": "[encoded data removed]",
      "text/plain": [
       "<Figure size 432x288 with 1 Axes>"
      ]
     },
     "metadata": {},
     "output_type": "display_data"
    }
   ],
   "source": [
    "Graph_long = networkx.Graph(graph_long)\n",
    "networkx.draw(Graph_long, with_labels=True)"
   ]
  },
  {
   "cell_type": "markdown",
   "metadata": {},
   "source": [
    "## Repetition is the mother of evil."
   ]
  },
  {
   "cell_type": "code",
   "execution_count": 19,
   "metadata": {},
   "outputs": [],
   "source": [
    "#合并广度优先和深度优先解法\n",
    "def search(graph, concat_func):\n",
    "    seen = set()\n",
    "    need_visited = ['1']   \n",
    "    \n",
    "    while need_visited:\n",
    "        node = need_visited.pop(0)\n",
    "        if node in seen: \n",
    "            print('{} has been seen'.format(node))\n",
    "            continue\n",
    "        print('   I am looking at : {}'.format(node))\n",
    "        seen.add(node)\n",
    "        new_discoveried = graph[node]        \n",
    "        need_visited = concat_func(new_discoveried, need_visited)"
   ]
  },
  {
   "cell_type": "code",
   "execution_count": 20,
   "metadata": {},
   "outputs": [],
   "source": [
    "def treat_new_discover_more_important(new_discoveried, need_visited):\n",
    "    return new_discoveried + need_visited\n",
    "\n",
    "def treat_already_discoveried_more_important(new_discoveried, need_visited):\n",
    "    return need_visited + new_discoveried"
   ]
  },
  {
   "cell_type": "code",
   "execution_count": 21,
   "metadata": {},
   "outputs": [
    {
     "name": "stdout",
     "output_type": "stream",
     "text": [
      "   I am looking at : 1\n",
      "   I am looking at : 2\n",
      "   I am looking at : 7\n",
      "   I am looking at : 3\n",
      "   I am looking at : 8\n",
      "   I am looking at : 4\n",
      "   I am looking at : 9\n",
      "   I am looking at : 5\n",
      "   I am looking at : 10\n",
      "   I am looking at : 6\n",
      "10 has been seen\n",
      "5 has been seen\n",
      "   I am looking at : 11\n",
      "5 has been seen\n",
      "   I am looking at : 12\n",
      "11 has been seen\n"
     ]
    }
   ],
   "source": [
    "search(graph_long, treat_already_discoveried_more_important)"
   ]
  },
  {
   "cell_type": "code",
   "execution_count": 22,
   "metadata": {},
   "outputs": [
    {
     "name": "stdout",
     "output_type": "stream",
     "text": [
      "   I am looking at : 1\n",
      "   I am looking at : 2\n",
      "   I am looking at : 3\n",
      "   I am looking at : 4\n",
      "   I am looking at : 5\n",
      "   I am looking at : 6\n",
      "5 has been seen\n",
      "   I am looking at : 10\n",
      "5 has been seen\n",
      "   I am looking at : 11\n",
      "   I am looking at : 12\n",
      "11 has been seen\n",
      "   I am looking at : 7\n",
      "   I am looking at : 8\n",
      "   I am looking at : 9\n",
      "10 has been seen\n"
     ]
    }
   ],
   "source": [
    "search(graph_long, treat_new_discover_more_important)"
   ]
  },
  {
   "cell_type": "code",
   "execution_count": 23,
   "metadata": {},
   "outputs": [],
   "source": [
    "from functools import partial"
   ]
  },
  {
   "cell_type": "code",
   "execution_count": 24,
   "metadata": {},
   "outputs": [],
   "source": [
    "dfs = partial(search, concat_func=treat_new_discover_more_important)"
   ]
  },
  {
   "cell_type": "code",
   "execution_count": 25,
   "metadata": {},
   "outputs": [
    {
     "name": "stdout",
     "output_type": "stream",
     "text": [
      "   I am looking at : 1\n",
      "   I am looking at : 2\n",
      "   I am looking at : 3\n",
      "   I am looking at : 4\n",
      "   I am looking at : 5\n",
      "   I am looking at : 6\n",
      "5 has been seen\n",
      "   I am looking at : 10\n",
      "5 has been seen\n",
      "   I am looking at : 11\n",
      "   I am looking at : 12\n",
      "11 has been seen\n",
      "   I am looking at : 7\n",
      "   I am looking at : 8\n",
      "   I am looking at : 9\n",
      "10 has been seen\n"
     ]
    }
   ],
   "source": [
    "dfs(graph_long)"
   ]
  },
  {
   "cell_type": "code",
   "execution_count": 26,
   "metadata": {},
   "outputs": [],
   "source": [
    "bfs = partial(search, concat_func=treat_already_discoveried_more_important)"
   ]
  },
  {
   "cell_type": "code",
   "execution_count": 27,
   "metadata": {},
   "outputs": [
    {
     "name": "stdout",
     "output_type": "stream",
     "text": [
      "   I am looking at : 1\n",
      "   I am looking at : 2\n",
      "   I am looking at : 7\n",
      "   I am looking at : 3\n",
      "   I am looking at : 8\n",
      "   I am looking at : 4\n",
      "   I am looking at : 9\n",
      "   I am looking at : 5\n",
      "   I am looking at : 10\n",
      "   I am looking at : 6\n",
      "10 has been seen\n",
      "5 has been seen\n",
      "   I am looking at : 11\n",
      "5 has been seen\n",
      "   I am looking at : 12\n",
      "11 has been seen\n"
     ]
    }
   ],
   "source": [
    "bfs(graph_long)"
   ]
  },
  {
   "cell_type": "markdown",
   "metadata": {},
   "source": [
    "## Mapping"
   ]
  },
  {
   "cell_type": "code",
   "execution_count": 28,
   "metadata": {},
   "outputs": [],
   "source": [
    "BJ = 'Beijing'\n",
    "SZ = 'Shenzhen'\n",
    "GZ = 'Guangzhou'\n",
    "WH = 'Wuhan'\n",
    "HLG = 'Heilongjiang'\n",
    "NY = 'New York City'\n",
    "CM = 'Chiangmai'\n",
    "SG = 'Singapore'"
   ]
  },
  {
   "cell_type": "code",
   "execution_count": 29,
   "metadata": {},
   "outputs": [],
   "source": [
    "air_route = {\n",
    "    BJ : {SZ, GZ, WH, HLG, NY}, \n",
    "    GZ : {WH, BJ, CM, SG},\n",
    "    SZ : {BJ, SG},\n",
    "    WH : {BJ, GZ},\n",
    "    HLG : {BJ},\n",
    "    CM : {GZ},\n",
    "    NY : {BJ}\n",
    "}"
   ]
  },
  {
   "cell_type": "code",
   "execution_count": 30,
   "metadata": {},
   "outputs": [
    {
     "data": {
      "image/png": "[encoded data removed]",
      "text/plain": [
       "<Figure size 432x288 with 1 Axes>"
      ]
     },
     "metadata": {},
     "output_type": "display_data"
    }
   ],
   "source": [
    "air_route = networkx.Graph(air_route)\n",
    "\n",
    "networkx.draw(air_route, with_labels=True)"
   ]
  },
  {
   "cell_type": "code",
   "execution_count": 31,
   "metadata": {},
   "outputs": [],
   "source": [
    "def search_destination(graph, start, destination):\n",
    "    pathes = [[start]]\n",
    "    seen = set()\n",
    "    chosen_pathes = []\n",
    "    while pathes:\n",
    "        path = pathes.pop(0)\n",
    "        frontier = path[-1]\n",
    "        if frontier in seen: continue\n",
    "        # get new lines\n",
    "        \n",
    "        for city in graph[frontier]:\n",
    "            new_path = path + [city]\n",
    "            pathes.append(new_path)\n",
    "            if city == destination: return new_path\n",
    "        \n",
    "        seen.add(frontier)\n",
    "    return chosen_pathes"
   ]
  },
  {
   "cell_type": "code",
   "execution_count": 32,
   "metadata": {},
   "outputs": [],
   "source": [
    "def draw_route(cities): return ' ✈️ -> '.join(cities)"
   ]
  },
  {
   "cell_type": "code",
   "execution_count": 34,
   "metadata": {},
   "outputs": [
    {
     "data": {
      "text/plain": [
       "'Shenzhen ✈️ -> Beijing ✈️ -> Guangzhou ✈️ -> Chiangmai'"
      ]
     },
     "execution_count": 34,
     "metadata": {},
     "output_type": "execute_result"
    }
   ],
   "source": [
    "draw_route(search_destination(air_route, SZ, CM))"
   ]
  }
 ],
 "metadata": {
  "kernelspec": {
   "display_name": "Python 3",
   "language": "python",
   "name": "python3"
  },
  "language_info": {
   "codemirror_mode": {
    "name": "ipython",
    "version": 3
   },
   "file_extension": ".py",
   "mimetype": "text/x-python",
   "name": "python",
   "nbconvert_exporter": "python",
   "pygments_lexer": "ipython3",
   "version": "3.6.5"
  }
 },
 "nbformat": 4,
 "nbformat_minor": 2
}
