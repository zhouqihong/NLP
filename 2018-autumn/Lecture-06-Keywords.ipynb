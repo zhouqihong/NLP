{
 "cells": [
  {
   "cell_type": "markdown",
   "metadata": {},
   "source": [
    "## Keywords"
   ]
  },
  {
   "cell_type": "code",
   "execution_count": 1,
   "metadata": {},
   "outputs": [
    {
     "name": "stderr",
     "output_type": "stream",
     "text": [
      "/anaconda3/envs/ibm/lib/python3.6/importlib/_bootstrap.py:219: RuntimeWarning: numpy.dtype size changed, may indicate binary incompatibility. Expected 96, got 88\n",
      "  return f(*args, **kwds)\n",
      "/anaconda3/envs/ibm/lib/python3.6/importlib/_bootstrap.py:219: RuntimeWarning: numpy.dtype size changed, may indicate binary incompatibility. Expected 96, got 88\n",
      "  return f(*args, **kwds)\n"
     ]
    }
   ],
   "source": [
    "import pandas as pd"
   ]
  },
  {
   "cell_type": "code",
   "execution_count": 2,
   "metadata": {},
   "outputs": [],
   "source": [
    "content = pd.read_csv('sqlResult_1558435.csv', encoding='gb18030')"
   ]
  },
  {
   "cell_type": "code",
   "execution_count": 3,
   "metadata": {},
   "outputs": [
    {
     "data": {
      "text/plain": [
       "89611"
      ]
     },
     "execution_count": 3,
     "metadata": {},
     "output_type": "execute_result"
    }
   ],
   "source": [
    "len(content)"
   ]
  },
  {
   "cell_type": "code",
   "execution_count": 4,
   "metadata": {},
   "outputs": [
    {
     "data": {
      "text/html": [
       "<div>\n",
       "<style scoped>\n",
       "    .dataframe tbody tr th:only-of-type {\n",
       "        vertical-align: middle;\n",
       "    }\n",
       "\n",
       "    .dataframe tbody tr th {\n",
       "        vertical-align: top;\n",
       "    }\n",
       "\n",
       "    .dataframe thead th {\n",
       "        text-align: right;\n",
       "    }\n",
       "</style>\n",
       "<table border=\"1\" class=\"dataframe\">\n",
       "  <thead>\n",
       "    <tr style=\"text-align: right;\">\n",
       "      <th></th>\n",
       "      <th>id</th>\n",
       "      <th>author</th>\n",
       "      <th>source</th>\n",
       "      <th>content</th>\n",
       "      <th>feature</th>\n",
       "      <th>title</th>\n",
       "      <th>url</th>\n",
       "    </tr>\n",
       "  </thead>\n",
       "  <tbody>\n",
       "    <tr>\n",
       "      <th>0</th>\n",
       "      <td>89617</td>\n",
       "      <td>NaN</td>\n",
       "      <td>快科技@http://www.kkj.cn/</td>\n",
       "      <td>此外，自本周（6月12日）起，除小米手机6等15款机型外，其余机型已暂停更新发布（含开发版/...</td>\n",
       "      <td>{\"type\":\"科技\",\"site\":\"cnbeta\",\"commentNum\":\"37\"...</td>\n",
       "      <td>小米MIUI 9首批机型曝光：共计15款</td>\n",
       "      <td>http://www.cnbeta.com/articles/tech/623597.htm</td>\n",
       "    </tr>\n",
       "    <tr>\n",
       "      <th>1</th>\n",
       "      <td>89616</td>\n",
       "      <td>NaN</td>\n",
       "      <td>快科技@http://www.kkj.cn/</td>\n",
       "      <td>骁龙835作为唯一通过Windows 10桌面平台认证的ARM处理器，高通强调，不会因为只考...</td>\n",
       "      <td>{\"type\":\"科技\",\"site\":\"cnbeta\",\"commentNum\":\"15\"...</td>\n",
       "      <td>骁龙835在Windows 10上的性能表现有望改善</td>\n",
       "      <td>http://www.cnbeta.com/articles/tech/623599.htm</td>\n",
       "    </tr>\n",
       "    <tr>\n",
       "      <th>2</th>\n",
       "      <td>89615</td>\n",
       "      <td>NaN</td>\n",
       "      <td>快科技@http://www.kkj.cn/</td>\n",
       "      <td>此前的一加3T搭载的是3400mAh电池，DashCharge快充规格为5V/4A。\\r\\n...</td>\n",
       "      <td>{\"type\":\"科技\",\"site\":\"cnbeta\",\"commentNum\":\"18\"...</td>\n",
       "      <td>一加手机5细节曝光：3300mAh、充半小时用1天</td>\n",
       "      <td>http://www.cnbeta.com/articles/tech/623601.htm</td>\n",
       "    </tr>\n",
       "    <tr>\n",
       "      <th>3</th>\n",
       "      <td>89614</td>\n",
       "      <td>NaN</td>\n",
       "      <td>新华社</td>\n",
       "      <td>这是6月18日在葡萄牙中部大佩德罗冈地区拍摄的被森林大火烧毁的汽车。新华社记者张立云摄\\r\\n</td>\n",
       "      <td>{\"type\":\"国际新闻\",\"site\":\"环球\",\"commentNum\":\"0\",\"j...</td>\n",
       "      <td>葡森林火灾造成至少62人死亡 政府宣布进入紧急状态（组图）</td>\n",
       "      <td>http://world.huanqiu.com/hot/2017-06/10866126....</td>\n",
       "    </tr>\n",
       "    <tr>\n",
       "      <th>4</th>\n",
       "      <td>89613</td>\n",
       "      <td>胡淑丽_MN7479</td>\n",
       "      <td>深圳大件事</td>\n",
       "      <td>（原标题：44岁女子跑深圳约会网友被拒，暴雨中裸身奔走……）\\r\\n@深圳交警微博称：昨日清...</td>\n",
       "      <td>{\"type\":\"新闻\",\"site\":\"网易热门\",\"commentNum\":\"978\",...</td>\n",
       "      <td>44岁女子约网友被拒暴雨中裸奔 交警为其披衣相随</td>\n",
       "      <td>http://news.163.com/17/0618/00/CN617P3Q0001875...</td>\n",
       "    </tr>\n",
       "  </tbody>\n",
       "</table>\n",
       "</div>"
      ],
      "text/plain": [
       "      id      author                  source  \\\n",
       "0  89617         NaN  快科技@http://www.kkj.cn/   \n",
       "1  89616         NaN  快科技@http://www.kkj.cn/   \n",
       "2  89615         NaN  快科技@http://www.kkj.cn/   \n",
       "3  89614         NaN                     新华社   \n",
       "4  89613  胡淑丽_MN7479                   深圳大件事   \n",
       "\n",
       "                                             content  \\\n",
       "0  此外，自本周（6月12日）起，除小米手机6等15款机型外，其余机型已暂停更新发布（含开发版/...   \n",
       "1  骁龙835作为唯一通过Windows 10桌面平台认证的ARM处理器，高通强调，不会因为只考...   \n",
       "2  此前的一加3T搭载的是3400mAh电池，DashCharge快充规格为5V/4A。\\r\\n...   \n",
       "3    这是6月18日在葡萄牙中部大佩德罗冈地区拍摄的被森林大火烧毁的汽车。新华社记者张立云摄\\r\\n   \n",
       "4  （原标题：44岁女子跑深圳约会网友被拒，暴雨中裸身奔走……）\\r\\n@深圳交警微博称：昨日清...   \n",
       "\n",
       "                                             feature  \\\n",
       "0  {\"type\":\"科技\",\"site\":\"cnbeta\",\"commentNum\":\"37\"...   \n",
       "1  {\"type\":\"科技\",\"site\":\"cnbeta\",\"commentNum\":\"15\"...   \n",
       "2  {\"type\":\"科技\",\"site\":\"cnbeta\",\"commentNum\":\"18\"...   \n",
       "3  {\"type\":\"国际新闻\",\"site\":\"环球\",\"commentNum\":\"0\",\"j...   \n",
       "4  {\"type\":\"新闻\",\"site\":\"网易热门\",\"commentNum\":\"978\",...   \n",
       "\n",
       "                           title  \\\n",
       "0           小米MIUI 9首批机型曝光：共计15款   \n",
       "1     骁龙835在Windows 10上的性能表现有望改善   \n",
       "2      一加手机5细节曝光：3300mAh、充半小时用1天   \n",
       "3  葡森林火灾造成至少62人死亡 政府宣布进入紧急状态（组图）   \n",
       "4       44岁女子约网友被拒暴雨中裸奔 交警为其披衣相随   \n",
       "\n",
       "                                                 url  \n",
       "0     http://www.cnbeta.com/articles/tech/623597.htm  \n",
       "1     http://www.cnbeta.com/articles/tech/623599.htm  \n",
       "2     http://www.cnbeta.com/articles/tech/623601.htm  \n",
       "3  http://world.huanqiu.com/hot/2017-06/10866126....  \n",
       "4  http://news.163.com/17/0618/00/CN617P3Q0001875...  "
      ]
     },
     "execution_count": 4,
     "metadata": {},
     "output_type": "execute_result"
    }
   ],
   "source": [
    "content.head()"
   ]
  },
  {
   "cell_type": "code",
   "execution_count": 7,
   "metadata": {},
   "outputs": [
    {
     "data": {
      "text/plain": [
       "id                                                     89614\n",
       "author                                                   NaN\n",
       "source                                                   新华社\n",
       "content      这是6月18日在葡萄牙中部大佩德罗冈地区拍摄的被森林大火烧毁的汽车。新华社记者张立云摄\\r\\n\n",
       "feature    {\"type\":\"国际新闻\",\"site\":\"环球\",\"commentNum\":\"0\",\"j...\n",
       "title                          葡森林火灾造成至少62人死亡 政府宣布进入紧急状态（组图）\n",
       "url        http://world.huanqiu.com/hot/2017-06/10866126....\n",
       "Name: 3, dtype: object"
      ]
     },
     "execution_count": 7,
     "metadata": {},
     "output_type": "execute_result"
    }
   ],
   "source": [
    "content.iloc[3]"
   ]
  },
  {
   "cell_type": "code",
   "execution_count": 8,
   "metadata": {},
   "outputs": [
    {
     "data": {
      "text/plain": [
       "id                                                     89617\n",
       "author                                                   NaN\n",
       "source                                快科技@http://www.kkj.cn/\n",
       "content    此外，自本周（6月12日）起，除小米手机6等15款机型外，其余机型已暂停更新发布（含开发版/...\n",
       "feature    {\"type\":\"科技\",\"site\":\"cnbeta\",\"commentNum\":\"37\"...\n",
       "title                                   小米MIUI 9首批机型曝光：共计15款\n",
       "url           http://www.cnbeta.com/articles/tech/623597.htm\n",
       "Name: 0, dtype: object"
      ]
     },
     "execution_count": 8,
     "metadata": {},
     "output_type": "execute_result"
    }
   ],
   "source": [
    "content.iloc[0]"
   ]
  },
  {
   "cell_type": "markdown",
   "metadata": {},
   "source": [
    "## Term Frequence"
   ]
  },
  {
   "cell_type": "markdown",
   "metadata": {},
   "source": [
    "TF-Term Frequence"
   ]
  },
  {
   "cell_type": "code",
   "execution_count": 9,
   "metadata": {},
   "outputs": [
    {
     "data": {
      "text/plain": [
       "'此外，自本周（6月12日）起，除小米手机6等15款机型外，其余机型已暂停更新发布（含开发版/体验版内测，稳定版暂不受影响），以确保工程师可以集中全部精力进行系统优化工作。有人猜测这也是将精力主要用到MIUI 9的研发之中。\\r\\nMIUI 8去年5月发布，距今已有一年有余，也是时候更新换代了。\\r\\n当然，关于MIUI 9的确切信息，我们还是等待官方消息。\\r\\n'"
      ]
     },
     "execution_count": 9,
     "metadata": {},
     "output_type": "execute_result"
    }
   ],
   "source": [
    "content.iloc[0]['content']"
   ]
  },
  {
   "cell_type": "code",
   "execution_count": 5,
   "metadata": {},
   "outputs": [],
   "source": [
    "import jieba"
   ]
  },
  {
   "cell_type": "code",
   "execution_count": 6,
   "metadata": {},
   "outputs": [],
   "source": [
    "def cut(string): return list(jieba.cut(string))"
   ]
  },
  {
   "cell_type": "code",
   "execution_count": 12,
   "metadata": {},
   "outputs": [
    {
     "name": "stderr",
     "output_type": "stream",
     "text": [
      "Building prefix dict from the default dictionary ...\n",
      "Dumping model to file cache /var/folders/lx/xy106sq15v1c9hbk_hg9wbdh0000gn/T/jieba.cache\n",
      "Loading model cost 0.916 seconds.\n",
      "Prefix dict has been built succesfully.\n"
     ]
    }
   ],
   "source": [
    "content_of_xiaomi = cut(content.iloc[0]['content'])"
   ]
  },
  {
   "cell_type": "code",
   "execution_count": 14,
   "metadata": {},
   "outputs": [],
   "source": [
    "from collections import Counter"
   ]
  },
  {
   "cell_type": "code",
   "execution_count": 52,
   "metadata": {},
   "outputs": [
    {
     "data": {
      "text/plain": [
       "[('，', 9),\n",
       " ('。', 4),\n",
       " ('MIUI', 3),\n",
       " (' ', 3),\n",
       " ('\\r\\n', 3),\n",
       " ('（', 2),\n",
       " ('6', 2),\n",
       " ('月', 2),\n",
       " ('）', 2),\n",
       " ('机型', 2)]"
      ]
     },
     "execution_count": 52,
     "metadata": {},
     "output_type": "execute_result"
    }
   ],
   "source": [
    "Counter(content_of_xiaomi).most_common()[:10]"
   ]
  },
  {
   "cell_type": "markdown",
   "metadata": {},
   "source": [
    "## Document Frequency"
   ]
  },
  {
   "cell_type": "code",
   "execution_count": null,
   "metadata": {},
   "outputs": [],
   "source": []
  },
  {
   "cell_type": "code",
   "execution_count": 21,
   "metadata": {},
   "outputs": [],
   "source": [
    "content = content.fillna('')"
   ]
  },
  {
   "cell_type": "code",
   "execution_count": 23,
   "metadata": {},
   "outputs": [],
   "source": [
    "all_news_content = content['content']"
   ]
  },
  {
   "cell_type": "code",
   "execution_count": 25,
   "metadata": {},
   "outputs": [],
   "source": [
    "from tqdm import tqdm_notebook"
   ]
  },
  {
   "cell_type": "code",
   "execution_count": 26,
   "metadata": {},
   "outputs": [],
   "source": [
    "all_occurences = []"
   ]
  },
  {
   "cell_type": "code",
   "execution_count": 30,
   "metadata": {},
   "outputs": [
    {
     "data": {
      "application/vnd.jupyter.widget-view+json": {
       "model_id": "995eaa1cfa194a7babce877ac95b05c6",
       "version_major": 2,
       "version_minor": 0
      },
      "text/plain": [
       "HBox(children=(IntProgress(value=0, max=89611), HTML(value='')))"
      ]
     },
     "metadata": {},
     "output_type": "display_data"
    },
    {
     "name": "stdout",
     "output_type": "stream",
     "text": [
      "\n"
     ]
    }
   ],
   "source": [
    "for c in tqdm_notebook(all_news_content, total=len(all_news_content)):\n",
    "    all_occurences.append(set(cut(c)))"
   ]
  },
  {
   "cell_type": "code",
   "execution_count": 39,
   "metadata": {},
   "outputs": [],
   "source": [
    "import math"
   ]
  },
  {
   "cell_type": "code",
   "execution_count": 74,
   "metadata": {},
   "outputs": [],
   "source": [
    "def inverse_document_frequency(word):\n",
    "    eps = 1e-6\n",
    "    return math.log10(len(all_occurences) / (sum(1 for w in all_occurences if word in w) + eps))"
   ]
  },
  {
   "cell_type": "code",
   "execution_count": 50,
   "metadata": {},
   "outputs": [
    {
     "data": {
      "text/plain": [
       "1.0316991547174248"
      ]
     },
     "execution_count": 50,
     "metadata": {},
     "output_type": "execute_result"
    }
   ],
   "source": [
    "document_frequency('我们')"
   ]
  },
  {
   "cell_type": "code",
   "execution_count": 71,
   "metadata": {},
   "outputs": [],
   "source": [
    "def tf(word, cut_words_counter):\n",
    "    return cut_words_counter[word] / sum(cut_words_counter.values())"
   ]
  },
  {
   "cell_type": "code",
   "execution_count": 56,
   "metadata": {},
   "outputs": [
    {
     "data": {
      "text/plain": [
       "0.009615384615384616"
      ]
     },
     "execution_count": 56,
     "metadata": {},
     "output_type": "execute_result"
    }
   ],
   "source": [
    "tf('小米', Counter(content_of_xiaomi))"
   ]
  },
  {
   "cell_type": "code",
   "execution_count": 57,
   "metadata": {},
   "outputs": [],
   "source": [
    "def tfidf(word, cut_words_counter):\n",
    "    w_tf = tf(word, cut_words_counter)\n",
    "    \n",
    "    idf = inverse_document_frequency(word)\n",
    "    \n",
    "    return w_tf * idf"
   ]
  },
  {
   "cell_type": "code",
   "execution_count": 60,
   "metadata": {},
   "outputs": [
    {
     "data": {
      "text/plain": [
       "0.027226893405514308"
      ]
     },
     "execution_count": 60,
     "metadata": {},
     "output_type": "execute_result"
    }
   ],
   "source": [
    "tfidf('小米', Counter(content_of_xiaomi))"
   ]
  },
  {
   "cell_type": "code",
   "execution_count": 61,
   "metadata": {},
   "outputs": [
    {
     "data": {
      "text/plain": [
       "0.0019753497996075134"
      ]
     },
     "execution_count": 61,
     "metadata": {},
     "output_type": "execute_result"
    }
   ],
   "source": [
    "tfidf('的', Counter(content_of_xiaomi))"
   ]
  },
  {
   "cell_type": "code",
   "execution_count": 69,
   "metadata": {},
   "outputs": [],
   "source": [
    "def get_words_importance(cut_words):\n",
    "    importance = {\n",
    "        w: tfidf(w, Counter(cut_words)) for w in set(cut_words)\n",
    "    }\n",
    "    \n",
    "    return sorted(importance.items(), key=lambda x: x[1], reverse=True)"
   ]
  },
  {
   "cell_type": "code",
   "execution_count": 68,
   "metadata": {},
   "outputs": [],
   "source": [
    "test_news = \"\"\"12月8日2时23分，西昌卫星发射中心，嫦娥四号探测器由长征三号乙运载火箭成功发射。新华社发\n",
    "\n",
    "昨日凌晨2时23分，我国嫦娥四号月球探测器在西昌卫星发射中心成功发射，我国第二个月球着陆器和月球车踏上登月征程。发射任务由长征三号乙运载火箭实施。\n",
    "\n",
    "火箭将嫦娥四号送入地月转移轨道后，探测器将经过数十天在轨飞行、轨道修正、近月制动、环月飞行等，预计明年1月初着陆月面，择机释放巡视器。\n",
    "\n",
    "嫦娥四号的目的地是月球背面南极-艾特肯盆地，新月球车将与“玉兔”号在月球两面遥遥相对。这将是人类探测器首次在月球背面着陆，在人类从未直接看见的“月之暗面”实施月球探测和天文观测。\n",
    "\n",
    "据国防科工局、国家航天局介绍，嫦娥四号任务的工程目标包括两方面：研制发射月球中继通信卫星，实现国际首次地月拉格朗日L2点的测控及中继通信；研制发射月球着陆器和巡视器，实现国际首次月球背面软着陆和巡视探测。\n",
    "\n",
    "嫦娥四号的科学任务，一是开展月球背面低频射电天文观测与研究，二是进行月球背面巡视区形貌、矿物组分及月表浅层结构探测与研究，三是试验性开展月球背面中子辐射剂量、中性原子等月球环境探测研究。\n",
    "\n",
    "航天专家庞之浩介绍，在月球背面着陆探测，对研究月球和地球的早期历史也具有重要价值。\n",
    "\n",
    "嫦娥四号还承担了国际合作项目。嫦娥四号任务中，我国与荷兰、德国、瑞典、沙特开展了4项科学载荷方面的国际合作，搭载了3项由哈尔滨工业大学、中山大学、重庆大学等国内高校研制的科学技术试验项目。\n",
    "\n",
    "焦点1\n",
    "\n",
    "嫦娥四号如何着陆？\n",
    "\n",
    "5年前，嫦娥三号着陆在月球正面的虹湾。那里布满月海玄武岩，地势较为开阔、平坦，位于大型撞击坑、月海、高地(山脉)交汇地区，有利于科学勘察目标的选择。\n",
    "\n",
    "而嫦娥四号的主着陆区为月球背面南极-艾特肯盆地，着陆区面积比虹湾地区小了许多。而且月球背面山峰林立，遍布撞击坑，很难找出更大、更平坦的地方，嫦娥三号着陆区地形起伏仅800米，而嫦娥四号着陆区起伏达到了6000米。因此，嫦娥四号着陆器，需要具有比嫦娥三号更准确的着陆精度。\n",
    "\n",
    "由于落月过程地球方向不直接可见，所有信息传输都需要在中继星“鹊桥”的中转下完成。整个落月过程由GNC（制导、导航与控制）系统自主操控，加之回传画面的延迟，对地面人员来说，这个过程近乎是“盲降”。\n",
    "\n",
    "焦点2\n",
    "\n",
    "为何要去月球背面？\n",
    "\n",
    "航天科技集团五院专家介绍，月球背面的探测，可以推动月基科学研究的不断深入。\n",
    "\n",
    "月球背面没有来自地球的无线电波的干扰，是进行射电天文观测的最佳场所，如果能利用这一自然地形架设无线电望远镜，就好比把“天文台”搬到了月球背面。嫦娥四号着陆器在月球背面软着陆后，将开展月基低频射电天文观测研究，预期可以获得一批原创性的科学成果。\n",
    "\n",
    "月球背面探测，也有助于推动月球资源的研究和开发利用。月球蕴藏着丰富的矿产和能源资源，开发和利用月球资源是人类探测月球的原动力之一。近年来，美国等国家相继制定了包括月球背面资源调查研究计划。通过嫦娥四号对着陆区地形地貌、矿物组分、巡视区浅层结构、地幔物质等进行科学探测与研究，将为月球资源的开发利用提供极有价值的第一手资料。\n",
    "\n",
    "由于月球背面探测的难度，嫦娥四号任务也将助推我国航天和相关学科技术的突破。\n",
    "\n",
    "据嫦娥四号研制人员介绍，要完成前无古人的月球背面之旅，嫦娥四号面临几大技术难点：地月拉格朗日L2平动点轨道精确设计与控制，地月拉格朗日L2点远距离数据中继，复杂地形环境下的安全着陆等。\n",
    "\n",
    "为了突破这些技术难点，我国航天界将实现三个国际首次，即首次月球背面软着陆和巡视探测、首次月球拉格朗日L2点中继与探测、首次月基低频射电天文观测，以及国内首次实测月夜期间浅层月壤温度。这一重大科学创新工程的实施，将推动航天技术和其他科学领域相关技术的持续发展。\n",
    "\n",
    "焦点3\n",
    "\n",
    "新月球车与“玉兔”有何不同？\n",
    "\n",
    "今年8月15日，嫦娥四号月球车外观在北京首次亮相，与“玉兔”恰似孪生姐妹。嫦娥四号月球车总重量约140公斤，是全球迄今重量最小的月球车。\n",
    "\n",
    "探月工程副总指挥、国家国防科工局探月与航天工程中心主任刘继忠介绍，嫦娥四号月球车基本继承了“玉兔”的状态，但针对月球背面复杂的地形条件、中继通信新的需求和科学目标实际需要，做了适应性更改和有效载荷配置调整。\n",
    "\n",
    "工作在月球表面，月球车将面临多种极端条件的考验。\n",
    "\n",
    "2013年12月15日，嫦娥三号着陆器与巡视器分离，“玉兔”抵达月球表面。据中国工程院院士、中国探月工程总设计师吴伟仁介绍，月球环境曾对“玉兔”造成影响，例如月夜极低气温导致“玉兔”裸露在外的电缆发生故障。\n",
    "\n",
    "基于“玉兔号”的任务经验，嫦娥四号针对其遇到的问题进行了针对性改进。吴伟仁说，嫦娥四号的月球车仅在电缆钩挂、摩擦方面就做了上千次试验，同时也尽量减少电缆裸露在外的面积，减少电缆的故障风险。\n",
    "\n",
    "吴伟仁透露，嫦娥三号着陆器和月球车设计寿命分别为1年和3个月，但最终月球车工作了2年9个月，着陆器目前仍在运行，工作5年状态依然很好。嫦娥四号月球车设计寿命也是3个月，但预计工作时间将比“玉兔号”更长。\n",
    "\n",
    "焦点4\n",
    "\n",
    "“鹊桥”“嫦四”有何关联？\n",
    "\n",
    "今年5月21日，“鹊桥”中继卫星发射升空，也被称为嫦娥四号任务的先声。\n",
    "\n",
    "嫦娥四号探测器包括着陆器和巡视器(即月球车，此前探月工程办公室曾面向全社会为月球车征名，目前名称尚未发布），但嫦娥四号系统里还有一个“信使”——“鹊桥”中继卫星。\n",
    "\n",
    "由于嫦娥四号降落在月球背面，始终与地球“背对背”，无法直接与地球通信。为解决通信问题，科学家找到一个能同时“看到”地球和月球的位置——地月拉格朗日L2点（位于地月球心连线上靠近月球的一侧，距月球约6.5万公里），并在这里部署一颗通信卫星。\n",
    "\n",
    "“鹊桥”已经于今年5月21日发射升空，目前运行在地月拉格朗日L2点Halo轨道上，是人类历史上第一颗地球轨道外专用中继通信卫星。任务中，地球地面和嫦娥四号都先发射信号给“鹊桥号”，再由其转发给另一方。\n",
    "\n",
    "■ 揭秘\n",
    "\n",
    "“月之暗面”：更白更厚更崎岖\n",
    "\n",
    "过去60年，人类共发射了132个左右的月球探测器，包括65个月球着陆器，但仅有不载人的环绕月球轨道器和载人的阿波罗号飞船“看”到过月球背面。主要是由于从地球向月球背面发射通讯信号，会受到月球整体阻挡，地面通信和测控的难题，阻挡了月球背面着陆计划。\n",
    "\n",
    "月球总是一面朝向地球\n",
    "\n",
    "由于月球自转周期和公转周期相等，加上被地球潮汐锁定，地球强大的引力让月球总是一面朝向地球。\n",
    "\n",
    "美国航空航天学会会员、“小火箭”联合会创始人邢强博士告诉记者，约41%月面无法被地球直接观测到。因为当飞行器飞到月球背面，就难以和地球建立通信，这也是长期以来，人类探测器从未在月球背面着陆的主要原因。\n",
    "\n",
    "可以说，月球背面对于人类来说，是“秘境中的秘境”。\n",
    "\n",
    "随着由中国航天科技集团五院研制的嫦娥四号从西昌出发，人类首次月球背面软着陆巡视探测的大幕正式拉开。嫦娥四号将第一次触及月球背面，这也是中国探测器目前到达的最远的土地。\n",
    "\n",
    "并非完全看不到月背\n",
    "\n",
    "据五院科研人员介绍，月球存在着“天秤动”，像钟摆一样来回摆动，因此，至少有10%至20%的月球背面的边缘地带可以从地球上看到，比如一个跨越1000千米的撞击盆地——东海。\n",
    "\n",
    "1959年10月7日，苏联“月球三号”探测器传回月球背面的第一张照片后，月球背面的“真容”就第一次被揭开了。依照这些珍贵的照片资料，苏联在1960年11月6出版了第一份月球背面地图，一年之后，又制作了第一个月球仪，更加清晰地呈现出月球背面的初步特征。\n",
    "\n",
    "1965年7月20日，苏联“探测器三号”传送回了25张画质更好的月球背面照片，可以看到月球背面有一条长数百千米的链状陨石坑。1967年，苏联根据这批照片出版了包含4000个新发现的月球背面地形目录的地图，同年发布了第一份比例为1:5000000完整的月面图和修订后完整的比例为1:10000000月球仪，月球95%的表面都在上面呈现了出来。\n",
    "\n",
    "人类首次与月背面对面\n",
    "\n",
    "人类首次与月背面对面是在1968年，美国“阿波罗八号”在进行载人登月任务试验的时候，宇航员威廉·安德斯首次看到月球背面。他描述说：“月球背面看起来像我在孩提时玩过一段时间的沙堆，它们全都被翻起来，没有边界，到处是一些碰撞痕和坑洞”。\n",
    "\n",
    "从那时开始直到“阿波罗十七号”，宇航员都曾看到过月球的背面。\n",
    "\n",
    "2010年12月21日，美国国家航空航天局（NASA）的“月球勘测轨道器”拍摄了一组高清月球背面照片，解析度是以往所拍月球背面照片的106倍，所呈现的细节精细程度也创下了历史纪录。根据这些最新照片数据，美国宇航局绘制了月球背面数字海拔地形图，直观地揭示了月球背面的地形。\n",
    "\n",
    "如今，人类观察月背的视角将从太空中变为身临其境。嫦娥四号将首次实现月球背面软着陆和巡视勘察，迎接它的将是怎样的环境呢？\n",
    "\n",
    "布满巨坑的崎岖陆地\n",
    "\n",
    "据航天科技集团五院专家介绍，乍一看上去，月球背面“面孔”并不漂亮，像是一张“麻子脸”，陨石坑的数量比月球正面要多很多。\n",
    "\n",
    "月背的“皱纹”也很多，布满沟壑、峡谷和悬崖，而月球正面则更平坦。月背还有几处巨大的暗斑，暗斑中的物质与月面普通物质相比有很大不同，这种现象似乎能够说明，月球背面由于毫无遮拦地暴露在太空里，因而遭遇了大量天体直接撞击。经年累月，月球就像一个盾牌，为地球挡住陨石，守护着地球的安全。\n",
    "\n",
    "月球背面月壳整体比正面更厚，究竟是什么原因导致月壳厚度不一样，众说纷纭。照片显示，月球背面巨大的陨石坑都呈现出白色，好像从来没有暗色的熔岩从上面流过。科学家们研究认为，由于月球背面的月壳很厚，熔岩无法溢出，而正面月壳很薄，熔岩很容易破缝流淌在表面，所以颜色比正面要白得多。\n",
    "\n",
    "此外，月球正面月海很多，而月球背面却只有3个，分别叫东海、莫斯科海和智海。月球正面有许多巨大绵延起伏的山峦，而背面却不像正面那么多。\n",
    "\n",
    "关键一步已经迈出\n",
    "\n",
    "我们只能看到月球的一边，但这并不是说另外一面永远是黑暗的。事实上，当我们看到整个月球正面的时候，即满月时，它的另一面是黑暗的；而月初月末时，月球背面则是阳光普照。\n",
    "\n",
    "由于目前还没有宇航员或月球车登上月球的背面，因此，人们对月球背面详细情况除了借助照片判断，其他的知之甚少。而嫦娥四号探测器，为人类逐步揭开月球背面的奥秘迈出了关键的一步。\"\"\""
   ]
  },
  {
   "cell_type": "code",
   "execution_count": 77,
   "metadata": {},
   "outputs": [],
   "source": [
    "cut_test_news = cut(test_news)"
   ]
  },
  {
   "cell_type": "code",
   "execution_count": 82,
   "metadata": {},
   "outputs": [],
   "source": [
    "lunar_important = get_words_importance(cut_test_news)"
   ]
  },
  {
   "cell_type": "code",
   "execution_count": 83,
   "metadata": {},
   "outputs": [],
   "source": [
    "xiaomi_important = get_words_importance(content_of_xiaomi)"
   ]
  },
  {
   "cell_type": "code",
   "execution_count": 80,
   "metadata": {},
   "outputs": [],
   "source": [
    "import wordcloud"
   ]
  },
  {
   "cell_type": "code",
   "execution_count": 81,
   "metadata": {},
   "outputs": [],
   "source": [
    "word_cloud = wordcloud.WordCloud(font_path='/Users/mqgao/Downloads/simhei/SimHei.ttf')"
   ]
  },
  {
   "cell_type": "code",
   "execution_count": 88,
   "metadata": {},
   "outputs": [],
   "source": [
    "%matplotlib inline"
   ]
  },
  {
   "cell_type": "code",
   "execution_count": 89,
   "metadata": {},
   "outputs": [],
   "source": [
    "import matplotlib.pyplot as plt"
   ]
  },
  {
   "cell_type": "code",
   "execution_count": 95,
   "metadata": {},
   "outputs": [],
   "source": [
    "import numpy as np"
   ]
  },
  {
   "cell_type": "code",
   "execution_count": 99,
   "metadata": {},
   "outputs": [],
   "source": [
    "from PIL import Image"
   ]
  },
  {
   "cell_type": "code",
   "execution_count": 106,
   "metadata": {},
   "outputs": [],
   "source": [
    "moon_mask = np.array(Image.open('/Users/mqgao/Downloads/alice_mask.png'))"
   ]
  },
  {
   "cell_type": "code",
   "execution_count": 107,
   "metadata": {},
   "outputs": [],
   "source": [
    "word_cloud_with_mask = wordcloud.WordCloud(font_path='/Users/mqgao/Downloads/simhei/SimHei.ttf', mask=moon_mask)"
   ]
  },
  {
   "cell_type": "code",
   "execution_count": 108,
   "metadata": {},
   "outputs": [],
   "source": [
    "def plot_word_cloud_by_importance(importance):\n",
    "    plt.imshow(word_cloud_with_mask.generate_from_frequencies({w: fre for w, fre in importance}))"
   ]
  },
  {
   "cell_type": "code",
   "execution_count": 111,
   "metadata": {},
   "outputs": [
    {
     "data": {
      "text/plain": [
       "<wordcloud.wordcloud.WordCloud at 0x1530bf518>"
      ]
     },
     "execution_count": 111,
     "metadata": {},
     "output_type": "execute_result"
    }
   ],
   "source": [
    "word_cloud_with_mask.generate_from_frequencies({w: fre for w, fre in lunar_important}).to_file('mask_test.png')"
   ]
  },
  {
   "cell_type": "code",
   "execution_count": 114,
   "metadata": {},
   "outputs": [],
   "source": [
    "!open mask_test.png"
   ]
  },
  {
   "cell_type": "code",
   "execution_count": 109,
   "metadata": {},
   "outputs": [
    {
     "data": {
      "image/png": "[encoded data removed]",
      "text/plain": [
       "<Figure size 432x288 with 1 Axes>"
      ]
     },
     "metadata": {},
     "output_type": "display_data"
    }
   ],
   "source": [
    "plot_word_cloud_by_importance(lunar_important)"
   ]
  },
  {
   "cell_type": "code",
   "execution_count": 93,
   "metadata": {},
   "outputs": [
    {
     "data": {
      "image/png": "[encoded data removed]",
      "text/plain": [
       "<Figure size 432x288 with 1 Axes>"
      ]
     },
     "metadata": {},
     "output_type": "display_data"
    }
   ],
   "source": [
    "plot_word_cloud_by_importance(xiaomi_important)"
   ]
  },
  {
   "cell_type": "markdown",
   "metadata": {},
   "source": [
    "## Get the related keywords"
   ]
  },
  {
   "cell_type": "code",
   "execution_count": 12,
   "metadata": {},
   "outputs": [],
   "source": [
    "content = content.fillna('')"
   ]
  },
  {
   "cell_type": "code",
   "execution_count": 13,
   "metadata": {},
   "outputs": [],
   "source": [
    "all_content = ' '.join(content['content'].tolist())"
   ]
  },
  {
   "cell_type": "code",
   "execution_count": 14,
   "metadata": {},
   "outputs": [],
   "source": [
    "import re"
   ]
  },
  {
   "cell_type": "code",
   "execution_count": 15,
   "metadata": {},
   "outputs": [],
   "source": [
    "def token(string):\n",
    "    return re.findall(r'[\\w\\d]+', string)"
   ]
  },
  {
   "cell_type": "code",
   "execution_count": 22,
   "metadata": {},
   "outputs": [],
   "source": [
    "all_content = ''.join(token(all_content))"
   ]
  },
  {
   "cell_type": "code",
   "execution_count": 23,
   "metadata": {},
   "outputs": [
    {
     "data": {
      "text/plain": [
       "33328544"
      ]
     },
     "execution_count": 23,
     "metadata": {},
     "output_type": "execute_result"
    }
   ],
   "source": [
    "len(all_content)"
   ]
  },
  {
   "cell_type": "code",
   "execution_count": 24,
   "metadata": {},
   "outputs": [
    {
     "name": "stderr",
     "output_type": "stream",
     "text": [
      "Building prefix dict from the default dictionary ...\n",
      "Loading model from cache /var/folders/lx/xy106sq15v1c9hbk_hg9wbdh0000gn/T/jieba.cache\n",
      "Loading model cost 0.890 seconds.\n",
      "Prefix dict has been built succesfully.\n"
     ]
    }
   ],
   "source": [
    "all_cut_words = cut(all_content)"
   ]
  },
  {
   "cell_type": "code",
   "execution_count": 42,
   "metadata": {},
   "outputs": [],
   "source": [
    "from gensim.models import Word2Vec"
   ]
  },
  {
   "cell_type": "code",
   "execution_count": 45,
   "metadata": {},
   "outputs": [],
   "source": [
    "mini_all_cut_words = all_cut_words[:10000]"
   ]
  },
  {
   "cell_type": "code",
   "execution_count": 58,
   "metadata": {},
   "outputs": [],
   "source": [
    "from gensim.models.word2vec import LineSentence"
   ]
  },
  {
   "cell_type": "code",
   "execution_count": 64,
   "metadata": {},
   "outputs": [],
   "source": [
    "with open('all_cut_words.txt', 'w', encoding='utf-8') as f:\n",
    "    f.write(' '.join(all_cut_words))"
   ]
  },
  {
   "cell_type": "code",
   "execution_count": 65,
   "metadata": {},
   "outputs": [],
   "source": [
    "news_word2vec = Word2Vec(LineSentence('all_cut_words.txt'), size=35, workers=8)"
   ]
  },
  {
   "cell_type": "code",
   "execution_count": 79,
   "metadata": {},
   "outputs": [
    {
     "name": "stderr",
     "output_type": "stream",
     "text": [
      "/anaconda3/envs/ibm/lib/python3.6/site-packages/ipykernel_launcher.py:1: DeprecationWarning: Call to deprecated `most_similar` (Method will be removed in 4.0.0, use self.wv.most_similar() instead).\n",
      "  \"\"\"Entry point for launching an IPython kernel.\n",
      "/anaconda3/envs/ibm/lib/python3.6/site-packages/gensim/matutils.py:737: FutureWarning: Conversion of the second argument of issubdtype from `int` to `np.signedinteger` is deprecated. In future, it will be treated as `np.int64 == np.dtype(int).type`.\n",
      "  if np.issubdtype(vec.dtype, np.int):\n"
     ]
    },
    {
     "data": {
      "text/plain": [
       "[('意大利', 0.8753021359443665),\n",
       " ('比利时', 0.8329282999038696),\n",
       " ('克罗地亚', 0.8313963413238525),\n",
       " ('捷克', 0.8310271501541138),\n",
       " ('摩洛哥', 0.8261146545410156),\n",
       " ('乌拉圭', 0.8224618434906006),\n",
       " ('拉脱维亚', 0.8104860186576843),\n",
       " ('奥地利', 0.8049799799919128),\n",
       " ('科特迪瓦', 0.8025559782981873),\n",
       " ('罗马', 0.800704300403595),\n",
       " ('伊斯坦布尔', 0.7947038412094116),\n",
       " ('比什凯克', 0.7936158180236816),\n",
       " ('多哈', 0.7890053391456604),\n",
       " ('巴拉圭', 0.7834125757217407),\n",
       " ('圣胡安', 0.7777934670448303),\n",
       " ('索', 0.7772760987281799),\n",
       " ('西班牙', 0.7749499082565308),\n",
       " ('斯洛文尼亚', 0.7741921544075012),\n",
       " ('基辅', 0.7691129446029663),\n",
       " ('里斯本', 0.7672563195228577)]"
      ]
     },
     "execution_count": 79,
     "metadata": {},
     "output_type": "execute_result"
    }
   ],
   "source": [
    "news_word2vec.most_similar('葡萄牙', topn=20)"
   ]
  },
  {
   "cell_type": "markdown",
   "metadata": {},
   "source": [
    "## 1. More Data, Better Result\n",
    "> We need merge the general dataset like `wikipedia` with specific domain dataset like `new data`"
   ]
  },
  {
   "cell_type": "markdown",
   "metadata": {},
   "source": [
    "## 2. Fine-tune"
   ]
  },
  {
   "cell_type": "code",
   "execution_count": 115,
   "metadata": {},
   "outputs": [],
   "source": [
    "from collections import defaultdict"
   ]
  },
  {
   "cell_type": "code",
   "execution_count": 116,
   "metadata": {},
   "outputs": [],
   "source": [
    "def get_related_words(initial_words, model):\n",
    "    max_size = 500\n",
    "    seen = defaultdict(int)\n",
    "    unseen = [initial_words]\n",
    "    \n",
    "    while unseen and len(seen) < max_size:\n",
    "        if len(seen) % 100 == 0:\n",
    "            print('seen length: {}'.format(len(seen)))\n",
    "        node = unseen.pop(0)\n",
    "\n",
    "        new_expanding = [w for w, s in model.most_similar(node, topn=20)]\n",
    "        \n",
    "        unseen += new_expanding\n",
    "        \n",
    "        seen[node] += 1  \n",
    "        # if we need more sophsiticated, we need change the value as the function(layer, similarity)\n",
    "        \n",
    "    return seen"
   ]
  },
  {
   "cell_type": "code",
   "execution_count": 117,
   "metadata": {},
   "outputs": [
    {
     "name": "stdout",
     "output_type": "stream",
     "text": [
      "seen length: 0\n"
     ]
    },
    {
     "name": "stderr",
     "output_type": "stream",
     "text": [
      "/anaconda3/envs/ibm/lib/python3.6/site-packages/ipykernel_launcher.py:11: DeprecationWarning: Call to deprecated `most_similar` (Method will be removed in 4.0.0, use self.wv.most_similar() instead).\n",
      "  # This is added back by InteractiveShellApp.init_path()\n"
     ]
    },
    {
     "name": "stdout",
     "output_type": "stream",
     "text": [
      "seen length: 100\n",
      "seen length: 100\n",
      "seen length: 100\n",
      "seen length: 100\n",
      "seen length: 100\n",
      "seen length: 100\n",
      "seen length: 100\n",
      "seen length: 100\n",
      "seen length: 100\n",
      "seen length: 100\n",
      "seen length: 100\n",
      "seen length: 100\n",
      "seen length: 100\n",
      "seen length: 100\n",
      "seen length: 100\n",
      "seen length: 100\n",
      "seen length: 100\n",
      "seen length: 100\n",
      "seen length: 200\n",
      "seen length: 200\n",
      "seen length: 200\n",
      "seen length: 200\n",
      "seen length: 300\n",
      "seen length: 300\n",
      "seen length: 300\n",
      "seen length: 300\n",
      "seen length: 300\n",
      "seen length: 300\n",
      "seen length: 300\n",
      "seen length: 300\n",
      "seen length: 300\n",
      "seen length: 300\n",
      "seen length: 400\n"
     ]
    }
   ],
   "source": [
    "related_words = get_related_words('俄罗斯', news_word2vec)"
   ]
  },
  {
   "cell_type": "markdown",
   "metadata": {},
   "source": [
    "## Breaking Until 10:43"
   ]
  },
  {
   "cell_type": "code",
   "execution_count": 120,
   "metadata": {},
   "outputs": [
    {
     "data": {
      "text/plain": [
       "[('土耳其', 181),\n",
       " ('沙特', 159),\n",
       " ('俄罗斯', 144),\n",
       " ('以色列', 134),\n",
       " ('伊朗', 132),\n",
       " ('卡塔尔', 124),\n",
       " ('墨西哥', 119),\n",
       " ('埃及', 105),\n",
       " ('波兰', 104),\n",
       " ('该国', 103),\n",
       " ('德国', 96),\n",
       " ('美国', 95),\n",
       " ('新加坡', 93),\n",
       " ('南非', 90),\n",
       " ('澳大利亚', 88),\n",
       " ('叙利亚', 88),\n",
       " ('菲律宾', 85),\n",
       " ('北约', 85),\n",
       " ('比利时', 84),\n",
       " ('乌克兰', 81),\n",
       " ('英国', 74),\n",
       " ('沙特阿拉伯', 73),\n",
       " ('印度', 68),\n",
       " ('朝鲜', 66),\n",
       " ('利比亚', 66),\n",
       " ('希腊', 62),\n",
       " ('巴拿马', 62),\n",
       " ('叙', 62),\n",
       " ('阿富汗', 61),\n",
       " ('瑞士', 61),\n",
       " ('欧洲', 60),\n",
       " ('巴西', 60),\n",
       " ('保加利亚', 58),\n",
       " ('约旦', 57),\n",
       " ('秘鲁', 57),\n",
       " ('阿联酋', 55),\n",
       " ('法国', 54),\n",
       " ('古巴', 53),\n",
       " ('白俄罗斯', 52),\n",
       " ('也门', 52),\n",
       " ('黑山', 51),\n",
       " ('伊拉克', 49),\n",
       " ('索马里', 49),\n",
       " ('尼日利亚', 49),\n",
       " ('意大利', 48),\n",
       " ('日本', 47),\n",
       " ('瑞典', 47),\n",
       " ('匈牙利', 45),\n",
       " ('邻国', 41),\n",
       " ('马来西亚', 40)]"
      ]
     },
     "execution_count": 120,
     "metadata": {},
     "output_type": "execute_result"
    }
   ],
   "source": [
    "sorted(related_words.items(), key=lambda x: x[1], reverse=True)[:50]"
   ]
  },
  {
   "cell_type": "code",
   "execution_count": 111,
   "metadata": {},
   "outputs": [
    {
     "name": "stderr",
     "output_type": "stream",
     "text": [
      "/anaconda3/envs/ibm/lib/python3.6/site-packages/ipykernel_launcher.py:1: DeprecationWarning: Call to deprecated `most_similar` (Method will be removed in 4.0.0, use self.wv.most_similar() instead).\n",
      "  \"\"\"Entry point for launching an IPython kernel.\n",
      "/anaconda3/envs/ibm/lib/python3.6/site-packages/gensim/matutils.py:737: FutureWarning: Conversion of the second argument of issubdtype from `int` to `np.signedinteger` is deprecated. In future, it will be treated as `np.int64 == np.dtype(int).type`.\n",
      "  if np.issubdtype(vec.dtype, np.int):\n"
     ]
    },
    {
     "data": {
      "text/plain": [
       "[('全世界', 0.7441222667694092),\n",
       " ('国内', 0.7378897070884705),\n",
       " ('海外', 0.7353743314743042),\n",
       " ('世界', 0.7278556823730469),\n",
       " ('我国', 0.7216463685035706),\n",
       " ('大陆', 0.7184531688690186),\n",
       " ('全球', 0.7143888473510742),\n",
       " ('亚洲', 0.7036073207855225),\n",
       " ('香港', 0.7013078927993774),\n",
       " ('欧洲', 0.6960153579711914),\n",
       " ('芬兰', 0.6896002292633057),\n",
       " ('非洲', 0.6774817705154419),\n",
       " ('中欧', 0.6645262241363525),\n",
       " ('台湾', 0.6577497124671936),\n",
       " ('欧美国家', 0.6539163589477539),\n",
       " ('各国', 0.6415266394615173),\n",
       " ('西方', 0.6349695920944214),\n",
       " ('数字', 0.6282539963722229),\n",
       " ('马来西亚', 0.6218267679214478),\n",
       " ('中企', 0.6215770244598389),\n",
       " ('两国', 0.620868444442749),\n",
       " ('中巴', 0.6206915974617004),\n",
       " ('日本', 0.620435357093811),\n",
       " ('丝绸之路', 0.6200994253158569),\n",
       " ('肯尼亚', 0.6183688640594482),\n",
       " ('拉美', 0.6119922995567322),\n",
       " ('内地', 0.607686460018158),\n",
       " ('合作伙伴', 0.6075104475021362),\n",
       " ('韩文', 0.6068940162658691),\n",
       " ('延伸', 0.6058059930801392)]"
      ]
     },
     "execution_count": 111,
     "metadata": {},
     "output_type": "execute_result"
    }
   ],
   "source": [
    "news_word2vec.most_similar('中国', topn=30)"
   ]
  },
  {
   "cell_type": "code",
   "execution_count": 97,
   "metadata": {},
   "outputs": [
    {
     "data": {
      "text/plain": [
       "defaultdict(int,\n",
       "            {'中国': 1,\n",
       "             '全世界': 1,\n",
       "             '国内': 1,\n",
       "             '海外': 1,\n",
       "             '世界': 1,\n",
       "             '我国': 1,\n",
       "             '大陆': 1,\n",
       "             '全球': 1,\n",
       "             '亚洲': 1,\n",
       "             '香港': 1,\n",
       "             '欧洲': 1,\n",
       "             '芬兰': 1,\n",
       "             '非洲': 1,\n",
       "             '中欧': 1,\n",
       "             '台湾': 1,\n",
       "             '欧美国家': 1,\n",
       "             '各国': 1,\n",
       "             '西方': 1,\n",
       "             '数字': 1,\n",
       "             '马来西亚': 1,\n",
       "             '中企': 1})"
      ]
     },
     "execution_count": 97,
     "metadata": {},
     "output_type": "execute_result"
    }
   ],
   "source": [
    "related_words"
   ]
  },
  {
   "cell_type": "markdown",
   "metadata": {},
   "source": [
    "## Name Entity Recognition"
   ]
  },
  {
   "cell_type": "markdown",
   "metadata": {},
   "source": [
    "Given a give => Person Name, Organization Name, Datetime, Location, Other"
   ]
  },
  {
   "cell_type": "markdown",
   "metadata": {},
   "source": [
    "## Part Of Speech"
   ]
  },
  {
   "cell_type": "markdown",
   "metadata": {},
   "source": [
    "'noun', 'verb', '...'"
   ]
  },
  {
   "cell_type": "code",
   "execution_count": 123,
   "metadata": {},
   "outputs": [],
   "source": [
    "from jieba import posseg"
   ]
  },
  {
   "cell_type": "code",
   "execution_count": 137,
   "metadata": {},
   "outputs": [],
   "source": [
    "## References\n",
    "## https://blog.csdn.net/huludan/article/details/52727298\n",
    "## https://pyltp.readthedocs.io/zh_CN/latest/"
   ]
  },
  {
   "cell_type": "code",
   "execution_count": 134,
   "metadata": {},
   "outputs": [],
   "source": [
    "test_news_2 = \"\"\"今年是“一带一路”倡议提出五周年。五年来，中国已经同140多个国家和国际组织签署共建“一带一路”合作协议，一大批重大合作项目已经落地生根。在今年的外访和参加国际会议期间，习近平主席几乎每到一个国家都会提到“一带一路”，亲自推动“一带一路”倡议走深走实。\n",
    "\n",
    "在阿联酋，习近平强调中阿是共建“一带一路”的天然合作伙伴，中方视阿联酋为“一带一路”建设重要支点国家。在塞内加尔，习近平见证了中塞共建“一带一路”等多项双边合作文件的签署，塞内加尔也成为西非首个签署“一带一路”合作文件的国家。在卢旺达，习近平表示，中方欢迎卢方积极参与共建“一带一路”国际合作，鼓励中国企业赴卢旺达投资兴业，助力卢旺达工业化和现代化进程。在南非，习近平强调，中南双方要加强在“一带一路”和中非合作论坛框架内合作。在毛里求斯，习近平提议，发挥毛里求斯参与共建“一带一路”的独特区位优势，加强沟通对接，深化广泛领域合作。\n",
    "\n",
    "习近平今年外访收官，向国际社会传达了什么讯息？（来源：CCTV-新闻）\n",
    "△独家V观丨盛装歌舞！习近平出席巴新独立大道移交启用仪式\n",
    "巴布亚新几内亚是太平洋岛国地区首个同中方签署共建“一带一路”合作协议的国家。在巴新，习近平表示，双方要在“一带一路”框架内加强发展战略对接，争取尽早就启动双边自由贸易协定谈判达成一致。在文莱，习近平强调，中方视文莱为建设21世纪海上丝绸之路重要合作伙伴，愿将“一带一路”倡议同文莱经济多元化战略“2035宏愿”相对接。在菲律宾，习近平见证了《中华人民共和国政府与菲律宾共和国政府关于共同推进“一带一路”建设的谅解备忘录》等多项双边合作文件的签署。\n",
    "\n",
    "在西班牙，习近平表示，中西开展“一带一路”合作具有历史、地理等多重优势，要加强“一带一路”倡议同西班牙亚洲战略、地中海走廊建设等对接。在阿根廷，习近平强调，双方要在共建“一带一路”框架内加强沟通和合作，对接两国发展规划。在巴拿马，习近平指出，巴方“2030年国家物流战略”同中方共建“一带一路”倡议高度契合，双方要加强战略对接。在葡萄牙，习近平强调，双方要以签署中葡政府间共建“一带一路”合作谅解备忘录为契机，全面加强“一带一路”框架内合作，促进互联互通。\n",
    "\n",
    "习近平今年外访收官，向国际社会传达了什么讯息？△习近平在APEC工商领导人峰会上发表主旨演讲\n",
    "\n",
    "在今年的APEC工商领导人峰会上，习近平发表主旨演讲时还郑重表示，共建“一带一路”是开放的合作平台，秉持的是共商共建共享的基本原则，没有地缘政治目的，不针对谁也不排除谁，不会关起门来搞小圈子，不是有人说的这样那样的所谓“陷阱”，而是中国同世界共享机遇、共谋发展的阳光大道。中国将于明年4月在北京举办第二届“一带一路”国际合作高峰论坛。\n",
    "\n",
    "四次踏出国门，每到一地，习近平都在积极扩大“一带一路”朋友圈，寻找“一带一路”倡议和各国发展战略之间的契合点，并亲自发声排除外界对“一带一路”倡议的各种杂音。可以说，共建“一带一路”是习近平2018年外访行程的一大中心主题。\"\"\""
   ]
  },
  {
   "cell_type": "code",
   "execution_count": 135,
   "metadata": {},
   "outputs": [
    {
     "name": "stdout",
     "output_type": "stream",
     "text": [
      "\t今年/t\n",
      "\t是/v\n",
      "\t“/x\n",
      "\t一带/n\n",
      "\t一路/m\n",
      "\t”/x\n",
      "\t倡议/n\n",
      "\t提出/v\n",
      "\t五周年/m\n",
      "\t。/x\n",
      "\t五年/t\n",
      "\t来/v\n",
      "\t，/x\n",
      "\t中国/ns\n",
      "\t已经/d\n",
      "\t同/c\n",
      "\t140/m\n",
      "\t多个/m\n",
      "\t国家/n\n",
      "\t和/c\n",
      "\t国际/n\n",
      "\t组织/v\n",
      "\t签署/v\n",
      "\t共建/v\n",
      "\t“/x\n",
      "\t一带/n\n",
      "\t一路/m\n",
      "\t”/x\n",
      "\t合作/vn\n",
      "\t协议/n\n",
      "\t，/x\n",
      "\t一大批/m\n",
      "\t重大/a\n",
      "\t合作项目/n\n",
      "\t已经/d\n",
      "\t落地生根/i\n",
      "\t。/x\n",
      "\t在/p\n",
      "\t今年/t\n",
      "\t的/uj\n",
      "\t外访/v\n",
      "\t和/c\n",
      "\t参加/v\n",
      "\t国际/n\n",
      "\t会议/n\n",
      "\t期间/f\n",
      "\t，/x\n",
      "\t习近平/nrfg\n",
      "\t主席/n\n",
      "\t几乎/d\n",
      "\t每/r\n",
      "\t到/v\n",
      "\t一个/m\n",
      "\t国家/n\n",
      "\t都/d\n",
      "\t会/v\n",
      "\t提到/v\n",
      "\t“/x\n",
      "\t一带/n\n",
      "\t一路/m\n",
      "\t”/x\n",
      "\t，/x\n",
      "\t亲自/d\n",
      "\t推动/v\n",
      "\t“/x\n",
      "\t一带/n\n",
      "\t一路/m\n",
      "\t”/x\n",
      "\t倡议/n\n",
      "\t走/v\n",
      "\t深/a\n",
      "\t走/v\n",
      "\t实/v\n",
      "\t。/x\n",
      "\t\n",
      "/x\n",
      "\t\n",
      "/x\n",
      "\t在/p\n",
      "\t阿联酋/ns\n",
      "\t，/x\n",
      "\t习近平/nrfg\n",
      "\t强调/v\n",
      "\t中阿/ns\n",
      "\t是/v\n",
      "\t共建/v\n",
      "\t“/x\n",
      "\t一带/n\n",
      "\t一路/m\n",
      "\t”/x\n",
      "\t的/uj\n",
      "\t天然/b\n",
      "\t合作伙伴/n\n",
      "\t，/x\n",
      "\t中方/f\n",
      "\t视/vg\n",
      "\t阿联酋/ns\n",
      "\t为/p\n",
      "\t“/x\n",
      "\t一带/n\n",
      "\t一路/m\n",
      "\t”/x\n",
      "\t建设/vn\n",
      "\t重要/a\n",
      "\t支点/n\n",
      "\t国家/n\n",
      "\t。/x\n",
      "\t在/p\n",
      "\t塞内加尔/ns\n",
      "\t，/x\n",
      "\t习近平/nrfg\n",
      "\t见证/v\n",
      "\t了/ul\n",
      "\t中塞/ns\n",
      "\t共建/v\n",
      "\t“/x\n",
      "\t一带/n\n",
      "\t一路/m\n",
      "\t”/x\n",
      "\t等/u\n",
      "\t多项/m\n",
      "\t双边合作/n\n",
      "\t文件/n\n",
      "\t的/uj\n",
      "\t签署/v\n",
      "\t，/x\n",
      "\t塞内加尔/ns\n",
      "\t也/d\n",
      "\t成为/v\n",
      "\t西非/ns\n",
      "\t首个/m\n",
      "\t签署/v\n",
      "\t“/x\n",
      "\t一带/n\n",
      "\t一路/m\n",
      "\t”/x\n",
      "\t合作/vn\n",
      "\t文件/n\n",
      "\t的/uj\n",
      "\t国家/n\n",
      "\t。/x\n",
      "\t在/p\n",
      "\t卢旺达/nr\n",
      "\t，/x\n",
      "\t习近平/nrfg\n",
      "\t表示/v\n",
      "\t，/x\n",
      "\t中方/f\n",
      "\t欢迎/v\n",
      "\t卢方/nr\n",
      "\t积极参与/i\n",
      "\t共建/v\n",
      "\t“/x\n",
      "\t一带/n\n",
      "\t一路/m\n",
      "\t”/x\n",
      "\t国际/n\n",
      "\t合作/vn\n",
      "\t，/x\n",
      "\t鼓励/v\n",
      "\t中国/ns\n",
      "\t企业/n\n",
      "\t赴/v\n",
      "\t卢旺达/nr\n",
      "\t投资/vn\n",
      "\t兴业/n\n",
      "\t，/x\n",
      "\t助力/n\n",
      "\t卢旺达/nr\n",
      "\t工业化/vn\n",
      "\t和/c\n",
      "\t现代化/vn\n",
      "\t进程/n\n",
      "\t。/x\n",
      "\t在/p\n",
      "\t南非/ns\n",
      "\t，/x\n",
      "\t习近平/nrfg\n",
      "\t强调/v\n",
      "\t，/x\n",
      "\t中南/ns\n",
      "\t双方/n\n",
      "\t要/v\n",
      "\t加强/v\n",
      "\t在/p\n",
      "\t“/x\n",
      "\t一带/n\n",
      "\t一路/m\n",
      "\t”/x\n",
      "\t和/c\n",
      "\t中非/ns\n",
      "\t合作/vn\n",
      "\t论坛/n\n",
      "\t框架/n\n",
      "\t内/n\n",
      "\t合作/vn\n",
      "\t。/x\n",
      "\t在/p\n",
      "\t毛里求斯/ns\n",
      "\t，/x\n",
      "\t习近平/nrfg\n",
      "\t提议/v\n",
      "\t，/x\n",
      "\t发挥/v\n",
      "\t毛里求斯/ns\n",
      "\t参与/v\n",
      "\t共建/v\n",
      "\t“/x\n",
      "\t一带/n\n",
      "\t一路/m\n",
      "\t”/x\n",
      "\t的/uj\n",
      "\t独特/a\n",
      "\t区位/n\n",
      "\t优势/n\n",
      "\t，/x\n",
      "\t加强/v\n",
      "\t沟通/v\n",
      "\t对接/v\n",
      "\t，/x\n",
      "\t深化/j\n",
      "\t广泛/a\n",
      "\t领域/n\n",
      "\t合作/vn\n",
      "\t。/x\n",
      "\t\n",
      "/x\n",
      "\t\n",
      "/x\n",
      "\t习近平/nrfg\n",
      "\t今年/t\n",
      "\t外访/v\n",
      "\t收官/n\n",
      "\t，/x\n",
      "\t向/p\n",
      "\t国际/n\n",
      "\t社会/n\n",
      "\t传达/v\n",
      "\t了/ul\n",
      "\t什么/r\n",
      "\t讯息/n\n",
      "\t？/x\n",
      "\t（/x\n",
      "\t来源/n\n",
      "\t：/x\n",
      "\tCCTV/eng\n",
      "\t-/x\n",
      "\t新闻/n\n",
      "\t）/x\n",
      "\t\n",
      "/x\n",
      "\t△/x\n",
      "\t独家/n\n",
      "\tV/eng\n",
      "\t观/vg\n",
      "\t丨/zg\n",
      "\t盛装/v\n",
      "\t歌舞/n\n",
      "\t！/x\n",
      "\t习近平/nrfg\n",
      "\t出席/v\n",
      "\t巴新/ns\n",
      "\t独立/v\n",
      "\t大道/n\n",
      "\t移交/v\n",
      "\t启用/v\n",
      "\t仪式/n\n",
      "\t\n",
      "/x\n",
      "\t巴布亚新几内亚/ns\n",
      "\t是/v\n",
      "\t太平洋/ns\n",
      "\t岛国/n\n",
      "\t地区/n\n",
      "\t首个/m\n",
      "\t同/p\n",
      "\t中方/f\n",
      "\t签署/v\n",
      "\t共建/v\n",
      "\t“/x\n",
      "\t一带/n\n",
      "\t一路/m\n",
      "\t”/x\n",
      "\t合作/vn\n",
      "\t协议/n\n",
      "\t的/uj\n",
      "\t国家/n\n",
      "\t。/x\n",
      "\t在/p\n",
      "\t巴新/ns\n",
      "\t，/x\n",
      "\t习近平/nrfg\n",
      "\t表示/v\n",
      "\t，/x\n",
      "\t双方/n\n",
      "\t要/v\n",
      "\t在/p\n",
      "\t“/x\n",
      "\t一带/n\n",
      "\t一路/m\n",
      "\t”/x\n",
      "\t框架/n\n",
      "\t内/n\n",
      "\t加强/v\n",
      "\t发展/vn\n",
      "\t战略/n\n",
      "\t对接/v\n",
      "\t，/x\n",
      "\t争取/v\n",
      "\t尽早/d\n",
      "\t就/d\n",
      "\t启动/vn\n",
      "\t双边/n\n",
      "\t自由/a\n",
      "\t贸易协定/nz\n",
      "\t谈判/vn\n",
      "\t达成/v\n",
      "\t一致/d\n",
      "\t。/x\n",
      "\t在/p\n",
      "\t文莱/nr\n",
      "\t，/x\n",
      "\t习近平/nrfg\n",
      "\t强调/v\n",
      "\t，/x\n",
      "\t中方/f\n",
      "\t视/vg\n",
      "\t文莱/nr\n",
      "\t为/p\n",
      "\t建设/vn\n",
      "\t21/m\n",
      "\t世纪/n\n",
      "\t海上/s\n",
      "\t丝绸之路/l\n",
      "\t重要/a\n",
      "\t合作伙伴/n\n",
      "\t，/x\n",
      "\t愿/v\n",
      "\t将/d\n",
      "\t“/x\n",
      "\t一带/n\n",
      "\t一路/m\n",
      "\t”/x\n",
      "\t倡议/n\n",
      "\t同/p\n",
      "\t文莱/nr\n",
      "\t经济/n\n",
      "\t多元化/vn\n",
      "\t战略/n\n",
      "\t“/x\n",
      "\t2035/m\n",
      "\t宏愿/n\n",
      "\t”/x\n",
      "\t相对/d\n",
      "\t接/v\n",
      "\t。/x\n",
      "\t在/p\n",
      "\t菲律宾/ns\n",
      "\t，/x\n",
      "\t习近平/nrfg\n",
      "\t见证/v\n",
      "\t了/ul\n",
      "\t《/x\n",
      "\t中华人民共和国政府/nt\n",
      "\t与/p\n",
      "\t菲律宾共和国/ns\n",
      "\t政府/n\n",
      "\t关于/p\n",
      "\t共同/d\n",
      "\t推进/v\n",
      "\t“/x\n",
      "\t一带/n\n",
      "\t一路/m\n",
      "\t”/x\n",
      "\t建设/vn\n",
      "\t的/uj\n",
      "\t谅解/v\n",
      "\t备忘录/n\n",
      "\t》/x\n",
      "\t等/u\n",
      "\t多项/m\n",
      "\t双边合作/n\n",
      "\t文件/n\n",
      "\t的/uj\n",
      "\t签署/v\n",
      "\t。/x\n",
      "\t\n",
      "/x\n",
      "\t\n",
      "/x\n",
      "\t在/p\n",
      "\t西班牙/ns\n",
      "\t，/x\n",
      "\t习近平/nrfg\n",
      "\t表示/v\n",
      "\t，/x\n",
      "\t中西/ns\n",
      "\t开展/v\n",
      "\t“/x\n",
      "\t一带/n\n",
      "\t一路/m\n",
      "\t”/x\n",
      "\t合作/vn\n",
      "\t具有/v\n",
      "\t历史/n\n",
      "\t、/x\n",
      "\t地理/n\n",
      "\t等/u\n",
      "\t多重/m\n",
      "\t优势/n\n",
      "\t，/x\n",
      "\t要/v\n",
      "\t加强/v\n",
      "\t“/x\n",
      "\t一带/n\n",
      "\t一路/m\n",
      "\t”/x\n",
      "\t倡议/n\n",
      "\t同/p\n",
      "\t西班牙/ns\n",
      "\t亚洲/ns\n",
      "\t战略/n\n",
      "\t、/x\n",
      "\t地中海/ns\n",
      "\t走廊/n\n",
      "\t建设/vn\n",
      "\t等/u\n",
      "\t对接/v\n",
      "\t。/x\n",
      "\t在/p\n",
      "\t阿根廷/nr\n",
      "\t，/x\n",
      "\t习近平/nrfg\n",
      "\t强调/v\n",
      "\t，/x\n",
      "\t双方/n\n",
      "\t要/v\n",
      "\t在/p\n",
      "\t共建/v\n",
      "\t“/x\n",
      "\t一带/n\n",
      "\t一路/m\n",
      "\t”/x\n",
      "\t框架/n\n",
      "\t内/n\n",
      "\t加强/v\n",
      "\t沟通/v\n",
      "\t和/c\n",
      "\t合作/vn\n",
      "\t，/x\n",
      "\t对接/v\n",
      "\t两/m\n",
      "\t国/n\n",
      "\t发展/vn\n",
      "\t规划/n\n",
      "\t。/x\n",
      "\t在/p\n",
      "\t巴拿马/ns\n",
      "\t，/x\n",
      "\t习近平/nrfg\n",
      "\t指出/v\n",
      "\t，/x\n",
      "\t巴方/nr\n",
      "\t“/x\n",
      "\t2030/m\n",
      "\t年/m\n",
      "\t国家/n\n",
      "\t物流/n\n",
      "\t战略/n\n",
      "\t”/x\n",
      "\t同/p\n",
      "\t中方/f\n",
      "\t共建/v\n",
      "\t“/x\n",
      "\t一带/n\n",
      "\t一路/m\n",
      "\t”/x\n",
      "\t倡议/n\n",
      "\t高度/n\n",
      "\t契合/v\n",
      "\t，/x\n",
      "\t双方/n\n",
      "\t要/v\n",
      "\t加强/v\n",
      "\t战略/n\n",
      "\t对接/v\n",
      "\t。/x\n",
      "\t在/p\n",
      "\t葡萄牙/ns\n",
      "\t，/x\n",
      "\t习近平/nrfg\n",
      "\t强调/v\n",
      "\t，/x\n",
      "\t双方/n\n",
      "\t要/v\n",
      "\t以/p\n",
      "\t签署/v\n",
      "\t中葡/n\n",
      "\t政府/n\n",
      "\t间/f\n",
      "\t共建/v\n",
      "\t“/x\n",
      "\t一带/n\n",
      "\t一路/m\n",
      "\t”/x\n",
      "\t合作/vn\n",
      "\t谅解/v\n",
      "\t备忘录/n\n",
      "\t为/p\n",
      "\t契机/n\n",
      "\t，/x\n",
      "\t全面/n\n",
      "\t加强/v\n",
      "\t“/x\n",
      "\t一带/n\n",
      "\t一路/m\n",
      "\t”/x\n",
      "\t框架/n\n",
      "\t内/n\n",
      "\t合作/vn\n",
      "\t，/x\n",
      "\t促进/v\n",
      "\t互联互通/l\n",
      "\t。/x\n",
      "\t\n",
      "/x\n",
      "\t\n",
      "/x\n",
      "\t习近平/nrfg\n",
      "\t今年/t\n",
      "\t外访/v\n",
      "\t收官/n\n",
      "\t，/x\n",
      "\t向/p\n",
      "\t国际/n\n",
      "\t社会/n\n",
      "\t传达/v\n",
      "\t了/ul\n",
      "\t什么/r\n",
      "\t讯息/n\n",
      "\t？/x\n",
      "\t△/x\n",
      "\t习近平/nrfg\n",
      "\t在/p\n",
      "\tAPEC/eng\n",
      "\t工商/n\n",
      "\t领导人/n\n",
      "\t峰会/n\n",
      "\t上/f\n",
      "\t发表/v\n",
      "\t主旨/n\n",
      "\t演讲/v\n",
      "\t\n",
      "/x\n",
      "\t\n",
      "/x\n",
      "\t在/p\n",
      "\t今年/t\n",
      "\t的/uj\n",
      "\tAPEC/eng\n",
      "\t工商/n\n",
      "\t领导人/n\n",
      "\t峰会/n\n",
      "\t上/f\n",
      "\t，/x\n",
      "\t习近平/nrfg\n",
      "\t发表/v\n",
      "\t主旨/n\n",
      "\t演讲时/n\n",
      "\t还/d\n",
      "\t郑重/a\n",
      "\t表示/v\n",
      "\t，/x\n",
      "\t共建/v\n",
      "\t“/x\n",
      "\t一带/n\n",
      "\t一路/m\n",
      "\t”/x\n",
      "\t是/v\n",
      "\t开放/v\n",
      "\t的/uj\n",
      "\t合作/vn\n",
      "\t平台/n\n",
      "\t，/x\n",
      "\t秉持/v\n",
      "\t的/uj\n",
      "\t是/v\n",
      "\t共商/n\n",
      "\t共建/v\n",
      "\t共享/v\n",
      "\t的/uj\n",
      "\t基本/n\n",
      "\t原则/n\n",
      "\t，/x\n",
      "\t没有/v\n",
      "\t地缘/n\n",
      "\t政治/n\n",
      "\t目的/n\n",
      "\t，/x\n",
      "\t不/d\n",
      "\t针对/p\n",
      "\t谁/r\n",
      "\t也/d\n",
      "\t不/d\n",
      "\t排除/v\n",
      "\t谁/r\n",
      "\t，/x\n",
      "\t不会/v\n",
      "\t关起门来/l\n",
      "\t搞/v\n",
      "\t小圈子/nr\n",
      "\t，/x\n",
      "\t不是/c\n",
      "\t有人/r\n",
      "\t说/v\n",
      "\t的/uj\n",
      "\t这样/r\n",
      "\t那样/r\n",
      "\t的/uj\n",
      "\t所谓/b\n",
      "\t“/x\n",
      "\t陷阱/n\n",
      "\t”/x\n",
      "\t，/x\n",
      "\t而是/c\n",
      "\t中国/ns\n",
      "\t同/p\n",
      "\t世界/n\n",
      "\t共享/v\n",
      "\t机遇/n\n",
      "\t、/x\n",
      "\t共谋/n\n",
      "\t发展/vn\n",
      "\t的/uj\n",
      "\t阳光/nr\n",
      "\t大道/n\n",
      "\t。/x\n",
      "\t中国/ns\n",
      "\t将/d\n",
      "\t于/p\n",
      "\t明年/t\n",
      "\t4/m\n",
      "\t月/m\n",
      "\t在/p\n",
      "\t北京/ns\n",
      "\t举办/v\n",
      "\t第二届/m\n",
      "\t“/x\n",
      "\t一带/n\n",
      "\t一路/m\n",
      "\t”/x\n",
      "\t国际/n\n",
      "\t合作/vn\n",
      "\t高峰论坛/n\n",
      "\t。/x\n",
      "\t\n",
      "/x\n",
      "\t\n",
      "/x\n",
      "\t四次/m\n",
      "\t踏出/v\n",
      "\t国门/n\n",
      "\t，/x\n",
      "\t每到一地/l\n",
      "\t，/x\n",
      "\t习近平/nrfg\n",
      "\t都/d\n",
      "\t在/p\n",
      "\t积极/ad\n",
      "\t扩大/v\n",
      "\t“/x\n",
      "\t一带/n\n",
      "\t一路/m\n",
      "\t”/x\n",
      "\t朋友圈/n\n",
      "\t，/x\n",
      "\t寻找/v\n",
      "\t“/x\n",
      "\t一带/n\n",
      "\t一路/m\n",
      "\t”/x\n",
      "\t倡议/n\n",
      "\t和/c\n",
      "\t各国/r\n",
      "\t发展/vn\n",
      "\t战略/n\n",
      "\t之间/f\n",
      "\t的/uj\n",
      "\t契合点/n\n",
      "\t，/x\n",
      "\t并/c\n",
      "\t亲自/d\n",
      "\t发声/v\n",
      "\t排除/v\n",
      "\t外界/n\n",
      "\t对/p\n",
      "\t“/x\n",
      "\t一带/n\n",
      "\t一路/m\n",
      "\t”/x\n",
      "\t倡议/n\n",
      "\t的/uj\n",
      "\t各种/r\n",
      "\t杂音/n\n",
      "\t。/x\n",
      "\t可以/c\n",
      "\t说/v\n",
      "\t，/x\n",
      "\t共建/v\n",
      "\t“/x\n",
      "\t一带/n\n",
      "\t一路/m\n",
      "\t”/x\n",
      "\t是/v\n",
      "\t习近平/nrfg\n",
      "\t2018/m\n",
      "\t年/m\n",
      "\t外访/v\n",
      "\t行程/n\n",
      "\t的/uj\n",
      "\t一大/a\n",
      "\t中心/n\n",
      "\t主题/n\n",
      "\t。/x\n"
     ]
    }
   ],
   "source": [
    "for p in posseg.cut(test_news_2):\n",
    "    print('\\t{}'.format(p))"
   ]
  }
 ],
 "metadata": {
  "kernelspec": {
   "display_name": "Python 3",
   "language": "python",
   "name": "python3"
  },
  "language_info": {
   "codemirror_mode": {
    "name": "ipython",
    "version": 3
   },
   "file_extension": ".py",
   "mimetype": "text/x-python",
   "name": "python",
   "nbconvert_exporter": "python",
   "pygments_lexer": "ipython3",
   "version": "3.6.7"
  }
 },
 "nbformat": 4,
 "nbformat_minor": 2
}
