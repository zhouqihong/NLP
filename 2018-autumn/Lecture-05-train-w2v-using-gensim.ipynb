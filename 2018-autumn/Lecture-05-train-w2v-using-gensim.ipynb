{
 "cells": [
  {
   "cell_type": "code",
   "execution_count": 2,
   "metadata": {},
   "outputs": [
    {
     "name": "stdout",
     "output_type": "stream",
     "text": [
      "<doc id=\"13\" url=\"https://zh.wikipedia.org/wiki?curid=13\" title=\"数学\">\u001b[m\n",
      "数学\u001b[m\n",
      "\u001b[m\n",
      "数学是利用符号语言研究數量、结构、变化以及空间等概念的一門学科，从某种角度看屬於\u001b[m形式科學的一種。數學透過抽象化和邏輯推理的使用，由計數、計算、量度和對物體形狀及\u001b[m運動的觀察而產生。數學家們拓展這些概念，為了公式化新的猜想以及從選定的公理及定義\u001b[m中建立起嚴謹推導出的定理。\u001b[m\n",
      "\u001b[m\n",
      "基礎數學的知識與運用總是個人與團體生活中不可或缺的一環。對數學基本概念的完善，早\u001b[m在古埃及、美索不達米亞及古印度內的古代數學文本便可觀見，而在古希臘那裡有更為嚴謹\u001b[m的處理。從那時開始，數學的發展便持續不斷地小幅進展，至16世紀的文藝復興時期，因为\u001b[m新的科學發現和數學革新兩者的交互，致使數學的加速发展，直至今日。数学并成为許多國\u001b[m家及地區的教育範疇中的一部分。\u001b[m\n",
      "\u001b[m\n",
      "今日，數學使用在不同的領域中，包括科學、工程、醫學和經濟學等。數學對這些領域的應\u001b[m用通常被稱為應用數學，有時亦會激起新的數學發現，並導致全新學科的發展，例如物理学\u001b[m的实质性发展中建立的某些理论激发数学家对于某些问题的不同角度的思考。數學家也研究\u001b[m純數學，就是數學本身的实质性內容，而不以任何實際應用為目標。雖然許多研究以純數學\u001b[m開始，但其过程中也發現許多應用之处。\u001b[m\n",
      "\u001b[m\n",
      "\u001b[K法语中的表面複數形式'，可溯至拉丁文的中性複數'，由西塞罗譯自希臘文複數（），此一\u001b[m:\u001b[K較狹義且技術性的意思－「數學研究」，即使在其語源內。其形容詞（），意思為\u001b[m\"和學習有關的\"或\"用功的\"，亦會被用來指\"數學的\"。其在英语中表面上的複數形式，及在\u001b[m\u001b[7mwiki_00\u001b[m\u001b[K\u0007"
     ]
    }
   ],
   "source": [
    "!less wiki_00"
   ]
  },
  {
   "cell_type": "code",
   "execution_count": 3,
   "metadata": {},
   "outputs": [],
   "source": [
    "import jieba"
   ]
  },
  {
   "cell_type": "code",
   "execution_count": 21,
   "metadata": {},
   "outputs": [
    {
     "data": {
      "text/plain": [
       "20480"
      ]
     },
     "execution_count": 21,
     "metadata": {},
     "output_type": "execute_result"
    }
   ],
   "source": [
    "20 * 1024"
   ]
  },
  {
   "cell_type": "code",
   "execution_count": null,
   "metadata": {},
   "outputs": [],
   "source": []
  },
  {
   "cell_type": "code",
   "execution_count": 34,
   "metadata": {},
   "outputs": [],
   "source": [
    "def write_token_to_f(open_file, output_file):\n",
    "    words = []\n",
    "    for line in open(open_file):\n",
    "            w = list(jieba.cut(line))\n",
    "            words += w + ['\\n']\n",
    "            ## 繁体字转换成简体字\n",
    "    output_file.writelines(' '.join(words))"
   ]
  },
  {
   "cell_type": "code",
   "execution_count": 22,
   "metadata": {},
   "outputs": [],
   "source": [
    "import time"
   ]
  },
  {
   "cell_type": "code",
   "execution_count": 36,
   "metadata": {},
   "outputs": [],
   "source": [
    "target_files = os.listdir()"
   ]
  },
  {
   "cell_type": "code",
   "execution_count": 37,
   "metadata": {},
   "outputs": [
    {
     "data": {
      "text/plain": [
       "103"
      ]
     },
     "execution_count": 37,
     "metadata": {},
     "output_type": "execute_result"
    }
   ],
   "source": [
    "len(target_files)"
   ]
  },
  {
   "cell_type": "code",
   "execution_count": 39,
   "metadata": {},
   "outputs": [
    {
     "name": "stdout",
     "output_type": "stream",
     "text": [
      "processing: 0\n",
      "processing: 1\n",
      "processing: 2\n",
      "processing: 3\n",
      "processing: 4\n",
      "processing: 5\n",
      "processing: 6\n",
      "processing: 7\n",
      "processing: 8\n",
      "processing: 9\n",
      "processing: 10\n",
      "used time 37.13221096992493\n"
     ]
    }
   ],
   "source": [
    "start = time.time()\n",
    "num = 0\n",
    "with open('train_corpus.txt', 'w') as output_f:\n",
    "    for f in target_files:\n",
    "        if num > 10: break\n",
    "        if not f.startswith('wiki'): continue\n",
    "        print('processing: {}'.format(num))\n",
    "        num += 1\n",
    "        write_token_to_f(f, output_f)\n",
    "end = time.time()\n",
    "print('used time {}'.format(end - start))"
   ]
  },
  {
   "cell_type": "code",
   "execution_count": null,
   "metadata": {},
   "outputs": [],
   "source": []
  },
  {
   "cell_type": "code",
   "execution_count": 27,
   "metadata": {},
   "outputs": [
    {
     "data": {
      "text/plain": [
       "13.88888888888889"
      ]
     },
     "execution_count": 27,
     "metadata": {},
     "output_type": "execute_result"
    }
   ],
   "source": [
    "50000 / 60 / 60"
   ]
  },
  {
   "cell_type": "code",
   "execution_count": 13,
   "metadata": {},
   "outputs": [],
   "source": [
    "from gensim.models import Word2Vec"
   ]
  },
  {
   "cell_type": "code",
   "execution_count": 14,
   "metadata": {},
   "outputs": [],
   "source": [
    "from gensim.models.word2vec import LineSentence"
   ]
  },
  {
   "cell_type": "code",
   "execution_count": 42,
   "metadata": {},
   "outputs": [
    {
     "name": "stdout",
     "output_type": "stream",
     "text": [
      "15.212433099746704\n"
     ]
    }
   ],
   "source": [
    "s = time.time()\n",
    "mini_model = Word2Vec(LineSentence('train_corpus.txt'), min_count=1, size=20)\n",
    "e = time.time()\n",
    "print(e-s)"
   ]
  },
  {
   "cell_type": "code",
   "execution_count": null,
   "metadata": {},
   "outputs": [],
   "source": [
    "15.212433099746704"
   ]
  },
  {
   "cell_type": "code",
   "execution_count": null,
   "metadata": {},
   "outputs": [],
   "source": [
    "17.17259693145752"
   ]
  },
  {
   "cell_type": "code",
   "execution_count": 20,
   "metadata": {},
   "outputs": [
    {
     "data": {
      "text/plain": [
       "array([-7.45187253e-02,  6.71104863e-02, -3.94071490e-02,  2.58305907e-01,\n",
       "        1.67439789e-01, -1.27661541e-01, -5.72197065e-02, -5.13520231e-03,\n",
       "       -7.37955049e-02,  2.75697913e-02,  1.99534502e-02, -9.57847908e-02,\n",
       "        7.00447150e-03,  5.74069247e-02, -1.21884875e-01, -7.27680400e-02,\n",
       "        1.44378543e-01,  3.99285816e-02,  1.96918547e-01,  1.25484720e-01,\n",
       "       -1.84188727e-02,  9.48955119e-02, -5.84899373e-02, -1.62783116e-02,\n",
       "        1.97831774e-04, -4.66180444e-02,  3.36404778e-02,  1.59194082e-01,\n",
       "        9.94126871e-02, -5.71855940e-02,  7.27366135e-02, -2.35994514e-02,\n",
       "       -9.27945077e-02,  2.20016297e-02, -1.94813851e-02,  8.05677176e-02,\n",
       "        4.34672944e-02, -1.05179116e-01,  9.72027145e-03,  8.81317109e-02,\n",
       "       -2.02805370e-01,  9.81768686e-03,  1.79315489e-02,  2.06367984e-01,\n",
       "       -2.22934037e-01, -9.36555713e-02,  5.60774729e-02, -1.78560734e-01,\n",
       "        2.01010201e-02,  3.51538062e-02, -1.51465043e-01,  2.16691211e-01,\n",
       "       -1.30071118e-01,  9.00742859e-02,  7.66794011e-02, -4.39538658e-02,\n",
       "        1.55814603e-01,  5.38456887e-02,  5.73651791e-02, -1.24899566e-01,\n",
       "        1.30093824e-02, -1.15515992e-01, -9.35072601e-02, -7.86679983e-03,\n",
       "       -1.31961831e-03,  2.57416014e-02, -2.86572501e-02,  8.07815045e-03,\n",
       "       -2.66458075e-02, -6.83398731e-03,  1.37047321e-01, -1.04403622e-01,\n",
       "        2.40596738e-02, -9.70420241e-02,  1.83313370e-01, -1.47932153e-02,\n",
       "        2.05330998e-01,  3.67634147e-02,  8.57413784e-02,  6.18387572e-03,\n",
       "       -4.15224629e-03, -2.50020660e-02, -5.33257164e-02, -3.55745852e-02,\n",
       "        8.37093666e-02, -1.18400149e-01,  1.17793210e-01,  2.41705813e-02,\n",
       "       -9.90944356e-02, -9.25830305e-02,  1.56891614e-01, -6.15803432e-03,\n",
       "        3.09624709e-03, -2.13950742e-02,  1.74628273e-02, -1.00060552e-02,\n",
       "       -6.76816627e-02,  1.22080476e-03,  4.88918461e-02, -6.83050752e-02],\n",
       "      dtype=float32)"
      ]
     },
     "execution_count": 20,
     "metadata": {},
     "output_type": "execute_result"
    }
   ],
   "source": [
    "mini_model.wv['数字']"
   ]
  },
  {
   "cell_type": "code",
   "execution_count": 19,
   "metadata": {},
   "outputs": [
    {
     "name": "stderr",
     "output_type": "stream",
     "text": [
      "/anaconda3/envs/ibm/lib/python3.6/site-packages/ipykernel_launcher.py:1: DeprecationWarning: Call to deprecated `most_similar` (Method will be removed in 4.0.0, use self.wv.most_similar() instead).\n",
      "  \"\"\"Entry point for launching an IPython kernel.\n",
      "/anaconda3/envs/ibm/lib/python3.6/site-packages/gensim/matutils.py:737: FutureWarning: Conversion of the second argument of issubdtype from `int` to `np.signedinteger` is deprecated. In future, it will be treated as `np.int64 == np.dtype(int).type`.\n",
      "  if np.issubdtype(vec.dtype, np.int):\n"
     ]
    },
    {
     "data": {
      "text/plain": [
       "[('各个', 0.9913166761398315),\n",
       " ('价值', 0.990239143371582),\n",
       " ('科学', 0.9878900647163391),\n",
       " ('哲学', 0.9872297644615173),\n",
       " ('演绎', 0.986821174621582),\n",
       " ('商贸', 0.9853230714797974),\n",
       " ('神话', 0.9846910238265991),\n",
       " ('主权', 0.9844021201133728),\n",
       " ('支撑', 0.984088659286499),\n",
       " ('近现代', 0.9829519391059875)]"
      ]
     },
     "execution_count": 19,
     "metadata": {},
     "output_type": "execute_result"
    }
   ],
   "source": [
    "mini_model.most_similar('数学')"
   ]
  },
  {
   "cell_type": "markdown",
   "metadata": {},
   "source": [
    "## Visualization Word2Vec by T-SEN"
   ]
  },
  {
   "cell_type": "markdown",
   "metadata": {},
   "source": [
    "### Reference https://www.kaggle.com/jeffd23/visualizing-word-vectors-with-t-sne"
   ]
  }
 ],
 "metadata": {
  "kernelspec": {
   "display_name": "Python 3",
   "language": "python",
   "name": "python3"
  },
  "language_info": {
   "codemirror_mode": {
    "name": "ipython",
    "version": 3
   },
   "file_extension": ".py",
   "mimetype": "text/x-python",
   "name": "python",
   "nbconvert_exporter": "python",
   "pygments_lexer": "ipython3",
   "version": "3.6.7"
  }
 },
 "nbformat": 4,
 "nbformat_minor": 2
}
