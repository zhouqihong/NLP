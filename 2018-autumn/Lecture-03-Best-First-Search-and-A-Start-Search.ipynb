{
 "cells": [
  {
   "cell_type": "markdown",
   "metadata": {},
   "source": [
    "## Driving Map Navigator"
   ]
  },
  {
   "cell_type": "markdown",
   "metadata": {},
   "source": [
    "在中国大陆 一个人 从任意一个地方出发 我们规划一条比较合理的线路 到另外一个地方"
   ]
  },
  {
   "cell_type": "code",
   "execution_count": 61,
   "metadata": {},
   "outputs": [],
   "source": [
    "coordination_source = \"\"\"\n",
    "{name:'兰州', geoCoord:[103.73, 36.03]},\n",
    "{name:'嘉峪关', geoCoord:[98.17, 39.47]},\n",
    "{name:'西宁', geoCoord:[101.74, 36.56]},\n",
    "{name:'成都', geoCoord:[104.06, 30.67]},\n",
    "{name:'石家庄', geoCoord:[114.48, 38.03]},\n",
    "{name:'拉萨', geoCoord:[102.73, 25.04]},\n",
    "{name:'贵阳', geoCoord:[106.71, 26.57]},\n",
    "{name:'武汉', geoCoord:[114.31, 30.52]},\n",
    "{name:'郑州', geoCoord:[113.65, 34.76]},\n",
    "{name:'济南', geoCoord:[117, 36.65]},\n",
    "{name:'南京', geoCoord:[118.78, 32.04]},\n",
    "{name:'合肥', geoCoord:[117.27, 31.86]},\n",
    "{name:'杭州', geoCoord:[120.19, 30.26]},\n",
    "{name:'南昌', geoCoord:[115.89, 28.68]},\n",
    "{name:'福州', geoCoord:[119.3, 26.08]},\n",
    "{name:'广州', geoCoord:[113.23, 23.16]},\n",
    "{name:'长沙', geoCoord:[113, 28.21]},\n",
    "//{name:'海口', geoCoord:[110.35, 20.02]},\n",
    "{name:'沈阳', geoCoord:[123.38, 41.8]},\n",
    "{name:'长春', geoCoord:[125.35, 43.88]},\n",
    "{name:'哈尔滨', geoCoord:[126.63, 45.75]},\n",
    "{name:'太原', geoCoord:[112.53, 37.87]},\n",
    "{name:'西安', geoCoord:[108.95, 34.27]},\n",
    "//{name:'台湾', geoCoord:[121.30, 25.03]},\n",
    "{name:'北京', geoCoord:[116.46, 39.92]},\n",
    "{name:'上海', geoCoord:[121.48, 31.22]},\n",
    "{name:'重庆', geoCoord:[106.54, 29.59]},\n",
    "{name:'天津', geoCoord:[117.2, 39.13]},\n",
    "{name:'呼和浩特', geoCoord:[111.65, 40.82]},\n",
    "{name:'南宁', geoCoord:[108.33, 22.84]},\n",
    "//{name:'西藏', geoCoord:[91.11, 29.97]},\n",
    "{name:'银川', geoCoord:[106.27, 38.47]},\n",
    "{name:'乌鲁木齐', geoCoord:[87.68, 43.77]},\n",
    "{name:'香港', geoCoord:[114.17, 22.28]},\n",
    "{name:'澳门', geoCoord:[113.54, 22.19]}\n",
    "\"\"\""
   ]
  },
  {
   "cell_type": "markdown",
   "metadata": {},
   "source": [
    "## Parse the Coordination Text Source to dictionary data"
   ]
  },
  {
   "cell_type": "code",
   "execution_count": 62,
   "metadata": {},
   "outputs": [],
   "source": [
    "import re"
   ]
  },
  {
   "cell_type": "code",
   "execution_count": 63,
   "metadata": {},
   "outputs": [
    {
     "name": "stdout",
     "output_type": "stream",
     "text": [
      "\t ['兰州']\n",
      "\t (103.73, 36.03)\n",
      "\t ['嘉峪关']\n",
      "\t (98.17, 39.47)\n",
      "\t ['西宁']\n",
      "\t (101.74, 36.56)\n",
      "\t ['成都']\n",
      "\t (104.06, 30.67)\n",
      "\t ['石家庄']\n",
      "\t (114.48, 38.03)\n",
      "\t ['拉萨']\n",
      "\t (102.73, 25.04)\n",
      "\t ['贵阳']\n",
      "\t (106.71, 26.57)\n",
      "\t ['武汉']\n",
      "\t (114.31, 30.52)\n",
      "\t ['郑州']\n",
      "\t (113.65, 34.76)\n",
      "\t ['济南']\n",
      "\t (117.0, 36.65)\n",
      "\t ['南京']\n",
      "\t (118.78, 32.04)\n",
      "\t ['合肥']\n",
      "\t (117.27, 31.86)\n",
      "\t ['杭州']\n",
      "\t (120.19, 30.26)\n",
      "\t ['南昌']\n",
      "\t (115.89, 28.68)\n",
      "\t ['福州']\n",
      "\t (119.3, 26.08)\n",
      "\t ['广州']\n",
      "\t (113.23, 23.16)\n",
      "\t ['长沙']\n",
      "\t (113.0, 28.21)\n",
      "\t ['沈阳']\n",
      "\t (123.38, 41.8)\n",
      "\t ['长春']\n",
      "\t (125.35, 43.88)\n",
      "\t ['哈尔滨']\n",
      "\t (126.63, 45.75)\n",
      "\t ['太原']\n",
      "\t (112.53, 37.87)\n",
      "\t ['西安']\n",
      "\t (108.95, 34.27)\n",
      "\t ['北京']\n",
      "\t (116.46, 39.92)\n",
      "\t ['上海']\n",
      "\t (121.48, 31.22)\n",
      "\t ['重庆']\n",
      "\t (106.54, 29.59)\n",
      "\t ['天津']\n",
      "\t (117.2, 39.13)\n",
      "\t ['呼和浩特']\n",
      "\t (111.65, 40.82)\n",
      "\t ['南宁']\n",
      "\t (108.33, 22.84)\n",
      "\t ['银川']\n",
      "\t (106.27, 38.47)\n",
      "\t ['乌鲁木齐']\n",
      "\t (87.68, 43.77)\n",
      "\t ['香港']\n",
      "\t (114.17, 22.28)\n",
      "\t ['澳门']\n",
      "\t (113.54, 22.19)\n"
     ]
    }
   ],
   "source": [
    "city_information = {}\n",
    "\n",
    "for line in coordination_source.split('\\n'):\n",
    "    if not line.strip() or line.startswith('//'): continue\n",
    "    \n",
    "    city = re.findall(\"name:'(\\w+)'\", line)\n",
    "    x_y = re.findall(\"Coord:\\[(\\d+.\\d+),\\s(\\d+.\\d+)\\]\",line)[0]\n",
    "    x_y = tuple(map(float, x_y))\n",
    "    city_information[city[0]] = x_y\n",
    "    print('\\t', city)    \n",
    "    print('\\t', x_y)"
   ]
  },
  {
   "cell_type": "code",
   "execution_count": 44,
   "metadata": {},
   "outputs": [
    {
     "data": {
      "text/plain": [
       "{'兰州': (103.73, 36.03),\n",
       " '西宁': (101.74, 36.56),\n",
       " '成都': (104.06, 30.67),\n",
       " '石家庄': (114.48, 38.03),\n",
       " '拉萨': (102.73, 25.04),\n",
       " '贵阳': (106.71, 26.57),\n",
       " '武汉': (114.31, 30.52),\n",
       " '郑州': (113.65, 34.76),\n",
       " '济南': (117.0, 36.65),\n",
       " '南京': (118.78, 32.04),\n",
       " '合肥': (117.27, 31.86),\n",
       " '杭州': (120.19, 30.26),\n",
       " '南昌': (115.89, 28.68),\n",
       " '福州': (119.3, 26.08),\n",
       " '广州': (113.23, 23.16),\n",
       " '长沙': (113.0, 28.21),\n",
       " '沈阳': (123.38, 41.8),\n",
       " '长春': (125.35, 43.88),\n",
       " '哈尔滨': (126.63, 45.75),\n",
       " '太原': (112.53, 37.87),\n",
       " '西安': (108.95, 34.27),\n",
       " '北京': (116.46, 39.92),\n",
       " '上海': (121.48, 31.22),\n",
       " '重庆': (106.54, 29.59),\n",
       " '天津': (117.2, 39.13),\n",
       " '呼和浩特': (111.65, 40.82),\n",
       " '南宁': (108.33, 22.84),\n",
       " '银川': (106.27, 38.47),\n",
       " '乌鲁木齐': (87.68, 43.77),\n",
       " '香港': (114.17, 22.28),\n",
       " '澳门': (113.54, 22.19)}"
      ]
     },
     "execution_count": 44,
     "metadata": {},
     "output_type": "execute_result"
    }
   ],
   "source": [
    "city_information"
   ]
  },
  {
   "cell_type": "markdown",
   "metadata": {},
   "source": []
  },
  {
   "cell_type": "markdown",
   "metadata": {},
   "source": [
    "## 将经纬度坐标转换为千米"
   ]
  },
  {
   "cell_type": "code",
   "execution_count": 64,
   "metadata": {},
   "outputs": [],
   "source": [
    "import math"
   ]
  },
  {
   "cell_type": "code",
   "execution_count": 65,
   "metadata": {},
   "outputs": [],
   "source": [
    "def geo_distance(origin, destination):\n",
    "    \"\"\"\n",
    "    Calculate the Haversine distance.\n",
    "\n",
    "    Parameters\n",
    "    ----------\n",
    "    origin : tuple of float\n",
    "        (lat, long)\n",
    "    destination : tuple of float\n",
    "        (lat, long)\n",
    "\n",
    "    Returns\n",
    "    -------\n",
    "    distance_in_km : float\n",
    "\n",
    "    Examples\n",
    "    --------\n",
    "    >>> origin = (48.1372, 11.5756)  # Munich\n",
    "    >>> destination = (52.5186, 13.4083)  # Berlin\n",
    "    >>> round(distance(origin, destination), 1)\n",
    "    504.2\n",
    "    \"\"\"\n",
    "    lat1, lon1 = origin\n",
    "    lat2, lon2 = destination\n",
    "    radius = 6371  # km\n",
    "\n",
    "    dlat = math.radians(lat2 - lat1)\n",
    "    dlon = math.radians(lon2 - lon1)\n",
    "    a = (math.sin(dlat / 2) * math.sin(dlat / 2) +\n",
    "         math.cos(math.radians(lat1)) * math.cos(math.radians(lat2)) *\n",
    "         math.sin(dlon / 2) * math.sin(dlon / 2))\n",
    "    c = 2 * math.atan2(math.sqrt(a), math.sqrt(1 - a))\n",
    "    d = radius * c\n",
    "\n",
    "    return d"
   ]
  },
  {
   "cell_type": "code",
   "execution_count": 66,
   "metadata": {},
   "outputs": [],
   "source": [
    "def get_city_distance(city1, city2):\n",
    "    return geo_distance(city_information[city1], city_information[city2])"
   ]
  },
  {
   "cell_type": "code",
   "execution_count": 67,
   "metadata": {},
   "outputs": [
    {
     "data": {
      "text/plain": [
       "153.5185697155768"
      ]
     },
     "execution_count": 67,
     "metadata": {},
     "output_type": "execute_result"
    }
   ],
   "source": [
    "get_city_distance('杭州', '上海')"
   ]
  },
  {
   "cell_type": "code",
   "execution_count": 68,
   "metadata": {},
   "outputs": [],
   "source": [
    "import networkx as nx"
   ]
  },
  {
   "cell_type": "code",
   "execution_count": 69,
   "metadata": {},
   "outputs": [],
   "source": [
    "cities = list(city_information.keys())"
   ]
  },
  {
   "cell_type": "code",
   "execution_count": 70,
   "metadata": {},
   "outputs": [],
   "source": [
    "city_graph = nx.Graph()"
   ]
  },
  {
   "cell_type": "code",
   "execution_count": 71,
   "metadata": {},
   "outputs": [],
   "source": [
    "city_graph.add_nodes_from(cities)"
   ]
  },
  {
   "cell_type": "markdown",
   "metadata": {},
   "source": [
    "## Breaking Time: 10:21 Continue"
   ]
  },
  {
   "cell_type": "code",
   "execution_count": 72,
   "metadata": {},
   "outputs": [
    {
     "data": {
      "image/png": "[encoded data removed]",
      "text/plain": [
       "<Figure size 432x288 with 1 Axes>"
      ]
     },
     "metadata": {},
     "output_type": "display_data"
    }
   ],
   "source": [
    "nx.draw(city_graph, city_information, with_labels=True, node_size=10)"
   ]
  },
  {
   "cell_type": "code",
   "execution_count": 73,
   "metadata": {},
   "outputs": [
    {
     "data": {
      "text/plain": [
       "1165.8679943488457"
      ]
     },
     "execution_count": 73,
     "metadata": {},
     "output_type": "execute_result"
    }
   ],
   "source": [
    "get_city_distance('乌鲁木齐', '嘉峪关')"
   ]
  },
  {
   "cell_type": "code",
   "execution_count": 74,
   "metadata": {},
   "outputs": [
    {
     "data": {
      "text/plain": [
       "776.4154006857316"
      ]
     },
     "execution_count": 74,
     "metadata": {},
     "output_type": "execute_result"
    }
   ],
   "source": [
    "get_city_distance('沈阳', '北京')"
   ]
  },
  {
   "cell_type": "code",
   "execution_count": 75,
   "metadata": {},
   "outputs": [],
   "source": [
    "from collections import defaultdict"
   ]
  },
  {
   "cell_type": "code",
   "execution_count": 90,
   "metadata": {},
   "outputs": [],
   "source": [
    "threhold = 700\n",
    "\n",
    "cities_connection = defaultdict(list)\n",
    "\n",
    "for c in cities:\n",
    "    for c2 in cities:\n",
    "        if c == c2: continue\n",
    "        if get_city_distance(c, c2) < threhold:\n",
    "            cities_connection[c].append(c2) "
   ]
  },
  {
   "cell_type": "code",
   "execution_count": 91,
   "metadata": {},
   "outputs": [
    {
     "data": {
      "text/plain": [
       "defaultdict(list,\n",
       "            {'兰州': ['嘉峪关', '西宁', '成都', '拉萨', '贵阳', '西安', '重庆', '南宁', '银川'],\n",
       "             '嘉峪关': ['兰州', '西宁', '成都', '拉萨'],\n",
       "             '西宁': ['兰州', '嘉峪关', '成都', '拉萨', '贵阳', '重庆', '银川'],\n",
       "             '成都': ['兰州', '嘉峪关', '西宁', '拉萨', '贵阳', '西安', '重庆', '南宁', '银川'],\n",
       "             '石家庄': ['武汉',\n",
       "              '郑州',\n",
       "              '济南',\n",
       "              '南京',\n",
       "              '合肥',\n",
       "              '南昌',\n",
       "              '广州',\n",
       "              '长沙',\n",
       "              '太原',\n",
       "              '西安',\n",
       "              '北京',\n",
       "              '天津',\n",
       "              '呼和浩特'],\n",
       "             '拉萨': ['兰州', '嘉峪关', '西宁', '成都', '贵阳', '重庆', '南宁', '银川'],\n",
       "             '贵阳': ['兰州', '西宁', '成都', '拉萨', '西安', '重庆', '南宁', '银川'],\n",
       "             '武汉': ['石家庄',\n",
       "              '郑州',\n",
       "              '济南',\n",
       "              '南京',\n",
       "              '合肥',\n",
       "              '杭州',\n",
       "              '南昌',\n",
       "              '福州',\n",
       "              '广州',\n",
       "              '长沙',\n",
       "              '太原',\n",
       "              '西安',\n",
       "              '北京',\n",
       "              '天津',\n",
       "              '呼和浩特',\n",
       "              '香港',\n",
       "              '澳门'],\n",
       "             '郑州': ['石家庄',\n",
       "              '武汉',\n",
       "              '济南',\n",
       "              '南京',\n",
       "              '合肥',\n",
       "              '南昌',\n",
       "              '广州',\n",
       "              '长沙',\n",
       "              '太原',\n",
       "              '西安',\n",
       "              '北京',\n",
       "              '天津',\n",
       "              '呼和浩特',\n",
       "              '香港',\n",
       "              '澳门'],\n",
       "             '济南': ['石家庄',\n",
       "              '武汉',\n",
       "              '郑州',\n",
       "              '南京',\n",
       "              '合肥',\n",
       "              '杭州',\n",
       "              '南昌',\n",
       "              '福州',\n",
       "              '长沙',\n",
       "              '太原',\n",
       "              '北京',\n",
       "              '上海',\n",
       "              '天津',\n",
       "              '呼和浩特'],\n",
       "             '南京': ['石家庄',\n",
       "              '武汉',\n",
       "              '郑州',\n",
       "              '济南',\n",
       "              '合肥',\n",
       "              '杭州',\n",
       "              '南昌',\n",
       "              '福州',\n",
       "              '长沙',\n",
       "              '北京',\n",
       "              '上海',\n",
       "              '天津'],\n",
       "             '合肥': ['石家庄',\n",
       "              '武汉',\n",
       "              '郑州',\n",
       "              '济南',\n",
       "              '南京',\n",
       "              '杭州',\n",
       "              '南昌',\n",
       "              '福州',\n",
       "              '广州',\n",
       "              '长沙',\n",
       "              '太原',\n",
       "              '北京',\n",
       "              '上海',\n",
       "              '天津',\n",
       "              '香港',\n",
       "              '澳门'],\n",
       "             '杭州': ['武汉', '济南', '南京', '合肥', '南昌', '福州', '北京', '上海', '天津'],\n",
       "             '南昌': ['石家庄',\n",
       "              '武汉',\n",
       "              '郑州',\n",
       "              '济南',\n",
       "              '南京',\n",
       "              '合肥',\n",
       "              '杭州',\n",
       "              '福州',\n",
       "              '广州',\n",
       "              '长沙',\n",
       "              '太原',\n",
       "              '北京',\n",
       "              '上海',\n",
       "              '天津',\n",
       "              '香港',\n",
       "              '澳门'],\n",
       "             '福州': ['武汉',\n",
       "              '济南',\n",
       "              '南京',\n",
       "              '合肥',\n",
       "              '杭州',\n",
       "              '南昌',\n",
       "              '广州',\n",
       "              '上海',\n",
       "              '香港',\n",
       "              '澳门'],\n",
       "             '广州': ['石家庄',\n",
       "              '武汉',\n",
       "              '郑州',\n",
       "              '合肥',\n",
       "              '南昌',\n",
       "              '福州',\n",
       "              '长沙',\n",
       "              '太原',\n",
       "              '西安',\n",
       "              '南宁',\n",
       "              '香港',\n",
       "              '澳门'],\n",
       "             '长沙': ['石家庄',\n",
       "              '武汉',\n",
       "              '郑州',\n",
       "              '济南',\n",
       "              '南京',\n",
       "              '合肥',\n",
       "              '南昌',\n",
       "              '广州',\n",
       "              '太原',\n",
       "              '西安',\n",
       "              '北京',\n",
       "              '天津',\n",
       "              '呼和浩特',\n",
       "              '南宁',\n",
       "              '香港',\n",
       "              '澳门'],\n",
       "             '沈阳': ['长春', '哈尔滨', '上海'],\n",
       "             '长春': ['沈阳', '哈尔滨'],\n",
       "             '哈尔滨': ['沈阳', '长春'],\n",
       "             '太原': ['石家庄',\n",
       "              '武汉',\n",
       "              '郑州',\n",
       "              '济南',\n",
       "              '合肥',\n",
       "              '南昌',\n",
       "              '广州',\n",
       "              '长沙',\n",
       "              '西安',\n",
       "              '北京',\n",
       "              '天津',\n",
       "              '呼和浩特',\n",
       "              '银川',\n",
       "              '澳门'],\n",
       "             '西安': ['兰州',\n",
       "              '成都',\n",
       "              '石家庄',\n",
       "              '贵阳',\n",
       "              '武汉',\n",
       "              '郑州',\n",
       "              '广州',\n",
       "              '长沙',\n",
       "              '太原',\n",
       "              '重庆',\n",
       "              '呼和浩特',\n",
       "              '南宁',\n",
       "              '银川'],\n",
       "             '北京': ['石家庄',\n",
       "              '武汉',\n",
       "              '郑州',\n",
       "              '济南',\n",
       "              '南京',\n",
       "              '合肥',\n",
       "              '杭州',\n",
       "              '南昌',\n",
       "              '长沙',\n",
       "              '太原',\n",
       "              '天津',\n",
       "              '呼和浩特'],\n",
       "             '上海': ['济南', '南京', '合肥', '杭州', '南昌', '福州', '沈阳', '天津'],\n",
       "             '重庆': ['兰州', '西宁', '成都', '拉萨', '贵阳', '西安', '呼和浩特', '南宁', '银川'],\n",
       "             '天津': ['石家庄',\n",
       "              '武汉',\n",
       "              '郑州',\n",
       "              '济南',\n",
       "              '南京',\n",
       "              '合肥',\n",
       "              '杭州',\n",
       "              '南昌',\n",
       "              '长沙',\n",
       "              '太原',\n",
       "              '北京',\n",
       "              '上海',\n",
       "              '呼和浩特'],\n",
       "             '呼和浩特': ['石家庄',\n",
       "              '武汉',\n",
       "              '郑州',\n",
       "              '济南',\n",
       "              '长沙',\n",
       "              '太原',\n",
       "              '西安',\n",
       "              '北京',\n",
       "              '重庆',\n",
       "              '天津',\n",
       "              '银川'],\n",
       "             '南宁': ['兰州',\n",
       "              '成都',\n",
       "              '拉萨',\n",
       "              '贵阳',\n",
       "              '广州',\n",
       "              '长沙',\n",
       "              '西安',\n",
       "              '重庆',\n",
       "              '银川',\n",
       "              '香港',\n",
       "              '澳门'],\n",
       "             '银川': ['兰州',\n",
       "              '西宁',\n",
       "              '成都',\n",
       "              '拉萨',\n",
       "              '贵阳',\n",
       "              '太原',\n",
       "              '西安',\n",
       "              '重庆',\n",
       "              '呼和浩特',\n",
       "              '南宁'],\n",
       "             '香港': ['武汉', '郑州', '合肥', '南昌', '福州', '广州', '长沙', '南宁', '澳门'],\n",
       "             '澳门': ['武汉',\n",
       "              '郑州',\n",
       "              '合肥',\n",
       "              '南昌',\n",
       "              '福州',\n",
       "              '广州',\n",
       "              '长沙',\n",
       "              '太原',\n",
       "              '南宁',\n",
       "              '香港']})"
      ]
     },
     "execution_count": 91,
     "metadata": {},
     "output_type": "execute_result"
    }
   ],
   "source": [
    "cities_connection"
   ]
  },
  {
   "cell_type": "code",
   "execution_count": 92,
   "metadata": {},
   "outputs": [],
   "source": [
    "cities_connection_graph = nx.Graph(cities_connection)"
   ]
  },
  {
   "cell_type": "code",
   "execution_count": 93,
   "metadata": {},
   "outputs": [
    {
     "data": {
      "image/png": "[encoded data removed]",
      "text/plain": [
       "<Figure size 432x288 with 1 Axes>"
      ]
     },
     "metadata": {},
     "output_type": "display_data"
    }
   ],
   "source": [
    "nx.draw(cities_connection_graph, city_information, with_labels=True, node_size=2)"
   ]
  },
  {
   "cell_type": "code",
   "execution_count": 188,
   "metadata": {},
   "outputs": [],
   "source": [
    "def get_succsssors(froninter, graph):\n",
    "    return graph[froninter]"
   ]
  },
  {
   "cell_type": "code",
   "execution_count": 191,
   "metadata": {},
   "outputs": [],
   "source": [
    "def is_goal(predicate):\n",
    "    def _predicate(condition):\n",
    "        return predicate(condition)\n",
    "    return _predicate"
   ]
  },
  {
   "cell_type": "code",
   "execution_count": null,
   "metadata": {},
   "outputs": [],
   "source": [
    "def is_goal(node, destination): \n",
    "    return node ==  desitnation"
   ]
  },
  {
   "cell_type": "code",
   "execution_count": 234,
   "metadata": {},
   "outputs": [],
   "source": [
    "def search_destination(graph, start, get_succsssors, is_goal_predicate, strategy_func):\n",
    "    pathes = [[start]]\n",
    "    seen = set()\n",
    "    chosen_pathes = []\n",
    "    while pathes:\n",
    "        path = pathes.pop(0)\n",
    "        frontier = path[-1]\n",
    "        if frontier in seen: continue\n",
    "            \n",
    "        for city in get_succsssors(frontier, graph):\n",
    "            if city in path: continue # remove the loop\n",
    "            new_path = path + [city]\n",
    "            pathes.append(new_path)\n",
    "            if is_goal_predicate(city): return new_path\n",
    "        \n",
    "        pathes = strategy_func(pathes)\n",
    "        seen.add(frontier)\n",
    "    return chosen_pathes"
   ]
  },
  {
   "cell_type": "code",
   "execution_count": 194,
   "metadata": {},
   "outputs": [],
   "source": [
    "pathes = [['杭州', '济南'], ['杭州', '南京'], ['杭州', '合肥'], ['杭州', '南昌'], ['杭州', '福州'], ['杭州', '北京'], ['杭州', '上海'], ['杭州', '天津']]"
   ]
  },
  {
   "cell_type": "code",
   "execution_count": null,
   "metadata": {},
   "outputs": [],
   "source": [
    "def sort_pathes(pathes, func):\n",
    "    return sorted(pathes, key=func)[:beam]"
   ]
  },
  {
   "cell_type": "code",
   "execution_count": 196,
   "metadata": {},
   "outputs": [],
   "source": [
    "def comprehensive_sort(pathes):\n",
    "    return sort_pathes(pathes, lambda p: (len(p) + get_path_distance(p)), beam=30)"
   ]
  },
  {
   "cell_type": "code",
   "execution_count": 224,
   "metadata": {},
   "outputs": [],
   "source": [
    "def mini_change_station(pathes):\n",
    "    return sort_pathes(pathes, lambda p: len(p), beam=-1)"
   ]
  },
  {
   "cell_type": "code",
   "execution_count": 228,
   "metadata": {},
   "outputs": [],
   "source": [
    "def min_distance(pathes):\n",
    "    return sort_pathes(pathes, lambda p:get_path_distance(p), beam=-1)"
   ]
  },
  {
   "cell_type": "code",
   "execution_count": null,
   "metadata": {},
   "outputs": [],
   "source": [
    "def most_view(pathes):\n",
    "    return sor"
   ]
  },
  {
   "cell_type": "code",
   "execution_count": 233,
   "metadata": {},
   "outputs": [
    {
     "data": {
      "text/plain": [
       "['北京', '武汉', '长沙', '南宁', '拉萨']"
      ]
     },
     "execution_count": 233,
     "metadata": {},
     "output_type": "execute_result"
    }
   ],
   "source": [
    "search_destination(cities_connection_graph, '北京', get_succsssors, lambda n: n == '拉萨', comprehensive_sort)"
   ]
  },
  {
   "cell_type": "code",
   "execution_count": 232,
   "metadata": {},
   "outputs": [
    {
     "data": {
      "text/plain": [
       "['北京', '长沙', '南宁', '拉萨']"
      ]
     },
     "execution_count": 232,
     "metadata": {},
     "output_type": "execute_result"
    }
   ],
   "source": [
    "search_destination(cities_connection_graph, '北京', get_succsssors, lambda n: n == '拉萨', mini_change_station)"
   ]
  },
  {
   "cell_type": "code",
   "execution_count": 231,
   "metadata": {},
   "outputs": [
    {
     "data": {
      "text/plain": [
       "['北京', '呼和浩特', '银川', '拉萨']"
      ]
     },
     "execution_count": 231,
     "metadata": {},
     "output_type": "execute_result"
    }
   ],
   "source": [
    "search_destination(cities_connection_graph, '北京',get_succsssors,  lambda n: n == '拉萨', min_distance)"
   ]
  },
  {
   "cell_type": "code",
   "execution_count": 167,
   "metadata": {
    "scrolled": false
   },
   "outputs": [
    {
     "name": "stdout",
     "output_type": "stream",
     "text": [
      "[['杭州', '武汉'], ['杭州', '济南'], ['杭州', '南京'], ['杭州', '合肥'], ['杭州', '南昌'], ['杭州', '福州'], ['杭州', '北京'], ['杭州', '上海'], ['杭州', '天津']]\n",
      "[['杭州', '武汉', '石家庄'], ['杭州', '武汉', '郑州'], ['杭州', '武汉', '济南'], ['杭州', '武汉', '南京'], ['杭州', '武汉', '合肥'], ['杭州', '武汉', '杭州'], ['杭州', '武汉', '南昌'], ['杭州', '武汉', '福州'], ['杭州', '武汉', '广州'], ['杭州', '武汉', '长沙'], ['杭州', '武汉', '太原'], ['杭州', '武汉', '西安'], ['杭州', '武汉', '北京'], ['杭州', '武汉', '天津'], ['杭州', '武汉', '呼和浩特'], ['杭州', '武汉', '香港'], ['杭州', '武汉', '澳门'], ['杭州', '济南'], ['杭州', '南京'], ['杭州', '合肥']]\n",
      "[['杭州', '武汉', '石家庄', '武汉'], ['杭州', '武汉', '石家庄', '郑州'], ['杭州', '武汉', '石家庄', '济南'], ['杭州', '武汉', '石家庄', '南京'], ['杭州', '武汉', '石家庄', '合肥'], ['杭州', '武汉', '石家庄', '南昌'], ['杭州', '武汉', '石家庄', '广州'], ['杭州', '武汉', '石家庄', '长沙'], ['杭州', '武汉', '石家庄', '太原'], ['杭州', '武汉', '石家庄', '西安'], ['杭州', '武汉', '石家庄', '北京'], ['杭州', '武汉', '石家庄', '天津'], ['杭州', '武汉', '石家庄', '呼和浩特'], ['杭州', '武汉', '郑州'], ['杭州', '武汉', '济南'], ['杭州', '武汉', '南京'], ['杭州', '武汉', '合肥'], ['杭州', '武汉', '杭州'], ['杭州', '武汉', '南昌'], ['杭州', '武汉', '福州']]\n",
      "[['杭州', '武汉', '石家庄', '郑州', '石家庄'], ['杭州', '武汉', '石家庄', '郑州', '武汉'], ['杭州', '武汉', '石家庄', '郑州', '济南'], ['杭州', '武汉', '石家庄', '郑州', '南京'], ['杭州', '武汉', '石家庄', '郑州', '合肥'], ['杭州', '武汉', '石家庄', '郑州', '南昌'], ['杭州', '武汉', '石家庄', '郑州', '广州'], ['杭州', '武汉', '石家庄', '郑州', '长沙'], ['杭州', '武汉', '石家庄', '郑州', '太原'], ['杭州', '武汉', '石家庄', '郑州', '西安'], ['杭州', '武汉', '石家庄', '郑州', '北京'], ['杭州', '武汉', '石家庄', '郑州', '天津'], ['杭州', '武汉', '石家庄', '郑州', '呼和浩特'], ['杭州', '武汉', '石家庄', '郑州', '香港'], ['杭州', '武汉', '石家庄', '郑州', '澳门'], ['杭州', '武汉', '石家庄', '济南'], ['杭州', '武汉', '石家庄', '南京'], ['杭州', '武汉', '石家庄', '合肥'], ['杭州', '武汉', '石家庄', '南昌'], ['杭州', '武汉', '石家庄', '广州']]\n",
      "[['杭州', '武汉', '石家庄', '郑州', '济南', '石家庄'], ['杭州', '武汉', '石家庄', '郑州', '济南', '武汉'], ['杭州', '武汉', '石家庄', '郑州', '济南', '郑州'], ['杭州', '武汉', '石家庄', '郑州', '济南', '南京'], ['杭州', '武汉', '石家庄', '郑州', '济南', '合肥'], ['杭州', '武汉', '石家庄', '郑州', '济南', '杭州'], ['杭州', '武汉', '石家庄', '郑州', '济南', '南昌'], ['杭州', '武汉', '石家庄', '郑州', '济南', '福州'], ['杭州', '武汉', '石家庄', '郑州', '济南', '长沙'], ['杭州', '武汉', '石家庄', '郑州', '济南', '太原'], ['杭州', '武汉', '石家庄', '郑州', '济南', '北京'], ['杭州', '武汉', '石家庄', '郑州', '济南', '上海'], ['杭州', '武汉', '石家庄', '郑州', '济南', '天津'], ['杭州', '武汉', '石家庄', '郑州', '济南', '呼和浩特'], ['杭州', '武汉', '石家庄', '郑州', '南京'], ['杭州', '武汉', '石家庄', '郑州', '合肥'], ['杭州', '武汉', '石家庄', '郑州', '南昌'], ['杭州', '武汉', '石家庄', '郑州', '广州'], ['杭州', '武汉', '石家庄', '郑州', '长沙'], ['杭州', '武汉', '石家庄', '郑州', '太原']]\n",
      "[['杭州', '武汉', '石家庄', '郑州', '济南', '南京', '石家庄'], ['杭州', '武汉', '石家庄', '郑州', '济南', '南京', '武汉'], ['杭州', '武汉', '石家庄', '郑州', '济南', '南京', '郑州'], ['杭州', '武汉', '石家庄', '郑州', '济南', '南京', '济南'], ['杭州', '武汉', '石家庄', '郑州', '济南', '南京', '合肥'], ['杭州', '武汉', '石家庄', '郑州', '济南', '南京', '杭州'], ['杭州', '武汉', '石家庄', '郑州', '济南', '南京', '南昌'], ['杭州', '武汉', '石家庄', '郑州', '济南', '南京', '福州'], ['杭州', '武汉', '石家庄', '郑州', '济南', '南京', '长沙'], ['杭州', '武汉', '石家庄', '郑州', '济南', '南京', '北京'], ['杭州', '武汉', '石家庄', '郑州', '济南', '南京', '上海'], ['杭州', '武汉', '石家庄', '郑州', '济南', '南京', '天津'], ['杭州', '武汉', '石家庄', '郑州', '济南', '合肥'], ['杭州', '武汉', '石家庄', '郑州', '济南', '杭州'], ['杭州', '武汉', '石家庄', '郑州', '济南', '南昌'], ['杭州', '武汉', '石家庄', '郑州', '济南', '福州'], ['杭州', '武汉', '石家庄', '郑州', '济南', '长沙'], ['杭州', '武汉', '石家庄', '郑州', '济南', '太原'], ['杭州', '武汉', '石家庄', '郑州', '济南', '北京'], ['杭州', '武汉', '石家庄', '郑州', '济南', '上海']]\n",
      "[['杭州', '武汉', '石家庄', '郑州', '济南', '南京', '合肥', '石家庄'], ['杭州', '武汉', '石家庄', '郑州', '济南', '南京', '合肥', '武汉'], ['杭州', '武汉', '石家庄', '郑州', '济南', '南京', '合肥', '郑州'], ['杭州', '武汉', '石家庄', '郑州', '济南', '南京', '合肥', '济南'], ['杭州', '武汉', '石家庄', '郑州', '济南', '南京', '合肥', '南京'], ['杭州', '武汉', '石家庄', '郑州', '济南', '南京', '合肥', '杭州'], ['杭州', '武汉', '石家庄', '郑州', '济南', '南京', '合肥', '南昌'], ['杭州', '武汉', '石家庄', '郑州', '济南', '南京', '合肥', '福州'], ['杭州', '武汉', '石家庄', '郑州', '济南', '南京', '合肥', '广州'], ['杭州', '武汉', '石家庄', '郑州', '济南', '南京', '合肥', '长沙'], ['杭州', '武汉', '石家庄', '郑州', '济南', '南京', '合肥', '太原'], ['杭州', '武汉', '石家庄', '郑州', '济南', '南京', '合肥', '北京'], ['杭州', '武汉', '石家庄', '郑州', '济南', '南京', '合肥', '上海'], ['杭州', '武汉', '石家庄', '郑州', '济南', '南京', '合肥', '天津'], ['杭州', '武汉', '石家庄', '郑州', '济南', '南京', '合肥', '香港'], ['杭州', '武汉', '石家庄', '郑州', '济南', '南京', '合肥', '澳门'], ['杭州', '武汉', '石家庄', '郑州', '济南', '南京', '杭州'], ['杭州', '武汉', '石家庄', '郑州', '济南', '南京', '南昌'], ['杭州', '武汉', '石家庄', '郑州', '济南', '南京', '福州'], ['杭州', '武汉', '石家庄', '郑州', '济南', '南京', '长沙']]\n",
      "[['杭州', '武汉', '石家庄', '郑州', '济南', '南京', '合肥', '南昌', '石家庄'], ['杭州', '武汉', '石家庄', '郑州', '济南', '南京', '合肥', '南昌', '武汉'], ['杭州', '武汉', '石家庄', '郑州', '济南', '南京', '合肥', '南昌', '郑州'], ['杭州', '武汉', '石家庄', '郑州', '济南', '南京', '合肥', '南昌', '济南'], ['杭州', '武汉', '石家庄', '郑州', '济南', '南京', '合肥', '南昌', '南京'], ['杭州', '武汉', '石家庄', '郑州', '济南', '南京', '合肥', '南昌', '合肥'], ['杭州', '武汉', '石家庄', '郑州', '济南', '南京', '合肥', '南昌', '杭州'], ['杭州', '武汉', '石家庄', '郑州', '济南', '南京', '合肥', '南昌', '福州'], ['杭州', '武汉', '石家庄', '郑州', '济南', '南京', '合肥', '南昌', '广州'], ['杭州', '武汉', '石家庄', '郑州', '济南', '南京', '合肥', '南昌', '长沙'], ['杭州', '武汉', '石家庄', '郑州', '济南', '南京', '合肥', '南昌', '太原'], ['杭州', '武汉', '石家庄', '郑州', '济南', '南京', '合肥', '南昌', '北京'], ['杭州', '武汉', '石家庄', '郑州', '济南', '南京', '合肥', '南昌', '上海'], ['杭州', '武汉', '石家庄', '郑州', '济南', '南京', '合肥', '南昌', '天津'], ['杭州', '武汉', '石家庄', '郑州', '济南', '南京', '合肥', '南昌', '香港'], ['杭州', '武汉', '石家庄', '郑州', '济南', '南京', '合肥', '南昌', '澳门'], ['杭州', '武汉', '石家庄', '郑州', '济南', '南京', '合肥', '福州'], ['杭州', '武汉', '石家庄', '郑州', '济南', '南京', '合肥', '广州'], ['杭州', '武汉', '石家庄', '郑州', '济南', '南京', '合肥', '长沙'], ['杭州', '武汉', '石家庄', '郑州', '济南', '南京', '合肥', '太原']]\n",
      "[['杭州', '武汉', '石家庄', '郑州', '济南', '南京', '合肥', '南昌', '福州', '武汉'], ['杭州', '武汉', '石家庄', '郑州', '济南', '南京', '合肥', '南昌', '福州', '济南'], ['杭州', '武汉', '石家庄', '郑州', '济南', '南京', '合肥', '南昌', '福州', '南京'], ['杭州', '武汉', '石家庄', '郑州', '济南', '南京', '合肥', '南昌', '福州', '合肥'], ['杭州', '武汉', '石家庄', '郑州', '济南', '南京', '合肥', '南昌', '福州', '杭州'], ['杭州', '武汉', '石家庄', '郑州', '济南', '南京', '合肥', '南昌', '福州', '南昌'], ['杭州', '武汉', '石家庄', '郑州', '济南', '南京', '合肥', '南昌', '福州', '广州'], ['杭州', '武汉', '石家庄', '郑州', '济南', '南京', '合肥', '南昌', '福州', '上海'], ['杭州', '武汉', '石家庄', '郑州', '济南', '南京', '合肥', '南昌', '福州', '香港'], ['杭州', '武汉', '石家庄', '郑州', '济南', '南京', '合肥', '南昌', '福州', '澳门'], ['杭州', '武汉', '石家庄', '郑州', '济南', '南京', '合肥', '南昌', '广州'], ['杭州', '武汉', '石家庄', '郑州', '济南', '南京', '合肥', '南昌', '长沙'], ['杭州', '武汉', '石家庄', '郑州', '济南', '南京', '合肥', '南昌', '太原'], ['杭州', '武汉', '石家庄', '郑州', '济南', '南京', '合肥', '南昌', '北京'], ['杭州', '武汉', '石家庄', '郑州', '济南', '南京', '合肥', '南昌', '上海'], ['杭州', '武汉', '石家庄', '郑州', '济南', '南京', '合肥', '南昌', '天津'], ['杭州', '武汉', '石家庄', '郑州', '济南', '南京', '合肥', '南昌', '香港'], ['杭州', '武汉', '石家庄', '郑州', '济南', '南京', '合肥', '南昌', '澳门'], ['杭州', '武汉', '石家庄', '郑州', '济南', '南京', '合肥', '福州'], ['杭州', '武汉', '石家庄', '郑州', '济南', '南京', '合肥', '广州']]\n",
      "[['杭州', '武汉', '石家庄', '郑州', '济南', '南京', '合肥', '南昌', '福州', '广州', '石家庄'], ['杭州', '武汉', '石家庄', '郑州', '济南', '南京', '合肥', '南昌', '福州', '广州', '武汉'], ['杭州', '武汉', '石家庄', '郑州', '济南', '南京', '合肥', '南昌', '福州', '广州', '郑州'], ['杭州', '武汉', '石家庄', '郑州', '济南', '南京', '合肥', '南昌', '福州', '广州', '合肥'], ['杭州', '武汉', '石家庄', '郑州', '济南', '南京', '合肥', '南昌', '福州', '广州', '南昌'], ['杭州', '武汉', '石家庄', '郑州', '济南', '南京', '合肥', '南昌', '福州', '广州', '福州'], ['杭州', '武汉', '石家庄', '郑州', '济南', '南京', '合肥', '南昌', '福州', '广州', '长沙'], ['杭州', '武汉', '石家庄', '郑州', '济南', '南京', '合肥', '南昌', '福州', '广州', '太原'], ['杭州', '武汉', '石家庄', '郑州', '济南', '南京', '合肥', '南昌', '福州', '广州', '西安'], ['杭州', '武汉', '石家庄', '郑州', '济南', '南京', '合肥', '南昌', '福州', '广州', '南宁'], ['杭州', '武汉', '石家庄', '郑州', '济南', '南京', '合肥', '南昌', '福州', '广州', '香港'], ['杭州', '武汉', '石家庄', '郑州', '济南', '南京', '合肥', '南昌', '福州', '广州', '澳门'], ['杭州', '武汉', '石家庄', '郑州', '济南', '南京', '合肥', '南昌', '福州', '上海'], ['杭州', '武汉', '石家庄', '郑州', '济南', '南京', '合肥', '南昌', '福州', '香港'], ['杭州', '武汉', '石家庄', '郑州', '济南', '南京', '合肥', '南昌', '福州', '澳门'], ['杭州', '武汉', '石家庄', '郑州', '济南', '南京', '合肥', '南昌', '广州'], ['杭州', '武汉', '石家庄', '郑州', '济南', '南京', '合肥', '南昌', '长沙'], ['杭州', '武汉', '石家庄', '郑州', '济南', '南京', '合肥', '南昌', '太原'], ['杭州', '武汉', '石家庄', '郑州', '济南', '南京', '合肥', '南昌', '北京'], ['杭州', '武汉', '石家庄', '郑州', '济南', '南京', '合肥', '南昌', '上海']]\n",
      "[['杭州', '武汉', '石家庄', '郑州', '济南', '南京', '合肥', '南昌', '福州', '广州', '长沙', '石家庄'], ['杭州', '武汉', '石家庄', '郑州', '济南', '南京', '合肥', '南昌', '福州', '广州', '长沙', '武汉'], ['杭州', '武汉', '石家庄', '郑州', '济南', '南京', '合肥', '南昌', '福州', '广州', '长沙', '郑州'], ['杭州', '武汉', '石家庄', '郑州', '济南', '南京', '合肥', '南昌', '福州', '广州', '长沙', '济南'], ['杭州', '武汉', '石家庄', '郑州', '济南', '南京', '合肥', '南昌', '福州', '广州', '长沙', '南京'], ['杭州', '武汉', '石家庄', '郑州', '济南', '南京', '合肥', '南昌', '福州', '广州', '长沙', '合肥'], ['杭州', '武汉', '石家庄', '郑州', '济南', '南京', '合肥', '南昌', '福州', '广州', '长沙', '南昌'], ['杭州', '武汉', '石家庄', '郑州', '济南', '南京', '合肥', '南昌', '福州', '广州', '长沙', '广州'], ['杭州', '武汉', '石家庄', '郑州', '济南', '南京', '合肥', '南昌', '福州', '广州', '长沙', '太原'], ['杭州', '武汉', '石家庄', '郑州', '济南', '南京', '合肥', '南昌', '福州', '广州', '长沙', '西安'], ['杭州', '武汉', '石家庄', '郑州', '济南', '南京', '合肥', '南昌', '福州', '广州', '长沙', '北京'], ['杭州', '武汉', '石家庄', '郑州', '济南', '南京', '合肥', '南昌', '福州', '广州', '长沙', '天津'], ['杭州', '武汉', '石家庄', '郑州', '济南', '南京', '合肥', '南昌', '福州', '广州', '长沙', '呼和浩特'], ['杭州', '武汉', '石家庄', '郑州', '济南', '南京', '合肥', '南昌', '福州', '广州', '长沙', '南宁'], ['杭州', '武汉', '石家庄', '郑州', '济南', '南京', '合肥', '南昌', '福州', '广州', '长沙', '香港'], ['杭州', '武汉', '石家庄', '郑州', '济南', '南京', '合肥', '南昌', '福州', '广州', '长沙', '澳门'], ['杭州', '武汉', '石家庄', '郑州', '济南', '南京', '合肥', '南昌', '福州', '广州', '太原'], ['杭州', '武汉', '石家庄', '郑州', '济南', '南京', '合肥', '南昌', '福州', '广州', '西安'], ['杭州', '武汉', '石家庄', '郑州', '济南', '南京', '合肥', '南昌', '福州', '广州', '南宁'], ['杭州', '武汉', '石家庄', '郑州', '济南', '南京', '合肥', '南昌', '福州', '广州', '香港']]\n",
      "[['杭州', '武汉', '石家庄', '郑州', '济南', '南京', '合肥', '南昌', '福州', '广州', '长沙', '太原', '石家庄'], ['杭州', '武汉', '石家庄', '郑州', '济南', '南京', '合肥', '南昌', '福州', '广州', '长沙', '太原', '武汉'], ['杭州', '武汉', '石家庄', '郑州', '济南', '南京', '合肥', '南昌', '福州', '广州', '长沙', '太原', '郑州'], ['杭州', '武汉', '石家庄', '郑州', '济南', '南京', '合肥', '南昌', '福州', '广州', '长沙', '太原', '济南'], ['杭州', '武汉', '石家庄', '郑州', '济南', '南京', '合肥', '南昌', '福州', '广州', '长沙', '太原', '合肥'], ['杭州', '武汉', '石家庄', '郑州', '济南', '南京', '合肥', '南昌', '福州', '广州', '长沙', '太原', '南昌'], ['杭州', '武汉', '石家庄', '郑州', '济南', '南京', '合肥', '南昌', '福州', '广州', '长沙', '太原', '广州'], ['杭州', '武汉', '石家庄', '郑州', '济南', '南京', '合肥', '南昌', '福州', '广州', '长沙', '太原', '长沙'], ['杭州', '武汉', '石家庄', '郑州', '济南', '南京', '合肥', '南昌', '福州', '广州', '长沙', '太原', '西安'], ['杭州', '武汉', '石家庄', '郑州', '济南', '南京', '合肥', '南昌', '福州', '广州', '长沙', '太原', '北京'], ['杭州', '武汉', '石家庄', '郑州', '济南', '南京', '合肥', '南昌', '福州', '广州', '长沙', '太原', '天津'], ['杭州', '武汉', '石家庄', '郑州', '济南', '南京', '合肥', '南昌', '福州', '广州', '长沙', '太原', '呼和浩特'], ['杭州', '武汉', '石家庄', '郑州', '济南', '南京', '合肥', '南昌', '福州', '广州', '长沙', '太原', '银川'], ['杭州', '武汉', '石家庄', '郑州', '济南', '南京', '合肥', '南昌', '福州', '广州', '长沙', '太原', '澳门'], ['杭州', '武汉', '石家庄', '郑州', '济南', '南京', '合肥', '南昌', '福州', '广州', '长沙', '西安'], ['杭州', '武汉', '石家庄', '郑州', '济南', '南京', '合肥', '南昌', '福州', '广州', '长沙', '北京'], ['杭州', '武汉', '石家庄', '郑州', '济南', '南京', '合肥', '南昌', '福州', '广州', '长沙', '天津'], ['杭州', '武汉', '石家庄', '郑州', '济南', '南京', '合肥', '南昌', '福州', '广州', '长沙', '呼和浩特'], ['杭州', '武汉', '石家庄', '郑州', '济南', '南京', '合肥', '南昌', '福州', '广州', '长沙', '南宁'], ['杭州', '武汉', '石家庄', '郑州', '济南', '南京', '合肥', '南昌', '福州', '广州', '长沙', '香港']]\n",
      "[['杭州', '武汉', '石家庄', '郑州', '济南', '南京', '合肥', '南昌', '福州', '广州', '长沙', '太原', '西安', '兰州'], ['杭州', '武汉', '石家庄', '郑州', '济南', '南京', '合肥', '南昌', '福州', '广州', '长沙', '太原', '西安', '成都'], ['杭州', '武汉', '石家庄', '郑州', '济南', '南京', '合肥', '南昌', '福州', '广州', '长沙', '太原', '西安', '石家庄'], ['杭州', '武汉', '石家庄', '郑州', '济南', '南京', '合肥', '南昌', '福州', '广州', '长沙', '太原', '西安', '贵阳'], ['杭州', '武汉', '石家庄', '郑州', '济南', '南京', '合肥', '南昌', '福州', '广州', '长沙', '太原', '西安', '武汉'], ['杭州', '武汉', '石家庄', '郑州', '济南', '南京', '合肥', '南昌', '福州', '广州', '长沙', '太原', '西安', '郑州'], ['杭州', '武汉', '石家庄', '郑州', '济南', '南京', '合肥', '南昌', '福州', '广州', '长沙', '太原', '西安', '广州'], ['杭州', '武汉', '石家庄', '郑州', '济南', '南京', '合肥', '南昌', '福州', '广州', '长沙', '太原', '西安', '长沙'], ['杭州', '武汉', '石家庄', '郑州', '济南', '南京', '合肥', '南昌', '福州', '广州', '长沙', '太原', '西安', '太原'], ['杭州', '武汉', '石家庄', '郑州', '济南', '南京', '合肥', '南昌', '福州', '广州', '长沙', '太原', '西安', '重庆'], ['杭州', '武汉', '石家庄', '郑州', '济南', '南京', '合肥', '南昌', '福州', '广州', '长沙', '太原', '西安', '呼和浩特'], ['杭州', '武汉', '石家庄', '郑州', '济南', '南京', '合肥', '南昌', '福州', '广州', '长沙', '太原', '西安', '南宁'], ['杭州', '武汉', '石家庄', '郑州', '济南', '南京', '合肥', '南昌', '福州', '广州', '长沙', '太原', '西安', '银川'], ['杭州', '武汉', '石家庄', '郑州', '济南', '南京', '合肥', '南昌', '福州', '广州', '长沙', '太原', '北京'], ['杭州', '武汉', '石家庄', '郑州', '济南', '南京', '合肥', '南昌', '福州', '广州', '长沙', '太原', '天津'], ['杭州', '武汉', '石家庄', '郑州', '济南', '南京', '合肥', '南昌', '福州', '广州', '长沙', '太原', '呼和浩特'], ['杭州', '武汉', '石家庄', '郑州', '济南', '南京', '合肥', '南昌', '福州', '广州', '长沙', '太原', '银川'], ['杭州', '武汉', '石家庄', '郑州', '济南', '南京', '合肥', '南昌', '福州', '广州', '长沙', '太原', '澳门'], ['杭州', '武汉', '石家庄', '郑州', '济南', '南京', '合肥', '南昌', '福州', '广州', '长沙', '西安'], ['杭州', '武汉', '石家庄', '郑州', '济南', '南京', '合肥', '南昌', '福州', '广州', '长沙', '北京']]\n"
     ]
    },
    {
     "data": {
      "text/plain": [
       "['杭州',\n",
       " '武汉',\n",
       " '石家庄',\n",
       " '郑州',\n",
       " '济南',\n",
       " '南京',\n",
       " '合肥',\n",
       " '南昌',\n",
       " '福州',\n",
       " '广州',\n",
       " '长沙',\n",
       " '太原',\n",
       " '西安',\n",
       " '兰州',\n",
       " '拉萨']"
      ]
     },
     "execution_count": 167,
     "metadata": {},
     "output_type": "execute_result"
    }
   ],
   "source": [
    "search_destination(cities_connection_graph, '杭州', '拉萨')"
   ]
  },
  {
   "cell_type": "markdown",
   "metadata": {},
   "source": [
    "## Shortest Path First"
   ]
  },
  {
   "cell_type": "code",
   "execution_count": 148,
   "metadata": {},
   "outputs": [
    {
     "data": {
      "text/plain": [
       "2236.6872227810477"
      ]
     },
     "execution_count": 148,
     "metadata": {},
     "output_type": "execute_result"
    }
   ],
   "source": [
    "get_path_distance(['杭州', '武汉', '太原', '银川', '西宁'])"
   ]
  },
  {
   "cell_type": "code",
   "execution_count": null,
   "metadata": {},
   "outputs": [],
   "source": []
  },
  {
   "cell_type": "code",
   "execution_count": null,
   "metadata": {},
   "outputs": [],
   "source": []
  }
 ],
 "metadata": {
  "kernelspec": {
   "display_name": "Python 3",
   "language": "python",
   "name": "python3"
  },
  "language_info": {
   "codemirror_mode": {
    "name": "ipython",
    "version": 3
   },
   "file_extension": ".py",
   "mimetype": "text/x-python",
   "name": "python",
   "nbconvert_exporter": "python",
   "pygments_lexer": "ipython3",
   "version": "3.6.7"
  }
 },
 "nbformat": 4,
 "nbformat_minor": 2
}
