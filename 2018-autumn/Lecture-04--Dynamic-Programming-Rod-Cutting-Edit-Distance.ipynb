{
 "cells": [
  {
   "cell_type": "markdown",
   "metadata": {},
   "source": [
    "## Rod Cutting Problem"
   ]
  },
  {
   "cell_type": "code",
   "execution_count": 26,
   "metadata": {},
   "outputs": [],
   "source": [
    "from collections import defaultdict"
   ]
  },
  {
   "cell_type": "code",
   "execution_count": 90,
   "metadata": {},
   "outputs": [],
   "source": [
    "from functools import lru_cache"
   ]
  },
  {
   "cell_type": "code",
   "execution_count": 27,
   "metadata": {},
   "outputs": [],
   "source": [
    "prices = defaultdict(lambda : -float('inf'))"
   ]
  },
  {
   "cell_type": "code",
   "execution_count": 28,
   "metadata": {},
   "outputs": [],
   "source": [
    "for i, v in enumerate([1, 5, 8, 9, 10, 17, 17, 20, 24, 30]):\n",
    "    prices[i+1] = v"
   ]
  },
  {
   "cell_type": "markdown",
   "metadata": {},
   "source": []
  },
  {
   "cell_type": "markdown",
   "metadata": {},
   "source": [
    "<img src=\"slide_01.png\"></img>"
   ]
  },
  {
   "cell_type": "code",
   "execution_count": 154,
   "metadata": {},
   "outputs": [],
   "source": [
    "import random"
   ]
  },
  {
   "cell_type": "code",
   "execution_count": 155,
   "metadata": {},
   "outputs": [],
   "source": [
    "random_numbers = [(i, random.randint(-10, 20)) for i in range(10)]"
   ]
  },
  {
   "cell_type": "code",
   "execution_count": 158,
   "metadata": {},
   "outputs": [
    {
     "data": {
      "text/plain": [
       "[(0, -2),\n",
       " (1, -4),\n",
       " (2, -8),\n",
       " (3, 14),\n",
       " (4, -6),\n",
       " (5, 1),\n",
       " (6, 18),\n",
       " (7, -6),\n",
       " (8, -9),\n",
       " (9, 4)]"
      ]
     },
     "execution_count": 158,
     "metadata": {},
     "output_type": "execute_result"
    }
   ],
   "source": [
    "random_numbers"
   ]
  },
  {
   "cell_type": "code",
   "execution_count": 157,
   "metadata": {},
   "outputs": [
    {
     "data": {
      "text/plain": [
       "(6, 18)"
      ]
     },
     "execution_count": 157,
     "metadata": {},
     "output_type": "execute_result"
    }
   ],
   "source": [
    "max(random_numbers, key=lambda x: x[1])"
   ]
  },
  {
   "cell_type": "code",
   "execution_count": 159,
   "metadata": {},
   "outputs": [],
   "source": [
    "solution = {}\n",
    "\n",
    "@memo\n",
    "def revenue(r):  \n",
    "    split, r_star = max([(0, prices[r])] + [(i, revenue(i) + revenue(r-i)) for i in range(1, r)], key=lambda x: x[1])\n",
    "    solution[r] = (split, r-split)\n",
    "    return r_star"
   ]
  },
  {
   "cell_type": "code",
   "execution_count": 172,
   "metadata": {},
   "outputs": [
    {
     "data": {
      "text/plain": [
       "300"
      ]
     },
     "execution_count": 172,
     "metadata": {},
     "output_type": "execute_result"
    }
   ],
   "source": [
    "revenue(100)"
   ]
  },
  {
   "cell_type": "code",
   "execution_count": 173,
   "metadata": {},
   "outputs": [
    {
     "data": {
      "text/plain": [
       "{1: (0, 1),\n",
       " 2: (0, 2),\n",
       " 3: (0, 3),\n",
       " 4: (2, 2),\n",
       " 5: (2, 3),\n",
       " 6: (0, 6),\n",
       " 7: (1, 6),\n",
       " 8: (2, 6),\n",
       " 9: (3, 6),\n",
       " 10: (0, 10),\n",
       " 11: (1, 10),\n",
       " 12: (2, 10),\n",
       " 13: (3, 10),\n",
       " 14: (2, 12),\n",
       " 15: (2, 13),\n",
       " 16: (6, 10),\n",
       " 17: (1, 16),\n",
       " 18: (2, 16),\n",
       " 19: (3, 16),\n",
       " 20: (10, 10),\n",
       " 21: (1, 20),\n",
       " 22: (2, 20),\n",
       " 23: (3, 20),\n",
       " 24: (2, 22),\n",
       " 25: (2, 23),\n",
       " 26: (6, 20),\n",
       " 27: (1, 26),\n",
       " 28: (2, 26),\n",
       " 29: (3, 26),\n",
       " 30: (10, 20),\n",
       " 31: (1, 30),\n",
       " 32: (2, 30),\n",
       " 33: (3, 30),\n",
       " 34: (2, 32),\n",
       " 35: (2, 33),\n",
       " 36: (6, 30),\n",
       " 37: (1, 36),\n",
       " 38: (2, 36),\n",
       " 39: (3, 36),\n",
       " 40: (10, 30),\n",
       " 41: (1, 40),\n",
       " 42: (2, 40),\n",
       " 43: (3, 40),\n",
       " 44: (2, 42),\n",
       " 45: (2, 43),\n",
       " 46: (6, 40),\n",
       " 47: (1, 46),\n",
       " 48: (2, 46),\n",
       " 49: (3, 46),\n",
       " 50: (10, 40),\n",
       " 51: (1, 50),\n",
       " 52: (2, 50),\n",
       " 53: (3, 50),\n",
       " 54: (2, 52),\n",
       " 55: (2, 53),\n",
       " 56: (6, 50),\n",
       " 57: (1, 56),\n",
       " 58: (2, 56),\n",
       " 59: (3, 56),\n",
       " 60: (10, 50),\n",
       " 61: (1, 60),\n",
       " 62: (2, 60),\n",
       " 63: (3, 60),\n",
       " 64: (2, 62),\n",
       " 65: (2, 63),\n",
       " 66: (6, 60),\n",
       " 67: (1, 66),\n",
       " 68: (2, 66),\n",
       " 69: (3, 66),\n",
       " 70: (10, 60),\n",
       " 71: (1, 70),\n",
       " 72: (2, 70),\n",
       " 73: (3, 70),\n",
       " 74: (2, 72),\n",
       " 75: (2, 73),\n",
       " 76: (6, 70),\n",
       " 77: (1, 76),\n",
       " 78: (2, 76),\n",
       " 79: (3, 76),\n",
       " 80: (10, 70),\n",
       " 81: (1, 80),\n",
       " 82: (2, 80),\n",
       " 83: (3, 80),\n",
       " 84: (2, 82),\n",
       " 85: (2, 83),\n",
       " 86: (6, 80),\n",
       " 87: (1, 86),\n",
       " 88: (2, 86),\n",
       " 89: (3, 86),\n",
       " 90: (10, 80),\n",
       " 91: (1, 90),\n",
       " 92: (2, 90),\n",
       " 93: (3, 90),\n",
       " 94: (2, 92),\n",
       " 95: (2, 93),\n",
       " 96: (6, 90),\n",
       " 97: (1, 96),\n",
       " 98: (2, 96),\n",
       " 99: (3, 96),\n",
       " 100: (10, 90)}"
      ]
     },
     "execution_count": 173,
     "metadata": {},
     "output_type": "execute_result"
    }
   ],
   "source": [
    "solution"
   ]
  },
  {
   "cell_type": "code",
   "execution_count": 179,
   "metadata": {},
   "outputs": [],
   "source": [
    "def parse_solution(r, revenue_solution):    \n",
    "    left, right = revenue_solution[r]\n",
    "    \n",
    "    if left == 0: return [right]\n",
    "    \n",
    "    return [left] + parse_solution(right, revenue_solution)"
   ]
  },
  {
   "cell_type": "code",
   "execution_count": 176,
   "metadata": {},
   "outputs": [
    {
     "data": {
      "text/plain": [
       "'2 -> 6 -> 10'"
      ]
     },
     "execution_count": 176,
     "metadata": {},
     "output_type": "execute_result"
    }
   ],
   "source": [
    "def pretty_solution(splits):\n",
    "    return ' -> '.join(map(str, splits))\n",
    "\n",
    "pretty_solution(parse_solution(18, solution))"
   ]
  },
  {
   "cell_type": "code",
   "execution_count": 177,
   "metadata": {},
   "outputs": [
    {
     "data": {
      "text/plain": [
       "'1 -> 6 -> 10 -> 10 -> 10 -> 10 -> 10'"
      ]
     },
     "execution_count": 177,
     "metadata": {},
     "output_type": "execute_result"
    }
   ],
   "source": [
    "pretty_solution(parse_solution(57, solution))"
   ]
  },
  {
   "cell_type": "code",
   "execution_count": 178,
   "metadata": {},
   "outputs": [
    {
     "data": {
      "text/plain": [
       "{1: (0, 1),\n",
       " 2: (0, 2),\n",
       " 3: (0, 3),\n",
       " 4: (2, 2),\n",
       " 5: (2, 3),\n",
       " 6: (0, 6),\n",
       " 7: (1, 6),\n",
       " 8: (2, 6),\n",
       " 9: (3, 6),\n",
       " 10: (0, 10),\n",
       " 11: (1, 10),\n",
       " 12: (2, 10),\n",
       " 13: (3, 10),\n",
       " 14: (2, 12),\n",
       " 15: (2, 13),\n",
       " 16: (6, 10),\n",
       " 17: (1, 16),\n",
       " 18: (2, 16),\n",
       " 19: (3, 16),\n",
       " 20: (10, 10),\n",
       " 21: (1, 20),\n",
       " 22: (2, 20),\n",
       " 23: (3, 20),\n",
       " 24: (2, 22),\n",
       " 25: (2, 23),\n",
       " 26: (6, 20),\n",
       " 27: (1, 26),\n",
       " 28: (2, 26),\n",
       " 29: (3, 26),\n",
       " 30: (10, 20),\n",
       " 31: (1, 30),\n",
       " 32: (2, 30),\n",
       " 33: (3, 30),\n",
       " 34: (2, 32),\n",
       " 35: (2, 33),\n",
       " 36: (6, 30),\n",
       " 37: (1, 36),\n",
       " 38: (2, 36),\n",
       " 39: (3, 36),\n",
       " 40: (10, 30),\n",
       " 41: (1, 40),\n",
       " 42: (2, 40),\n",
       " 43: (3, 40),\n",
       " 44: (2, 42),\n",
       " 45: (2, 43),\n",
       " 46: (6, 40),\n",
       " 47: (1, 46),\n",
       " 48: (2, 46),\n",
       " 49: (3, 46),\n",
       " 50: (10, 40),\n",
       " 51: (1, 50),\n",
       " 52: (2, 50),\n",
       " 53: (3, 50),\n",
       " 54: (2, 52),\n",
       " 55: (2, 53),\n",
       " 56: (6, 50),\n",
       " 57: (1, 56),\n",
       " 58: (2, 56),\n",
       " 59: (3, 56),\n",
       " 60: (10, 50),\n",
       " 61: (1, 60),\n",
       " 62: (2, 60),\n",
       " 63: (3, 60),\n",
       " 64: (2, 62),\n",
       " 65: (2, 63),\n",
       " 66: (6, 60),\n",
       " 67: (1, 66),\n",
       " 68: (2, 66),\n",
       " 69: (3, 66),\n",
       " 70: (10, 60),\n",
       " 71: (1, 70),\n",
       " 72: (2, 70),\n",
       " 73: (3, 70),\n",
       " 74: (2, 72),\n",
       " 75: (2, 73),\n",
       " 76: (6, 70),\n",
       " 77: (1, 76),\n",
       " 78: (2, 76),\n",
       " 79: (3, 76),\n",
       " 80: (10, 70),\n",
       " 81: (1, 80),\n",
       " 82: (2, 80),\n",
       " 83: (3, 80),\n",
       " 84: (2, 82),\n",
       " 85: (2, 83),\n",
       " 86: (6, 80),\n",
       " 87: (1, 86),\n",
       " 88: (2, 86),\n",
       " 89: (3, 86),\n",
       " 90: (10, 80),\n",
       " 91: (1, 90),\n",
       " 92: (2, 90),\n",
       " 93: (3, 90),\n",
       " 94: (2, 92),\n",
       " 95: (2, 93),\n",
       " 96: (6, 90),\n",
       " 97: (1, 96),\n",
       " 98: (2, 96),\n",
       " 99: (3, 96),\n",
       " 100: (10, 90)}"
      ]
     },
     "execution_count": 178,
     "metadata": {},
     "output_type": "execute_result"
    }
   ],
   "source": [
    "solution"
   ]
  },
  {
   "cell_type": "code",
   "execution_count": 152,
   "metadata": {},
   "outputs": [
    {
     "name": "stdout",
     "output_type": "stream",
     "text": [
      "Help on function revenue in module __main__:\n",
      "\n",
      "revenue(r)\n",
      "    Get the optimal revenue value of length r\n",
      "\n"
     ]
    }
   ],
   "source": [
    "help(revenue)"
   ]
  },
  {
   "cell_type": "code",
   "execution_count": 151,
   "metadata": {},
   "outputs": [
    {
     "data": {
      "text/plain": [
       "301"
      ]
     },
     "execution_count": 151,
     "metadata": {},
     "output_type": "execute_result"
    }
   ],
   "source": [
    "revenue(101)"
   ]
  },
  {
   "cell_type": "code",
   "execution_count": 150,
   "metadata": {},
   "outputs": [],
   "source": [
    "from functools import wraps"
   ]
  },
  {
   "cell_type": "code",
   "execution_count": 149,
   "metadata": {},
   "outputs": [],
   "source": [
    "def memo(func):\n",
    "    cache = {} \n",
    "    @wraps(func)\n",
    "    def __wrap(*args, **kwargs):\n",
    "        str_key = str(args) + str(kwargs)\n",
    "        if str_key not in cache:\n",
    "            result = func(*args, **kwargs)\n",
    "            cache[str_key] = result\n",
    "        return cache[str_key]\n",
    "    return __wrap"
   ]
  },
  {
   "cell_type": "code",
   "execution_count": 120,
   "metadata": {},
   "outputs": [],
   "source": [
    "@memo\n",
    "def new_function(some_lst):\n",
    "    return sum(some_lst)"
   ]
  },
  {
   "cell_type": "code",
   "execution_count": 121,
   "metadata": {},
   "outputs": [
    {
     "name": "stdout",
     "output_type": "stream",
     "text": [
      "\thi, this is function: new_function\n"
     ]
    },
    {
     "data": {
      "text/plain": [
       "6"
      ]
     },
     "execution_count": 121,
     "metadata": {},
     "output_type": "execute_result"
    }
   ],
   "source": [
    "new_function([1, 2, 3])"
   ]
  },
  {
   "cell_type": "code",
   "execution_count": 87,
   "metadata": {},
   "outputs": [],
   "source": [
    "def print_hi(func):\n",
    "    def _wrap(*args, **kwargs): \n",
    "        print('\\tHi, I am function: {}'.format(func.__name__))\n",
    "        return func(*args, **kwargs)\n",
    "    return _wrap"
   ]
  },
  {
   "cell_type": "code",
   "execution_count": 88,
   "metadata": {},
   "outputs": [],
   "source": [
    "@print_hi\n",
    "def add(a, b): \n",
    "    return a + b"
   ]
  },
  {
   "cell_type": "code",
   "execution_count": 89,
   "metadata": {},
   "outputs": [
    {
     "name": "stdout",
     "output_type": "stream",
     "text": [
      "\tHi, I am function: add\n"
     ]
    },
    {
     "data": {
      "text/plain": [
       "11"
      ]
     },
     "execution_count": 89,
     "metadata": {},
     "output_type": "execute_result"
    }
   ],
   "source": [
    "add(1, 10)"
   ]
  },
  {
   "cell_type": "code",
   "execution_count": 37,
   "metadata": {},
   "outputs": [],
   "source": [
    "import time"
   ]
  },
  {
   "cell_type": "code",
   "execution_count": 43,
   "metadata": {
    "scrolled": false
   },
   "outputs": [
    {
     "name": "stdout",
     "output_type": "stream",
     "text": [
      "revenue(1) is cached\n",
      "revenue(1) is cached\n",
      "revenue(1) is cached\n",
      "revenue(1) is cached\n",
      "revenue(1) is cached\n",
      "revenue(1) is cached\n",
      "revenue(1) is cached\n",
      "revenue(1) is cached\n",
      "revenue(1) is cached\n",
      "revenue(1) is cached\n",
      "revenue(1) is cached\n",
      "revenue(1) is cached\n",
      "revenue(1) is cached\n",
      "revenue(1) is cached\n",
      "revenue(1) is cached\n",
      "revenue(15) is cached\n",
      "revenue(2) is cached\n",
      "revenue(14) is cached\n",
      "revenue(3) is cached\n",
      "revenue(13) is cached\n",
      "revenue(4) is cached\n",
      "revenue(12) is cached\n",
      "revenue(5) is cached\n",
      "revenue(11) is cached\n",
      "revenue(6) is cached\n",
      "revenue(10) is cached\n",
      "revenue(7) is cached\n",
      "revenue(9) is cached\n",
      "revenue(8) is cached\n",
      "revenue(8) is cached\n",
      "revenue(9) is cached\n",
      "revenue(7) is cached\n",
      "revenue(10) is cached\n",
      "revenue(6) is cached\n",
      "revenue(11) is cached\n",
      "revenue(5) is cached\n",
      "revenue(12) is cached\n",
      "revenue(4) is cached\n",
      "revenue(13) is cached\n",
      "revenue(3) is cached\n",
      "revenue(14) is cached\n",
      "revenue(2) is cached\n",
      "revenue(15) is cached\n",
      "revenue(1) is cached\n",
      "revenue(2) is cached\n",
      "revenue(15) is cached\n",
      "revenue(3) is cached\n",
      "revenue(14) is cached\n",
      "revenue(4) is cached\n",
      "revenue(13) is cached\n",
      "revenue(5) is cached\n",
      "revenue(12) is cached\n",
      "revenue(6) is cached\n",
      "revenue(11) is cached\n",
      "revenue(7) is cached\n",
      "revenue(10) is cached\n",
      "revenue(8) is cached\n",
      "revenue(9) is cached\n",
      "revenue(9) is cached\n",
      "revenue(8) is cached\n",
      "revenue(10) is cached\n",
      "revenue(7) is cached\n",
      "revenue(11) is cached\n",
      "revenue(6) is cached\n",
      "revenue(12) is cached\n",
      "revenue(5) is cached\n",
      "revenue(13) is cached\n",
      "revenue(4) is cached\n",
      "revenue(14) is cached\n",
      "revenue(3) is cached\n",
      "revenue(15) is cached\n",
      "revenue(2) is cached\n",
      "revenue(16) is cached\n",
      "revenue(1) is cached\n",
      "revenue(2) is cached\n",
      "revenue(16) is cached\n",
      "revenue(3) is cached\n",
      "revenue(15) is cached\n",
      "revenue(4) is cached\n",
      "revenue(14) is cached\n",
      "revenue(5) is cached\n",
      "revenue(13) is cached\n",
      "revenue(6) is cached\n",
      "revenue(12) is cached\n",
      "revenue(7) is cached\n",
      "revenue(11) is cached\n",
      "revenue(8) is cached\n",
      "revenue(10) is cached\n",
      "revenue(9) is cached\n",
      "revenue(9) is cached\n",
      "revenue(10) is cached\n",
      "revenue(8) is cached\n",
      "revenue(11) is cached\n",
      "revenue(7) is cached\n",
      "revenue(12) is cached\n",
      "revenue(6) is cached\n",
      "revenue(13) is cached\n",
      "revenue(5) is cached\n",
      "revenue(14) is cached\n",
      "revenue(4) is cached\n",
      "revenue(15) is cached\n",
      "revenue(3) is cached\n",
      "revenue(16) is cached\n",
      "revenue(2) is cached\n",
      "revenue(17) is cached\n",
      "revenue(1) is cached\n",
      "revenue(2) is cached\n",
      "revenue(17) is cached\n",
      "revenue(3) is cached\n",
      "revenue(16) is cached\n",
      "revenue(4) is cached\n",
      "revenue(15) is cached\n",
      "revenue(5) is cached\n",
      "revenue(14) is cached\n",
      "revenue(6) is cached\n",
      "revenue(13) is cached\n",
      "revenue(7) is cached\n",
      "revenue(12) is cached\n",
      "revenue(8) is cached\n",
      "revenue(11) is cached\n",
      "revenue(9) is cached\n",
      "revenue(10) is cached\n",
      "revenue(10) is cached\n",
      "revenue(9) is cached\n",
      "revenue(11) is cached\n",
      "revenue(8) is cached\n",
      "revenue(12) is cached\n",
      "revenue(7) is cached\n",
      "revenue(13) is cached\n",
      "revenue(6) is cached\n",
      "revenue(14) is cached\n",
      "revenue(5) is cached\n",
      "revenue(15) is cached\n",
      "revenue(4) is cached\n",
      "revenue(16) is cached\n",
      "revenue(3) is cached\n",
      "revenue(17) is cached\n",
      "revenue(2) is cached\n",
      "revenue(18) is cached\n",
      "revenue(1) is cached\n",
      "revenue(2) is cached\n",
      "revenue(18) is cached\n",
      "revenue(3) is cached\n",
      "revenue(17) is cached\n",
      "revenue(4) is cached\n",
      "revenue(16) is cached\n",
      "revenue(5) is cached\n",
      "revenue(15) is cached\n",
      "revenue(6) is cached\n",
      "revenue(14) is cached\n",
      "revenue(7) is cached\n",
      "revenue(13) is cached\n",
      "revenue(8) is cached\n",
      "revenue(12) is cached\n",
      "revenue(9) is cached\n",
      "revenue(11) is cached\n",
      "revenue(10) is cached\n",
      "revenue(10) is cached\n",
      "revenue(11) is cached\n",
      "revenue(9) is cached\n",
      "revenue(12) is cached\n",
      "revenue(8) is cached\n",
      "revenue(13) is cached\n",
      "revenue(7) is cached\n",
      "revenue(14) is cached\n",
      "revenue(6) is cached\n",
      "revenue(15) is cached\n",
      "revenue(5) is cached\n",
      "revenue(16) is cached\n",
      "revenue(4) is cached\n",
      "revenue(17) is cached\n",
      "revenue(3) is cached\n",
      "revenue(18) is cached\n",
      "revenue(2) is cached\n",
      "revenue(19) is cached\n",
      "revenue(1) is cached\n",
      "revenue(2) is cached\n",
      "revenue(19) is cached\n",
      "revenue(3) is cached\n",
      "revenue(18) is cached\n",
      "revenue(4) is cached\n",
      "revenue(17) is cached\n",
      "revenue(5) is cached\n",
      "revenue(16) is cached\n",
      "revenue(6) is cached\n",
      "revenue(15) is cached\n",
      "revenue(7) is cached\n",
      "revenue(14) is cached\n",
      "revenue(8) is cached\n",
      "revenue(13) is cached\n",
      "revenue(9) is cached\n",
      "revenue(12) is cached\n",
      "revenue(10) is cached\n",
      "revenue(11) is cached\n",
      "revenue(11) is cached\n",
      "revenue(10) is cached\n",
      "revenue(12) is cached\n",
      "revenue(9) is cached\n",
      "revenue(13) is cached\n",
      "revenue(8) is cached\n",
      "revenue(14) is cached\n",
      "revenue(7) is cached\n",
      "revenue(15) is cached\n",
      "revenue(6) is cached\n",
      "revenue(16) is cached\n",
      "revenue(5) is cached\n",
      "revenue(17) is cached\n",
      "revenue(4) is cached\n",
      "revenue(18) is cached\n",
      "revenue(3) is cached\n",
      "revenue(19) is cached\n",
      "revenue(2) is cached\n",
      "revenue(20) is cached\n",
      "revenue(1) is cached\n",
      "revenue(2) is cached\n",
      "revenue(20) is cached\n",
      "revenue(3) is cached\n",
      "revenue(19) is cached\n",
      "revenue(4) is cached\n",
      "revenue(18) is cached\n",
      "revenue(5) is cached\n",
      "revenue(17) is cached\n",
      "revenue(6) is cached\n",
      "revenue(16) is cached\n",
      "revenue(7) is cached\n",
      "revenue(15) is cached\n",
      "revenue(8) is cached\n",
      "revenue(14) is cached\n",
      "revenue(9) is cached\n",
      "revenue(13) is cached\n",
      "revenue(10) is cached\n",
      "revenue(12) is cached\n",
      "revenue(11) is cached\n",
      "revenue(11) is cached\n",
      "revenue(12) is cached\n",
      "revenue(10) is cached\n",
      "revenue(13) is cached\n",
      "revenue(9) is cached\n",
      "revenue(14) is cached\n",
      "revenue(8) is cached\n",
      "revenue(15) is cached\n",
      "revenue(7) is cached\n",
      "revenue(16) is cached\n",
      "revenue(6) is cached\n",
      "revenue(17) is cached\n",
      "revenue(5) is cached\n",
      "revenue(18) is cached\n",
      "revenue(4) is cached\n",
      "revenue(19) is cached\n",
      "revenue(3) is cached\n",
      "revenue(20) is cached\n",
      "revenue(2) is cached\n",
      "revenue(21) is cached\n",
      "revenue(1) is cached\n",
      "revenue(2) is cached\n",
      "revenue(21) is cached\n",
      "revenue(3) is cached\n",
      "revenue(20) is cached\n",
      "revenue(4) is cached\n",
      "revenue(19) is cached\n",
      "revenue(5) is cached\n",
      "revenue(18) is cached\n",
      "revenue(6) is cached\n",
      "revenue(17) is cached\n",
      "revenue(7) is cached\n",
      "revenue(16) is cached\n",
      "revenue(8) is cached\n",
      "revenue(15) is cached\n",
      "revenue(9) is cached\n",
      "revenue(14) is cached\n",
      "revenue(10) is cached\n",
      "revenue(13) is cached\n",
      "revenue(11) is cached\n",
      "revenue(12) is cached\n",
      "revenue(12) is cached\n",
      "revenue(11) is cached\n",
      "revenue(13) is cached\n",
      "revenue(10) is cached\n",
      "revenue(14) is cached\n",
      "revenue(9) is cached\n",
      "revenue(15) is cached\n",
      "revenue(8) is cached\n",
      "revenue(16) is cached\n",
      "revenue(7) is cached\n",
      "revenue(17) is cached\n",
      "revenue(6) is cached\n",
      "revenue(18) is cached\n",
      "revenue(5) is cached\n",
      "revenue(19) is cached\n",
      "revenue(4) is cached\n",
      "revenue(20) is cached\n",
      "revenue(3) is cached\n",
      "revenue(21) is cached\n",
      "revenue(2) is cached\n",
      "revenue(22) is cached\n",
      "revenue(1) is cached\n",
      "revenue(2) is cached\n",
      "revenue(22) is cached\n",
      "revenue(3) is cached\n",
      "revenue(21) is cached\n",
      "revenue(4) is cached\n",
      "revenue(20) is cached\n",
      "revenue(5) is cached\n",
      "revenue(19) is cached\n",
      "revenue(6) is cached\n",
      "revenue(18) is cached\n",
      "revenue(7) is cached\n",
      "revenue(17) is cached\n",
      "revenue(8) is cached\n",
      "revenue(16) is cached\n",
      "revenue(9) is cached\n",
      "revenue(15) is cached\n",
      "revenue(10) is cached\n",
      "revenue(14) is cached\n",
      "revenue(11) is cached\n",
      "revenue(13) is cached\n",
      "revenue(12) is cached\n",
      "revenue(12) is cached\n",
      "revenue(13) is cached\n",
      "revenue(11) is cached\n",
      "revenue(14) is cached\n",
      "revenue(10) is cached\n",
      "revenue(15) is cached\n",
      "revenue(9) is cached\n",
      "revenue(16) is cached\n",
      "revenue(8) is cached\n",
      "revenue(17) is cached\n",
      "revenue(7) is cached\n",
      "revenue(18) is cached\n",
      "revenue(6) is cached\n",
      "revenue(19) is cached\n",
      "revenue(5) is cached\n",
      "revenue(20) is cached\n",
      "revenue(4) is cached\n",
      "revenue(21) is cached\n",
      "revenue(3) is cached\n",
      "revenue(22) is cached\n",
      "revenue(2) is cached\n",
      "revenue(23) is cached\n",
      "revenue(1) is cached\n",
      "revenue(2) is cached\n",
      "revenue(23) is cached\n",
      "revenue(3) is cached\n",
      "revenue(22) is cached\n",
      "revenue(4) is cached\n",
      "revenue(21) is cached\n",
      "revenue(5) is cached\n",
      "revenue(20) is cached\n",
      "revenue(6) is cached\n",
      "revenue(19) is cached\n",
      "revenue(7) is cached\n",
      "revenue(18) is cached\n",
      "revenue(8) is cached\n",
      "revenue(17) is cached\n",
      "revenue(9) is cached\n",
      "revenue(16) is cached\n",
      "revenue(10) is cached\n",
      "revenue(15) is cached\n",
      "revenue(11) is cached\n",
      "revenue(14) is cached\n",
      "revenue(12) is cached\n",
      "revenue(13) is cached\n",
      "revenue(13) is cached\n",
      "revenue(12) is cached\n",
      "revenue(14) is cached\n",
      "revenue(11) is cached\n",
      "revenue(15) is cached\n",
      "revenue(10) is cached\n",
      "revenue(16) is cached\n",
      "revenue(9) is cached\n",
      "revenue(17) is cached\n",
      "revenue(8) is cached\n",
      "revenue(18) is cached\n",
      "revenue(7) is cached\n",
      "revenue(19) is cached\n",
      "revenue(6) is cached\n",
      "revenue(20) is cached\n",
      "revenue(5) is cached\n",
      "revenue(21) is cached\n",
      "revenue(4) is cached\n",
      "revenue(22) is cached\n",
      "revenue(3) is cached\n",
      "revenue(23) is cached\n",
      "revenue(2) is cached\n",
      "revenue(24) is cached\n",
      "revenue(1) is cached\n",
      "revenue(2) is cached\n",
      "revenue(24) is cached\n",
      "revenue(3) is cached\n",
      "revenue(23) is cached\n",
      "revenue(4) is cached\n",
      "revenue(22) is cached\n",
      "revenue(5) is cached\n",
      "revenue(21) is cached\n",
      "revenue(6) is cached\n",
      "revenue(20) is cached\n",
      "revenue(7) is cached\n",
      "revenue(19) is cached\n",
      "revenue(8) is cached\n",
      "revenue(18) is cached\n",
      "revenue(9) is cached\n",
      "revenue(17) is cached\n",
      "revenue(10) is cached\n",
      "revenue(16) is cached\n",
      "revenue(11) is cached\n",
      "revenue(15) is cached\n",
      "revenue(12) is cached\n",
      "revenue(14) is cached\n",
      "revenue(13) is cached\n",
      "revenue(13) is cached\n",
      "revenue(14) is cached\n",
      "revenue(12) is cached\n",
      "revenue(15) is cached\n",
      "revenue(11) is cached\n",
      "revenue(16) is cached\n",
      "revenue(10) is cached\n",
      "revenue(17) is cached\n",
      "revenue(9) is cached\n",
      "revenue(18) is cached\n",
      "revenue(8) is cached\n",
      "revenue(19) is cached\n",
      "revenue(7) is cached\n",
      "revenue(20) is cached\n",
      "revenue(6) is cached\n",
      "revenue(21) is cached\n",
      "revenue(5) is cached\n",
      "revenue(22) is cached\n",
      "revenue(4) is cached\n",
      "revenue(23) is cached\n",
      "revenue(3) is cached\n",
      "revenue(24) is cached\n",
      "revenue(2) is cached\n",
      "revenue(25) is cached\n",
      "revenue(1) is cached\n",
      "revenue(2) is cached\n",
      "revenue(25) is cached\n",
      "revenue(3) is cached\n",
      "revenue(24) is cached\n",
      "revenue(4) is cached\n",
      "revenue(23) is cached\n",
      "revenue(5) is cached\n",
      "revenue(22) is cached\n",
      "revenue(6) is cached\n",
      "revenue(21) is cached\n",
      "revenue(7) is cached\n",
      "revenue(20) is cached\n",
      "revenue(8) is cached\n",
      "revenue(19) is cached\n",
      "revenue(9) is cached\n",
      "revenue(18) is cached\n",
      "revenue(10) is cached\n",
      "revenue(17) is cached\n",
      "revenue(11) is cached\n",
      "revenue(16) is cached\n",
      "revenue(12) is cached\n",
      "revenue(15) is cached\n",
      "revenue(13) is cached\n",
      "revenue(14) is cached\n",
      "revenue(14) is cached\n",
      "revenue(13) is cached\n",
      "revenue(15) is cached\n",
      "revenue(12) is cached\n",
      "revenue(16) is cached\n",
      "revenue(11) is cached\n",
      "revenue(17) is cached\n",
      "revenue(10) is cached\n",
      "revenue(18) is cached\n",
      "revenue(9) is cached\n",
      "revenue(19) is cached\n",
      "revenue(8) is cached\n",
      "revenue(20) is cached\n",
      "revenue(7) is cached\n",
      "revenue(21) is cached\n",
      "revenue(6) is cached\n",
      "revenue(22) is cached\n",
      "revenue(5) is cached\n",
      "revenue(23) is cached\n",
      "revenue(4) is cached\n",
      "revenue(24) is cached\n",
      "revenue(3) is cached\n",
      "revenue(25) is cached\n",
      "revenue(2) is cached\n",
      "revenue(26) is cached\n",
      "revenue(1) is cached\n",
      "revenue(2) is cached\n",
      "revenue(26) is cached\n",
      "revenue(3) is cached\n",
      "revenue(25) is cached\n",
      "revenue(4) is cached\n",
      "revenue(24) is cached\n",
      "revenue(5) is cached\n",
      "revenue(23) is cached\n",
      "revenue(6) is cached\n",
      "revenue(22) is cached\n",
      "revenue(7) is cached\n",
      "revenue(21) is cached\n",
      "revenue(8) is cached\n",
      "revenue(20) is cached\n",
      "revenue(9) is cached\n",
      "revenue(19) is cached\n",
      "revenue(10) is cached\n",
      "revenue(18) is cached\n",
      "revenue(11) is cached\n",
      "revenue(17) is cached\n",
      "revenue(12) is cached\n",
      "revenue(16) is cached\n",
      "revenue(13) is cached\n",
      "revenue(15) is cached\n",
      "revenue(14) is cached\n",
      "revenue(14) is cached\n",
      "revenue(15) is cached\n",
      "revenue(13) is cached\n",
      "revenue(16) is cached\n",
      "revenue(12) is cached\n",
      "revenue(17) is cached\n",
      "revenue(11) is cached\n",
      "revenue(18) is cached\n",
      "revenue(10) is cached\n",
      "revenue(19) is cached\n",
      "revenue(9) is cached\n",
      "revenue(20) is cached\n",
      "revenue(8) is cached\n",
      "revenue(21) is cached\n",
      "revenue(7) is cached\n",
      "revenue(22) is cached\n",
      "revenue(6) is cached\n",
      "revenue(23) is cached\n",
      "revenue(5) is cached\n",
      "revenue(24) is cached\n",
      "revenue(4) is cached\n",
      "revenue(25) is cached\n",
      "revenue(3) is cached\n",
      "revenue(26) is cached\n",
      "revenue(2) is cached\n",
      "revenue(27) is cached\n",
      "revenue(1) is cached\n",
      "revenue(2) is cached\n",
      "revenue(27) is cached\n",
      "revenue(3) is cached\n",
      "revenue(26) is cached\n",
      "revenue(4) is cached\n",
      "revenue(25) is cached\n",
      "revenue(5) is cached\n",
      "revenue(24) is cached\n",
      "revenue(6) is cached\n",
      "revenue(23) is cached\n",
      "revenue(7) is cached\n",
      "revenue(22) is cached\n",
      "revenue(8) is cached\n",
      "revenue(21) is cached\n",
      "revenue(9) is cached\n",
      "revenue(20) is cached\n",
      "revenue(10) is cached\n",
      "revenue(19) is cached\n",
      "revenue(11) is cached\n",
      "revenue(18) is cached\n",
      "revenue(12) is cached\n",
      "revenue(17) is cached\n",
      "revenue(13) is cached\n",
      "revenue(16) is cached\n",
      "revenue(14) is cached\n",
      "revenue(15) is cached\n",
      "revenue(15) is cached\n",
      "revenue(14) is cached\n",
      "revenue(16) is cached\n",
      "revenue(13) is cached\n",
      "revenue(17) is cached\n",
      "revenue(12) is cached\n",
      "revenue(18) is cached\n",
      "revenue(11) is cached\n",
      "revenue(19) is cached\n",
      "revenue(10) is cached\n",
      "revenue(20) is cached\n",
      "revenue(9) is cached\n",
      "revenue(21) is cached\n",
      "revenue(8) is cached\n",
      "revenue(22) is cached\n",
      "revenue(7) is cached\n",
      "revenue(23) is cached\n",
      "revenue(6) is cached\n",
      "revenue(24) is cached\n",
      "revenue(5) is cached\n",
      "revenue(25) is cached\n",
      "revenue(4) is cached\n",
      "revenue(26) is cached\n",
      "revenue(3) is cached\n",
      "revenue(27) is cached\n",
      "revenue(2) is cached\n",
      "revenue(28) is cached\n",
      "revenue(1) is cached\n",
      "revenue(2) is cached\n",
      "revenue(28) is cached\n",
      "revenue(3) is cached\n",
      "revenue(27) is cached\n",
      "revenue(4) is cached\n",
      "revenue(26) is cached\n",
      "revenue(5) is cached\n",
      "revenue(25) is cached\n",
      "revenue(6) is cached\n",
      "revenue(24) is cached\n",
      "revenue(7) is cached\n",
      "revenue(23) is cached\n",
      "revenue(8) is cached\n",
      "revenue(22) is cached\n",
      "revenue(9) is cached\n",
      "revenue(21) is cached\n",
      "revenue(10) is cached\n",
      "revenue(20) is cached\n",
      "revenue(11) is cached\n",
      "revenue(19) is cached\n",
      "revenue(12) is cached\n",
      "revenue(18) is cached\n",
      "revenue(13) is cached\n",
      "revenue(17) is cached\n",
      "revenue(14) is cached\n",
      "revenue(16) is cached\n",
      "revenue(15) is cached\n",
      "revenue(15) is cached\n",
      "revenue(16) is cached\n",
      "revenue(14) is cached\n",
      "revenue(17) is cached\n",
      "revenue(13) is cached\n",
      "revenue(18) is cached\n",
      "revenue(12) is cached\n",
      "revenue(19) is cached\n",
      "revenue(11) is cached\n",
      "revenue(20) is cached\n",
      "revenue(10) is cached\n",
      "revenue(21) is cached\n",
      "revenue(9) is cached\n",
      "revenue(22) is cached\n",
      "revenue(8) is cached\n",
      "revenue(23) is cached\n",
      "revenue(7) is cached\n",
      "revenue(24) is cached\n",
      "revenue(6) is cached\n",
      "revenue(25) is cached\n",
      "revenue(5) is cached\n",
      "revenue(26) is cached\n",
      "revenue(4) is cached\n",
      "revenue(27) is cached\n",
      "revenue(3) is cached\n",
      "revenue(28) is cached\n",
      "revenue(2) is cached\n",
      "revenue(29) is cached\n",
      "revenue(1) is cached\n",
      "used time: 0.01897907257080078\n"
     ]
    }
   ],
   "source": [
    "start = time.time()\n",
    "revenue(30)\n",
    "print('used time: {}'.format(time.time() - start))"
   ]
  },
  {
   "cell_type": "markdown",
   "metadata": {},
   "source": [
    "## Edit Distance"
   ]
  },
  {
   "cell_type": "code",
   "execution_count": 206,
   "metadata": {},
   "outputs": [],
   "source": [
    "@memo\n",
    "def get_edit_distance(string1, string2):\n",
    "    \n",
    "    if len(string1) == 0: return len(string2)\n",
    "    if len(string2) == 0: return len(string1)\n",
    "    \n",
    "    return min(\n",
    "        [get_edit_distance(string1[:-1], string2) + 1, \n",
    "         get_edit_distance(string1, string2[:-1]) + 1, \n",
    "         get_edit_distance(string1[:-1], string2[:-1]) + (0 if string1[-1] == string2[-1] else 2)]\n",
    "    )"
   ]
  },
  {
   "cell_type": "code",
   "execution_count": 207,
   "metadata": {},
   "outputs": [
    {
     "data": {
      "text/plain": [
       "2"
      ]
     },
     "execution_count": 207,
     "metadata": {},
     "output_type": "execute_result"
    }
   ],
   "source": [
    "get_edit_distance('biejing', 'beijing')"
   ]
  },
  {
   "cell_type": "code",
   "execution_count": 208,
   "metadata": {},
   "outputs": [
    {
     "data": {
      "text/plain": [
       "5"
      ]
     },
     "execution_count": 208,
     "metadata": {},
     "output_type": "execute_result"
    }
   ],
   "source": [
    "get_edit_distance('biejing', 'beijie')"
   ]
  },
  {
   "cell_type": "code",
   "execution_count": 209,
   "metadata": {},
   "outputs": [
    {
     "data": {
      "text/plain": [
       "3"
      ]
     },
     "execution_count": 209,
     "metadata": {},
     "output_type": "execute_result"
    }
   ],
   "source": [
    "get_edit_distance('biejing', 'beijin')"
   ]
  },
  {
   "cell_type": "markdown",
   "metadata": {},
   "source": [
    "## More about Dynamic Programming"
   ]
  },
  {
   "cell_type": "markdown",
   "metadata": {},
   "source": [
    "If you want to to know more about Dynamic Programming, you may refer the `Introduction to Algorithms` by CLRS"
   ]
  },
  {
   "cell_type": "markdown",
   "metadata": {},
   "source": [
    "## Optional 自己尝试一下 VRP Problem"
   ]
  },
  {
   "cell_type": "code",
   "execution_count": 211,
   "metadata": {},
   "outputs": [],
   "source": [
    "import random"
   ]
  },
  {
   "cell_type": "code",
   "execution_count": 212,
   "metadata": {},
   "outputs": [],
   "source": [
    "import matplotlib.pylab as plt"
   ]
  },
  {
   "cell_type": "code",
   "execution_count": 213,
   "metadata": {},
   "outputs": [],
   "source": [
    "latitudes = [random.randint(-100, 100) for _ in range(20)]\n",
    "longitude = [random.randint(-100, 100) for _ in range(20)]"
   ]
  },
  {
   "cell_type": "code",
   "execution_count": 214,
   "metadata": {},
   "outputs": [
    {
     "data": {
      "text/plain": [
       "<matplotlib.collections.PathCollection at 0x115c735f8>"
      ]
     },
     "execution_count": 214,
     "metadata": {},
     "output_type": "execute_result"
    },
    {
     "data": {
      "image/png": "[encoded data removed]",
      "text/plain": [
       "<Figure size 432x288 with 1 Axes>"
      ]
     },
     "metadata": {},
     "output_type": "display_data"
    }
   ],
   "source": [
    "plt.scatter(latitudes, longitude)"
   ]
  },
  {
   "cell_type": "code",
   "execution_count": 215,
   "metadata": {},
   "outputs": [],
   "source": [
    "cars_number = 4"
   ]
  },
  {
   "cell_type": "markdown",
   "metadata": {},
   "source": [
    "## input: the latitudes and longitude of some some points, and the number `k` of cars will travel for this. Please given"
   ]
  }
 ],
 "metadata": {
  "kernelspec": {
   "display_name": "Python 3",
   "language": "python",
   "name": "python3"
  },
  "language_info": {
   "codemirror_mode": {
    "name": "ipython",
    "version": 3
   },
   "file_extension": ".py",
   "mimetype": "text/x-python",
   "name": "python",
   "nbconvert_exporter": "python",
   "pygments_lexer": "ipython3",
   "version": "3.6.5"
  }
 },
 "nbformat": 4,
 "nbformat_minor": 2
}
