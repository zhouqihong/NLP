{
 "cells": [
  {
   "cell_type": "markdown",
   "metadata": {},
   "source": [
    "## Task Oriented Chatbot"
   ]
  },
  {
   "cell_type": "markdown",
   "metadata": {},
   "source": [
    "+ Background\n",
    "+ Pipeline\n",
    "+ Question Parsing\n",
    "+ Question Parsing and Generating\n",
    "+ Information Retrieval \n",
    "+ Mul-round QA"
   ]
  },
  {
   "cell_type": "code",
   "execution_count": 1,
   "metadata": {},
   "outputs": [],
   "source": [
    "import random"
   ]
  },
  {
   "cell_type": "code",
   "execution_count": 20,
   "metadata": {},
   "outputs": [],
   "source": [
    "## 1. pattern :> customer's input\n",
    "## 2. response :> host's output"
   ]
  },
  {
   "cell_type": "code",
   "execution_count": 163,
   "metadata": {},
   "outputs": [],
   "source": [
    "human = \"\"\"\n",
    "human = 自己 寻找 活动\n",
    "自己 = 我 | 俺 | 我们 \n",
    "寻找 = 看看 | 找找 | 想找点\n",
    "活动 = 乐子 | 玩的\n",
    "\"\"\""
   ]
  },
  {
   "cell_type": "code",
   "execution_count": 164,
   "metadata": {},
   "outputs": [],
   "source": [
    "number_response = \"\"\"\n",
    "number_response = 你能做什么 几号\n",
    "\"\"\""
   ]
  },
  {
   "cell_type": "code",
   "execution_count": 165,
   "metadata": {},
   "outputs": [],
   "source": [
    "host = \"\"\"\n",
    "host = 寒暄 报数 询问 业务相关 结尾 \n",
    "报数 = 我是 数字 号 ,\n",
    "数字 = 单个数字 | 数字 单个数字 \n",
    "单个数字 = 1 | 2 | 3 | 4 | 5 | 6 | 7 | 8 | 9 \n",
    "寒暄 = 称谓 打招呼 | 打招呼\n",
    "称谓 = 人称 ,\n",
    "人称 = 先生 | 女士 | 小朋友\n",
    "打招呼 = 你好 | 您好 \n",
    "询问 = 请问你要 | 您需要\n",
    "业务相关 = 玩玩 具体业务\n",
    "玩玩 = 耍一耍 | 玩一玩\n",
    "具体业务 = 喝酒 | 打牌 | 打猎 | 赌博\n",
    "结尾 = 吗？\"\"\""
   ]
  },
  {
   "cell_type": "code",
   "execution_count": 146,
   "metadata": {},
   "outputs": [
    {
     "data": {
      "text/plain": [
       "'我是2号'"
      ]
     },
     "execution_count": 146,
     "metadata": {},
     "output_type": "execute_result"
    }
   ],
   "source": [
    "'我是 2 号'"
   ]
  },
  {
   "cell_type": "code",
   "execution_count": 148,
   "metadata": {},
   "outputs": [
    {
     "data": {
      "text/plain": [
       "'先生你好'"
      ]
     },
     "execution_count": 148,
     "metadata": {},
     "output_type": "execute_result"
    }
   ],
   "source": [
    "'先生 你好'"
   ]
  },
  {
   "cell_type": "code",
   "execution_count": 152,
   "metadata": {},
   "outputs": [],
   "source": [
    "human_pattern = {}\n",
    "host_pattern = {}\n",
    "\n",
    "def generate_grammer(grammer_define, grammer_pattern):\n",
    "    for line in grammer_define.split('\\n'):\n",
    "        if not line: continue\n",
    "        key, rules = line.split('=')\n",
    "        key = key.strip()\n",
    "        rules = rules.split('|')\n",
    "        grammer_pattern[key] = rules\n",
    "        grammer_pattern[key] = [r.split() for r in rules]\n",
    "    return grammer_pattern"
   ]
  },
  {
   "cell_type": "code",
   "execution_count": 153,
   "metadata": {},
   "outputs": [
    {
     "data": {
      "text/plain": [
       "{'host': [['寒暄', '报数', '询问', '业务相关', '结尾']],\n",
       " '报数': [['我是', '数字', '号', ',']],\n",
       " '数字': [['1'], ['2'], ['3'], ['4'], ['5'], ['6'], ['7'], ['8'], ['9']],\n",
       " '寒暄': [['称谓', '打招呼'], ['打招呼']],\n",
       " '称谓': [['人称', ',']],\n",
       " '人称': [['先生'], ['女士'], ['小朋友']],\n",
       " '打招呼': [['你好'], ['您好']],\n",
       " '询问': [['请问你要'], ['您需要']],\n",
       " '业务相关': [['玩玩', '具体业务']],\n",
       " '玩玩': [['耍一耍'], ['玩一玩']],\n",
       " '具体业务': [['喝酒'], ['打牌'], ['打猎'], ['赌博']],\n",
       " '结尾': [['吗？']]}"
      ]
     },
     "execution_count": 153,
     "metadata": {},
     "output_type": "execute_result"
    }
   ],
   "source": [
    "generate_grammer(host, host_pattern)"
   ]
  },
  {
   "cell_type": "code",
   "execution_count": 154,
   "metadata": {},
   "outputs": [
    {
     "data": {
      "text/plain": [
       "{'human': [['自己', '寻找', '活动']],\n",
       " '自己': [['我'], ['俺'], ['我们']],\n",
       " '寻找': [['看看'], ['找找'], ['想找点']],\n",
       " '活动': [['乐子'], ['玩的']]}"
      ]
     },
     "execution_count": 154,
     "metadata": {},
     "output_type": "execute_result"
    }
   ],
   "source": [
    "generate_grammer(human, human_pattern)"
   ]
  },
  {
   "cell_type": "markdown",
   "metadata": {},
   "source": [
    "## Data Driven\n",
    "## Logic Programming"
   ]
  },
  {
   "cell_type": "code",
   "execution_count": 100,
   "metadata": {},
   "outputs": [
    {
     "data": {
      "text/plain": [
       "{'sentence': [['寒暄', '报数', '询问', '业务相关', '结尾']],\n",
       " '报数': [['我是', '数字', '号', ',']],\n",
       " '数字': [['1'], ['2'], ['3'], ['4'], ['5'], ['6'], ['7'], ['8'], ['9']],\n",
       " '寒暄': [['称谓', '打招呼'], ['打招呼']],\n",
       " '称谓': [['人称', ',']],\n",
       " '人称': [['先生'], ['女士'], ['小朋友']],\n",
       " '打招呼': [['你好'], ['您好']],\n",
       " '询问': [['请问你要'], ['您需要']],\n",
       " '业务相关': [['具体业务', '业务']],\n",
       " '具体业务': [['喝酒'], ['打牌'], ['打猎'], ['赌博']],\n",
       " '结尾': [['吗？']]}"
      ]
     },
     "execution_count": 100,
     "metadata": {},
     "output_type": "execute_result"
    }
   ],
   "source": [
    "host_pattern"
   ]
  },
  {
   "cell_type": "code",
   "execution_count": 101,
   "metadata": {},
   "outputs": [
    {
     "data": {
      "text/plain": [
       "{'sentence': [['自己', '寻找', '活动']],\n",
       " '自己': [['我'], ['俺'], ['我们']],\n",
       " '寻找': [['看看'], ['找找'], ['想找点']],\n",
       " '活动': [['乐子'], ['玩的']]}"
      ]
     },
     "execution_count": 101,
     "metadata": {},
     "output_type": "execute_result"
    }
   ],
   "source": [
    "human_pattern"
   ]
  },
  {
   "cell_type": "code",
   "execution_count": 177,
   "metadata": {},
   "outputs": [],
   "source": [
    "def generate(p, target):\n",
    "    if target not in p: return target\n",
    "    \n",
    "    sub_target = random.choice(p[target])\n",
    "    return ' '.join(generate(p, r) for r in sub_target)"
   ]
  },
  {
   "cell_type": "code",
   "execution_count": 178,
   "metadata": {},
   "outputs": [
    {
     "data": {
      "text/plain": [
       "'俺 想找点 乐子'"
      ]
     },
     "execution_count": 178,
     "metadata": {},
     "output_type": "execute_result"
    }
   ],
   "source": [
    "generate(human_pattern, 'human')"
   ]
  },
  {
   "cell_type": "code",
   "execution_count": 180,
   "metadata": {},
   "outputs": [
    {
     "data": {
      "text/plain": [
       "'女士 , 你好 我是 4 号 , 请问你要 耍一耍 赌博 吗？'"
      ]
     },
     "execution_count": 180,
     "metadata": {},
     "output_type": "execute_result"
    }
   ],
   "source": [
    "generate(host_pattern, 'host')"
   ]
  },
  {
   "cell_type": "markdown",
   "metadata": {},
   "source": [
    "## response pattern"
   ]
  },
  {
   "cell_type": "code",
   "execution_count": null,
   "metadata": {},
   "outputs": [],
   "source": [
    "input_sentence = ''\n",
    "output_"
   ]
  },
  {
   "cell_type": "markdown",
   "metadata": {},
   "source": [
    "## 1. Tokenize"
   ]
  },
  {
   "cell_type": "markdown",
   "metadata": {},
   "source": [
    "## 2. How to get the root? "
   ]
  },
  {
   "cell_type": "code",
   "execution_count": null,
   "metadata": {},
   "outputs": [],
   "source": [
    "host_response = \"\"\"\n",
    "\"\"\""
   ]
  },
  {
   "cell_type": "code",
   "execution_count": 143,
   "metadata": {},
   "outputs": [],
   "source": [
    "QA = ('human', 'host')\n",
    "QA = ('host', 'host_respon')"
   ]
  },
  {
   "cell_type": "code",
   "execution_count": 168,
   "metadata": {},
   "outputs": [],
   "source": [
    "def find_pattern_name(sentence): \n",
    "    \"\"\"get the fit pattern name given a stence\"\"\"\n",
    "    pass"
   ]
  },
  {
   "cell_type": "code",
   "execution_count": 169,
   "metadata": {},
   "outputs": [
    {
     "ename": "AssertionError",
     "evalue": "",
     "output_type": "error",
     "traceback": [
      "\u001b[0;31m---------------------------------------------------------------------------\u001b[0m",
      "\u001b[0;31mAssertionError\u001b[0m                            Traceback (most recent call last)",
      "\u001b[0;32m<ipython-input-169-632060de46fc>\u001b[0m in \u001b[0;36m<module>\u001b[0;34m()\u001b[0m\n\u001b[0;32m----> 1\u001b[0;31m \u001b[0;32massert\u001b[0m \u001b[0mfind_pattern_name\u001b[0m\u001b[0;34m(\u001b[0m\u001b[0;34m'先生,您好我是8号,请问你要耍一耍打牌吗？'\u001b[0m\u001b[0;34m)\u001b[0m \u001b[0;34m==\u001b[0m \u001b[0;34m'host'\u001b[0m\u001b[0;34m\u001b[0m\u001b[0m\n\u001b[0m\u001b[1;32m      2\u001b[0m \u001b[0;32massert\u001b[0m \u001b[0mfind_pattern_name\u001b[0m\u001b[0;34m(\u001b[0m\u001b[0;34m'俺想找点乐子'\u001b[0m\u001b[0;34m)\u001b[0m \u001b[0;34m==\u001b[0m \u001b[0;34m'human'\u001b[0m\u001b[0;34m\u001b[0m\u001b[0m\n\u001b[1;32m      3\u001b[0m \u001b[0;32massert\u001b[0m \u001b[0mfind_pattern_name\u001b[0m\u001b[0;34m(\u001b[0m\u001b[0;34m'我是9号,'\u001b[0m\u001b[0;34m)\u001b[0m \u001b[0;34m==\u001b[0m \u001b[0;34m'报数'\u001b[0m\u001b[0;34m\u001b[0m\u001b[0m\n",
      "\u001b[0;31mAssertionError\u001b[0m: "
     ]
    }
   ],
   "source": [
    "assert find_pattern_name('先生,您好我是8号,请问你要耍一耍打牌吗？') == 'host'\n",
    "assert find_pattern_name('俺想找点乐子') == 'human'\n",
    "assert find_pattern_name('我是9号,') == '报数'"
   ]
  },
  {
   "cell_type": "code",
   "execution_count": 170,
   "metadata": {},
   "outputs": [
    {
     "data": {
      "text/plain": [
       "'你好我是1号,请问你要耍一耍打牌吗？'"
      ]
     },
     "execution_count": 170,
     "metadata": {},
     "output_type": "execute_result"
    }
   ],
   "source": [
    "generate(host_pattern, 'host')"
   ]
  },
  {
   "cell_type": "code",
   "execution_count": null,
   "metadata": {},
   "outputs": [],
   "source": [
    "'human' ==》 host"
   ]
  },
  {
   "cell_type": "code",
   "execution_count": 171,
   "metadata": {},
   "outputs": [],
   "source": [
    "cact = ''.join"
   ]
  },
  {
   "cell_type": "code",
   "execution_count": 173,
   "metadata": {},
   "outputs": [
    {
     "data": {
      "text/plain": [
       "{'host': [['寒暄', '报数', '询问', '业务相关', '结尾']],\n",
       " '报数': [['我是', '数字', '号', ',']],\n",
       " '数字': [['1'], ['2'], ['3'], ['4'], ['5'], ['6'], ['7'], ['8'], ['9']],\n",
       " '寒暄': [['称谓', '打招呼'], ['打招呼']],\n",
       " '称谓': [['人称', ',']],\n",
       " '人称': [['先生'], ['女士'], ['小朋友']],\n",
       " '打招呼': [['你好'], ['您好']],\n",
       " '询问': [['请问你要'], ['您需要']],\n",
       " '业务相关': [['玩玩', '具体业务']],\n",
       " '玩玩': [['耍一耍'], ['玩一玩']],\n",
       " '具体业务': [['喝酒'], ['打牌'], ['打猎'], ['赌博']],\n",
       " '结尾': [['吗？']]}"
      ]
     },
     "execution_count": 173,
     "metadata": {},
     "output_type": "execute_result"
    }
   ],
   "source": [
    "host_pattern"
   ]
  },
  {
   "cell_type": "code",
   "execution_count": 224,
   "metadata": {},
   "outputs": [],
   "source": [
    "## pattern mapper reverse\n",
    "\n",
    "token_stmt_mapper = {}\n",
    "human_stmt_mapper = {}\n",
    "\n",
    "def get_stmt_mapper(pattern):\n",
    "    token_stmt_mapper = {}\n",
    "    for k, v in pattern.items():\n",
    "        for candidate in v:\n",
    "            token_stmt_mapper[cact(candidate).strip()] = k\n",
    "    return token_stmt_mapper\n",
    "    "
   ]
  },
  {
   "cell_type": "code",
   "execution_count": 227,
   "metadata": {},
   "outputs": [],
   "source": [
    "human_stmt_mapper = get_stmt_mapper(human_pattern)\n",
    "host_stmt_mapper = get_stmt_mapper(host_pattern)"
   ]
  },
  {
   "cell_type": "code",
   "execution_count": 228,
   "metadata": {},
   "outputs": [
    {
     "data": {
      "text/plain": [
       "{'寒暄报数询问业务相关结尾': 'host',\n",
       " '我是数字号,': '报数',\n",
       " '1': '数字',\n",
       " '2': '数字',\n",
       " '3': '数字',\n",
       " '4': '数字',\n",
       " '5': '数字',\n",
       " '6': '数字',\n",
       " '7': '数字',\n",
       " '8': '数字',\n",
       " '9': '数字',\n",
       " '称谓打招呼': '寒暄',\n",
       " '打招呼': '寒暄',\n",
       " '人称,': '称谓',\n",
       " '先生': '人称',\n",
       " '女士': '人称',\n",
       " '小朋友': '人称',\n",
       " '你好': '打招呼',\n",
       " '您好': '打招呼',\n",
       " '请问你要': '询问',\n",
       " '您需要': '询问',\n",
       " '玩玩具体业务': '业务相关',\n",
       " '耍一耍': '玩玩',\n",
       " '玩一玩': '玩玩',\n",
       " '喝酒': '具体业务',\n",
       " '打牌': '具体业务',\n",
       " '打猎': '具体业务',\n",
       " '赌博': '具体业务',\n",
       " '吗？': '结尾'}"
      ]
     },
     "execution_count": 228,
     "metadata": {},
     "output_type": "execute_result"
    }
   ],
   "source": [
    "host_stmt_mapper"
   ]
  },
  {
   "cell_type": "code",
   "execution_count": 175,
   "metadata": {},
   "outputs": [
    {
     "data": {
      "text/plain": [
       "{'寒暄报数询问业务相关结尾': 'host',\n",
       " '我是数字号,': '报数',\n",
       " '1': '数字',\n",
       " '2': '数字',\n",
       " '3': '数字',\n",
       " '4': '数字',\n",
       " '5': '数字',\n",
       " '6': '数字',\n",
       " '7': '数字',\n",
       " '8': '数字',\n",
       " '9': '数字',\n",
       " '称谓打招呼': '寒暄',\n",
       " '打招呼': '寒暄',\n",
       " '人称,': '称谓',\n",
       " '先生': '人称',\n",
       " '女士': '人称',\n",
       " '小朋友': '人称',\n",
       " '你好': '打招呼',\n",
       " '您好': '打招呼',\n",
       " '请问你要': '询问',\n",
       " '您需要': '询问',\n",
       " '玩玩具体业务': '业务相关',\n",
       " '耍一耍': '玩玩',\n",
       " '玩一玩': '玩玩',\n",
       " '喝酒': '具体业务',\n",
       " '打牌': '具体业务',\n",
       " '打猎': '具体业务',\n",
       " '赌博': '具体业务',\n",
       " '吗？': '结尾'}"
      ]
     },
     "execution_count": 175,
     "metadata": {},
     "output_type": "execute_result"
    }
   ],
   "source": [
    "token_stmt_mapper"
   ]
  },
  {
   "cell_type": "code",
   "execution_count": 237,
   "metadata": {},
   "outputs": [
    {
     "data": {
      "text/plain": [
       "{'host': [['寒暄', '报数', '询问', '业务相关', '结尾']],\n",
       " '报数': [['我是', '数字', '号', ',']],\n",
       " '数字': [['1'], ['2'], ['3'], ['4'], ['5'], ['6'], ['7'], ['8'], ['9']],\n",
       " '寒暄': [['称谓', '打招呼'], ['打招呼']],\n",
       " '称谓': [['人称', ',']],\n",
       " '人称': [['先生'], ['女士'], ['小朋友']],\n",
       " '打招呼': [['你好'], ['您好']],\n",
       " '询问': [['请问你要'], ['您需要']],\n",
       " '业务相关': [['玩玩', '具体业务']],\n",
       " '玩玩': [['耍一耍'], ['玩一玩']],\n",
       " '具体业务': [['喝酒'], ['打牌'], ['打猎'], ['赌博']],\n",
       " '结尾': [['吗？']]}"
      ]
     },
     "execution_count": 237,
     "metadata": {},
     "output_type": "execute_result"
    }
   ],
   "source": [
    "host_pattern"
   ]
  },
  {
   "cell_type": "code",
   "execution_count": 240,
   "metadata": {},
   "outputs": [
    {
     "data": {
      "text/plain": [
       "{'host': [['寒暄', '报数', '询问', '业务相关', '结尾']],\n",
       " '报数': [['我是', '数字', '号', ',']],\n",
       " '数字': [['1'], ['2'], ['3'], ['4'], ['5'], ['6'], ['7'], ['8'], ['9']],\n",
       " '寒暄': [['称谓', '打招呼'], ['打招呼']],\n",
       " '称谓': [['人称', ',']],\n",
       " '人称': [['先生'], ['女士'], ['小朋友']],\n",
       " '打招呼': [['你好'], ['您好']],\n",
       " '询问': [['请问你要'], ['您需要']],\n",
       " '业务相关': [['玩玩', '具体业务']],\n",
       " '玩玩': [['耍一耍'], ['玩一玩']],\n",
       " '具体业务': [['喝酒'], ['打牌'], ['打猎'], ['赌博']],\n",
       " '结尾': [['吗？']]}"
      ]
     },
     "execution_count": 240,
     "metadata": {},
     "output_type": "execute_result"
    }
   ],
   "source": [
    "token_stmt_mapper"
   ]
  },
  {
   "cell_type": "code",
   "execution_count": 238,
   "metadata": {},
   "outputs": [],
   "source": [
    "def get_parent(token):\n",
    "    if token in token_stmt_mapper: return get_parent(token_stmt_mapper[token])\n",
    "    else:\n",
    "        return token\n",
    "    \n",
    "def parse_tokens(tokens):\n",
    "    find_parents_tokens = [get_parent(t) for t in tokens]\n",
    "    return find_parents_tokens\n",
    "\n",
    "cact = ''.join\n",
    "\n",
    "def find_longest_match(tokens_with_stmts):\n",
    "    fit_indices = [i for i in range(len(tokens_with_stmts)+1) if cact(tokens_with_stmts[:i]) in token_stmt_mapper]\n",
    "    if fit_indices: return max(fit_indices)\n",
    "    else: return 1\n",
    "\n",
    "\n",
    "def merge_tokens_one_epoch(tokens_with_stmts):\n",
    "    if len(tokens_with_stmts) == 0: return []\n",
    "\n",
    "    index = find_longest_match(tokens_with_stmts)\n",
    "    return [cact(tokens_with_stmts[:index])] + merge_tokens_one_epoch(tokens_with_stmts[index:])\n",
    "\n",
    "def merge_tokens(tokens_with_stmts):\n",
    "    merged_one_epoch = merge_tokens_one_epoch(tokens_with_stmts)\n",
    "    merged_one_epoch = parse_tokens(merged_one_epoch)\n",
    "    \n",
    "    if len(merged_one_epoch) == 1: return merged_one_epoch[0]\n",
    "    elif merged_one_epoch != tokens_with_stmts:\n",
    "        return merge_tokens(merged_one_epoch)\n",
    "    else:\n",
    "        raise TypeError('these tokens cannot parsed as a statement', merged_one_epoch)"
   ]
  },
  {
   "cell_type": "code",
   "execution_count": 242,
   "metadata": {},
   "outputs": [],
   "source": [
    "t = ['你好', '我是' ,'8' ,'号' ',', '请问你要', '玩一玩', '赌博', '吗？']"
   ]
  },
  {
   "cell_type": "code",
   "execution_count": 243,
   "metadata": {},
   "outputs": [
    {
     "data": {
      "text/plain": [
       "1"
      ]
     },
     "execution_count": 243,
     "metadata": {},
     "output_type": "execute_result"
    }
   ],
   "source": [
    "find_longest_match(t)"
   ]
  },
  {
   "cell_type": "code",
   "execution_count": 194,
   "metadata": {},
   "outputs": [],
   "source": [
    "import jieba"
   ]
  },
  {
   "cell_type": "code",
   "execution_count": 195,
   "metadata": {},
   "outputs": [],
   "source": [
    "def cut(string): return list(jieba.cut(string))"
   ]
  },
  {
   "cell_type": "code",
   "execution_count": 234,
   "metadata": {},
   "outputs": [
    {
     "data": {
      "text/plain": [
       "'我 想找点 乐子'"
      ]
     },
     "execution_count": 234,
     "metadata": {},
     "output_type": "execute_result"
    }
   ],
   "source": [
    "generate(human_pattern, 'human')"
   ]
  },
  {
   "cell_type": "markdown",
   "metadata": {},
   "source": [
    "## Recap"
   ]
  },
  {
   "cell_type": "markdown",
   "metadata": {},
   "source": [
    "## 1. 对话机器人"
   ]
  },
  {
   "cell_type": "markdown",
   "metadata": {},
   "source": [
    "## 2. 信息检索式的\n",
    "#### 1. 信息如何获取, Dependancy Parsing, NER, ...  Web, \n",
    "#### 2. 短文本匹配\n",
    "#### 3. 根据找到的问题回答\n"
   ]
  },
  {
   "cell_type": "markdown",
   "metadata": {},
   "source": [
    "## 3. 基于模式识别的\n",
    "#### 1. Syntax Tree\n",
    "#### 2. 自动机的理论去解析\n",
    "#### 3. DSF, Bottom-Top(Deducation)\n",
    "#### 4. response_mapper = {'pattern-1': 'pattern-2', 'pattern-3': 'pattern-4'}\n"
   ]
  },
  {
   "cell_type": "markdown",
   "metadata": {},
   "source": [
    "## 4. 意图识别"
   ]
  },
  {
   "cell_type": "markdown",
   "metadata": {},
   "source": [
    "### 1. Classification\n",
    "### 2. Sklearning(Bayes, DTree), (CNN, RNN, GRU)\n",
    "\n",
    "\n",
    "+ '飞猪上买的机票怎么退' ==> '机票'('飞猪')\n",
    "+ '我想办信用卡' ==> '银行' \n",
    "+ '附近有什么吃的' ==> '餐饮'"
   ]
  },
  {
   "cell_type": "markdown",
   "metadata": {},
   "source": [
    "可以用到的信息： \n",
    "+ \"身份信息， 登录历史\" \n",
    "\n",
    "### Intention"
   ]
  }
 ],
 "metadata": {
  "kernelspec": {
   "display_name": "Python 3",
   "language": "python",
   "name": "python3"
  },
  "language_info": {
   "codemirror_mode": {
    "name": "ipython",
    "version": 3
   },
   "file_extension": ".py",
   "mimetype": "text/x-python",
   "name": "python",
   "nbconvert_exporter": "python",
   "pygments_lexer": "ipython3",
   "version": "3.6.5"
  }
 },
 "nbformat": 4,
 "nbformat_minor": 2
}
